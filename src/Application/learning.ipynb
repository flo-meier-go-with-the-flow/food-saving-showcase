{
 "cells": [
  {
   "cell_type": "code",
   "execution_count": 32,
   "metadata": {
    "collapsed": true
   },
   "outputs": [
    {
     "data": {
      "text/plain": "datetime.date(2023, 1, 9)"
     },
     "execution_count": 32,
     "metadata": {},
     "output_type": "execute_result"
    }
   ],
   "source": [
    "import os\n",
    "import pandas as pd\n",
    "import pickle\n",
    "import tools\n",
    "from datetime import date\n",
    "import numpy as np\n",
    "\n",
    "\n",
    "date(year=2023,month=1,day=9)"
   ]
  },
  {
   "cell_type": "code",
   "execution_count": 35,
   "outputs": [],
   "source": [
    "os.getcwd()\n",
    "features=pd.read_pickle('data/features_2023.pkl')\n",
    "features.loc[date(year=2023,month=1,day=9),'log_num_people_11_30']=np.nan\n",
    "with open('data/features_2023.pkl','wb') as file:\n",
    "    pickle.dump(features,file)\n"
   ],
   "metadata": {
    "collapsed": false
   }
  },
  {
   "cell_type": "code",
   "execution_count": 37,
   "outputs": [
    {
     "data": {
      "text/plain": "            log_num_people_11_30  zuehlke_day  before_after_holydays\n2022-03-01              5.068904          0.0                    0.0\n2022-03-02              5.075174          0.0                    0.0\n2022-03-03              4.882802          0.0                    0.0\n2022-03-04              4.465908          0.0                    0.0\n2022-03-07              4.882802          0.0                    0.0\n...                          ...          ...                    ...\n2023-12-26                   NaN          0.0                    0.0\n2023-12-27                   NaN          0.0                    0.0\n2023-12-28                   NaN          0.0                    0.0\n2023-12-29                   NaN          0.0                    0.0\n2024-01-01                   NaN          0.0                    0.0\n\n[480 rows x 3 columns]",
      "text/html": "<div>\n<style scoped>\n    .dataframe tbody tr th:only-of-type {\n        vertical-align: middle;\n    }\n\n    .dataframe tbody tr th {\n        vertical-align: top;\n    }\n\n    .dataframe thead th {\n        text-align: right;\n    }\n</style>\n<table border=\"1\" class=\"dataframe\">\n  <thead>\n    <tr style=\"text-align: right;\">\n      <th></th>\n      <th>log_num_people_11_30</th>\n      <th>zuehlke_day</th>\n      <th>before_after_holydays</th>\n    </tr>\n  </thead>\n  <tbody>\n    <tr>\n      <th>2022-03-01</th>\n      <td>5.068904</td>\n      <td>0.0</td>\n      <td>0.0</td>\n    </tr>\n    <tr>\n      <th>2022-03-02</th>\n      <td>5.075174</td>\n      <td>0.0</td>\n      <td>0.0</td>\n    </tr>\n    <tr>\n      <th>2022-03-03</th>\n      <td>4.882802</td>\n      <td>0.0</td>\n      <td>0.0</td>\n    </tr>\n    <tr>\n      <th>2022-03-04</th>\n      <td>4.465908</td>\n      <td>0.0</td>\n      <td>0.0</td>\n    </tr>\n    <tr>\n      <th>2022-03-07</th>\n      <td>4.882802</td>\n      <td>0.0</td>\n      <td>0.0</td>\n    </tr>\n    <tr>\n      <th>...</th>\n      <td>...</td>\n      <td>...</td>\n      <td>...</td>\n    </tr>\n    <tr>\n      <th>2023-12-26</th>\n      <td>NaN</td>\n      <td>0.0</td>\n      <td>0.0</td>\n    </tr>\n    <tr>\n      <th>2023-12-27</th>\n      <td>NaN</td>\n      <td>0.0</td>\n      <td>0.0</td>\n    </tr>\n    <tr>\n      <th>2023-12-28</th>\n      <td>NaN</td>\n      <td>0.0</td>\n      <td>0.0</td>\n    </tr>\n    <tr>\n      <th>2023-12-29</th>\n      <td>NaN</td>\n      <td>0.0</td>\n      <td>0.0</td>\n    </tr>\n    <tr>\n      <th>2024-01-01</th>\n      <td>NaN</td>\n      <td>0.0</td>\n      <td>0.0</td>\n    </tr>\n  </tbody>\n</table>\n<p>480 rows × 3 columns</p>\n</div>"
     },
     "execution_count": 37,
     "metadata": {},
     "output_type": "execute_result"
    }
   ],
   "source": [
    "features=pd.read_pickle('data/features_2023.pkl')\n",
    "features"
   ],
   "metadata": {
    "collapsed": false
   }
  },
  {
   "cell_type": "code",
   "execution_count": 36,
   "outputs": [
    {
     "ename": "Exception",
     "evalue": "There are nan values in the features",
     "output_type": "error",
     "traceback": [
      "\u001B[1;31m---------------------------------------------------------------------------\u001B[0m",
      "\u001B[1;31mException\u001B[0m                                 Traceback (most recent call last)",
      "Cell \u001B[1;32mIn[36], line 3\u001B[0m\n\u001B[0;32m      1\u001B[0m result\u001B[38;5;241m=\u001B[39m \u001B[38;5;28mlen\u001B[39m(features[\u001B[38;5;124m'\u001B[39m\u001B[38;5;124mlog_num_people_11_30\u001B[39m\u001B[38;5;124m'\u001B[39m]\u001B[38;5;241m.\u001B[39mdropna())\n\u001B[0;32m      2\u001B[0m \u001B[38;5;28;01mif\u001B[39;00m features[\u001B[38;5;124m'\u001B[39m\u001B[38;5;124mlog_num_people_11_30\u001B[39m\u001B[38;5;124m'\u001B[39m]\u001B[38;5;241m.\u001B[39miloc[\u001B[38;5;241m0\u001B[39m:result]\u001B[38;5;241m.\u001B[39misnull()\u001B[38;5;241m.\u001B[39many():\n\u001B[1;32m----> 3\u001B[0m     \u001B[38;5;28;01mraise\u001B[39;00m \u001B[38;5;167;01mException\u001B[39;00m(\u001B[38;5;124m\"\u001B[39m\u001B[38;5;124mThere are nan values in the features\u001B[39m\u001B[38;5;124m\"\u001B[39m)\n\u001B[0;32m      5\u001B[0m features\u001B[38;5;241m.\u001B[39miloc[result]\n",
      "\u001B[1;31mException\u001B[0m: There are nan values in the features"
     ]
    }
   ],
   "source": [
    "result= len(features['log_num_people_11_30'].dropna())\n",
    "if features['log_num_people_11_30'].iloc[0:result].isnull().any():\n",
    "    raise Exception(\"There are nan values in the features\")\n",
    "\n",
    "features.iloc[result]"
   ],
   "metadata": {
    "collapsed": false
   }
  },
  {
   "cell_type": "code",
   "execution_count": 39,
   "outputs": [
    {
     "data": {
      "text/plain": "log_num_people_11_30     4.644233\nzuehlke_day              0.000000\nbefore_after_holydays    0.000000\nName: 2022-12-30, dtype: float64"
     },
     "execution_count": 39,
     "metadata": {},
     "output_type": "execute_result"
    }
   ],
   "source": [
    "features.iloc[result]"
   ],
   "metadata": {
    "collapsed": false
   }
  },
  {
   "cell_type": "code",
   "execution_count": 49,
   "outputs": [
    {
     "data": {
      "text/plain": "datetime.datetime(2023, 1, 5, 16, 37, 12, 660569)"
     },
     "execution_count": 49,
     "metadata": {},
     "output_type": "execute_result"
    }
   ],
   "source": [
    "from datetime import datetime\n",
    "datetime.now()"
   ],
   "metadata": {
    "collapsed": false
   }
  },
  {
   "cell_type": "code",
   "execution_count": 47,
   "outputs": [
    {
     "data": {
      "text/plain": "            log_num_people_11_30  zuehlke_day  before_after_holydays  \\\n2022-03-01              5.068904          0.0                    0.0   \n2022-03-02              5.075174          0.0                    0.0   \n2022-03-03              4.882802          0.0                    0.0   \n2022-03-04              4.465908          0.0                    0.0   \n2022-03-07              4.882802          0.0                    0.0   \n...                          ...          ...                    ...   \n2023-12-26                   NaN          0.0                    0.0   \n2023-12-27                   NaN          0.0                    0.0   \n2023-12-28                   NaN          0.0                    0.0   \n2023-12-29                   NaN          0.0                    0.0   \n2024-01-01                   NaN          0.0                    0.0   \n\n            predictions  \n2022-03-01          NaN  \n2022-03-02          NaN  \n2022-03-03          NaN  \n2022-03-04          NaN  \n2022-03-07          NaN  \n...                 ...  \n2023-12-26          NaN  \n2023-12-27          NaN  \n2023-12-28          NaN  \n2023-12-29          NaN  \n2024-01-01          NaN  \n\n[480 rows x 4 columns]",
      "text/html": "<div>\n<style scoped>\n    .dataframe tbody tr th:only-of-type {\n        vertical-align: middle;\n    }\n\n    .dataframe tbody tr th {\n        vertical-align: top;\n    }\n\n    .dataframe thead th {\n        text-align: right;\n    }\n</style>\n<table border=\"1\" class=\"dataframe\">\n  <thead>\n    <tr style=\"text-align: right;\">\n      <th></th>\n      <th>log_num_people_11_30</th>\n      <th>zuehlke_day</th>\n      <th>before_after_holydays</th>\n      <th>predictions</th>\n    </tr>\n  </thead>\n  <tbody>\n    <tr>\n      <th>2022-03-01</th>\n      <td>5.068904</td>\n      <td>0.0</td>\n      <td>0.0</td>\n      <td>NaN</td>\n    </tr>\n    <tr>\n      <th>2022-03-02</th>\n      <td>5.075174</td>\n      <td>0.0</td>\n      <td>0.0</td>\n      <td>NaN</td>\n    </tr>\n    <tr>\n      <th>2022-03-03</th>\n      <td>4.882802</td>\n      <td>0.0</td>\n      <td>0.0</td>\n      <td>NaN</td>\n    </tr>\n    <tr>\n      <th>2022-03-04</th>\n      <td>4.465908</td>\n      <td>0.0</td>\n      <td>0.0</td>\n      <td>NaN</td>\n    </tr>\n    <tr>\n      <th>2022-03-07</th>\n      <td>4.882802</td>\n      <td>0.0</td>\n      <td>0.0</td>\n      <td>NaN</td>\n    </tr>\n    <tr>\n      <th>...</th>\n      <td>...</td>\n      <td>...</td>\n      <td>...</td>\n      <td>...</td>\n    </tr>\n    <tr>\n      <th>2023-12-26</th>\n      <td>NaN</td>\n      <td>0.0</td>\n      <td>0.0</td>\n      <td>NaN</td>\n    </tr>\n    <tr>\n      <th>2023-12-27</th>\n      <td>NaN</td>\n      <td>0.0</td>\n      <td>0.0</td>\n      <td>NaN</td>\n    </tr>\n    <tr>\n      <th>2023-12-28</th>\n      <td>NaN</td>\n      <td>0.0</td>\n      <td>0.0</td>\n      <td>NaN</td>\n    </tr>\n    <tr>\n      <th>2023-12-29</th>\n      <td>NaN</td>\n      <td>0.0</td>\n      <td>0.0</td>\n      <td>NaN</td>\n    </tr>\n    <tr>\n      <th>2024-01-01</th>\n      <td>NaN</td>\n      <td>0.0</td>\n      <td>0.0</td>\n      <td>NaN</td>\n    </tr>\n  </tbody>\n</table>\n<p>480 rows × 4 columns</p>\n</div>"
     },
     "execution_count": 47,
     "metadata": {},
     "output_type": "execute_result"
    }
   ],
   "source": [
    "from datetime import date\n",
    "features.loc[date.today(),'predictions']=5\n",
    "features.iloc[230].loc['predictions']=6\n",
    "features"
   ],
   "metadata": {
    "collapsed": false
   }
  },
  {
   "cell_type": "code",
   "execution_count": 19,
   "outputs": [
    {
     "name": "stdout",
     "output_type": "stream",
     "text": [
      "2022-12-07    5.480070\n",
      "2022-12-08    5.403613\n",
      "2022-12-09    4.740185\n",
      "2022-12-12    5.315314\n",
      "2022-12-13    5.488799\n",
      "Freq: B, dtype: float64\n",
      "<class 'pmdarima.arima.arima.ARIMA'>\n"
     ]
    }
   ],
   "source": [
    "features=tools.load_prediction_data()\n",
    "\n",
    "model_filename = os.path.join('..','models','pickled_models', 'sarimax_features_to_11_30_people_count.pkl')\n",
    "\n",
    "with open(model_filename, 'rb') as pkl:\n",
    "    sarimax_model = pickle.load(pkl)\n",
    "    y=features['label_num_people_11_30']\n",
    "    X = features[['zuehlke_day', 'before_after_holydays']]\n",
    "    print(sarimax_model.predict(n_periods=5, X=X.iloc[214:219],y=y))\n",
    "    print(type(sarimax_model))"
   ],
   "metadata": {
    "collapsed": false
   }
  },
  {
   "cell_type": "code",
   "execution_count": 11,
   "outputs": [
    {
     "data": {
      "text/plain": "2022-03-01    159\n2022-03-02    160\n2022-03-03    132\n2022-03-04     87\n2022-03-07    132\n             ... \n2022-12-26      1\n2022-12-27     31\n2022-12-28     26\n2022-12-29     18\n2022-12-30      4\nName: label_num_people_11_30, Length: 219, dtype: int64"
     },
     "execution_count": 11,
     "metadata": {},
     "output_type": "execute_result"
    }
   ],
   "source": [
    "y=features['label_num_people_11_30']\n",
    "y"
   ],
   "metadata": {
    "collapsed": false
   }
  },
  {
   "cell_type": "code",
   "execution_count": 12,
   "outputs": [],
   "source": [
    "X=features[['zuehlke_day','before_after_holydays']]"
   ],
   "metadata": {
    "collapsed": false
   }
  },
  {
   "cell_type": "code",
   "execution_count": 13,
   "outputs": [
    {
     "data": {
      "text/plain": "            zuehlke_day  before_after_holydays\n2022-03-01            0                      0\n2022-03-02            0                      0\n2022-03-03            0                      0\n2022-03-04            0                      0\n2022-03-07            0                      0\n...                 ...                    ...\n2022-12-26            0                      0\n2022-12-27            0                      0\n2022-12-28            0                      0\n2022-12-29            0                      0\n2022-12-30            0                      0\n\n[219 rows x 2 columns]",
      "text/html": "<div>\n<style scoped>\n    .dataframe tbody tr th:only-of-type {\n        vertical-align: middle;\n    }\n\n    .dataframe tbody tr th {\n        vertical-align: top;\n    }\n\n    .dataframe thead th {\n        text-align: right;\n    }\n</style>\n<table border=\"1\" class=\"dataframe\">\n  <thead>\n    <tr style=\"text-align: right;\">\n      <th></th>\n      <th>zuehlke_day</th>\n      <th>before_after_holydays</th>\n    </tr>\n  </thead>\n  <tbody>\n    <tr>\n      <th>2022-03-01</th>\n      <td>0</td>\n      <td>0</td>\n    </tr>\n    <tr>\n      <th>2022-03-02</th>\n      <td>0</td>\n      <td>0</td>\n    </tr>\n    <tr>\n      <th>2022-03-03</th>\n      <td>0</td>\n      <td>0</td>\n    </tr>\n    <tr>\n      <th>2022-03-04</th>\n      <td>0</td>\n      <td>0</td>\n    </tr>\n    <tr>\n      <th>2022-03-07</th>\n      <td>0</td>\n      <td>0</td>\n    </tr>\n    <tr>\n      <th>...</th>\n      <td>...</td>\n      <td>...</td>\n    </tr>\n    <tr>\n      <th>2022-12-26</th>\n      <td>0</td>\n      <td>0</td>\n    </tr>\n    <tr>\n      <th>2022-12-27</th>\n      <td>0</td>\n      <td>0</td>\n    </tr>\n    <tr>\n      <th>2022-12-28</th>\n      <td>0</td>\n      <td>0</td>\n    </tr>\n    <tr>\n      <th>2022-12-29</th>\n      <td>0</td>\n      <td>0</td>\n    </tr>\n    <tr>\n      <th>2022-12-30</th>\n      <td>0</td>\n      <td>0</td>\n    </tr>\n  </tbody>\n</table>\n<p>219 rows × 2 columns</p>\n</div>"
     },
     "execution_count": 13,
     "metadata": {},
     "output_type": "execute_result"
    }
   ],
   "source": [
    "X"
   ],
   "metadata": {
    "collapsed": false
   }
  },
  {
   "cell_type": "code",
   "execution_count": 7,
   "outputs": [
    {
     "data": {
      "text/plain": "3"
     },
     "execution_count": 7,
     "metadata": {},
     "output_type": "execute_result"
    }
   ],
   "source": [
    "dic={'x':1,'y':2}\n",
    "def func(x,y):\n",
    "    return x + y\n",
    "func(**dic)"
   ],
   "metadata": {
    "collapsed": false
   }
  },
  {
   "cell_type": "code",
   "execution_count": 10,
   "outputs": [
    {
     "ename": "SyntaxError",
     "evalue": "invalid syntax (1026112000.py, line 1)",
     "output_type": "error",
     "traceback": [
      "\u001B[1;36m  Cell \u001B[1;32mIn[10], line 1\u001B[1;36m\u001B[0m\n\u001B[1;33m    **dic\u001B[0m\n\u001B[1;37m    ^\u001B[0m\n\u001B[1;31mSyntaxError\u001B[0m\u001B[1;31m:\u001B[0m invalid syntax\n"
     ]
    }
   ],
   "source": [
    "**dic"
   ],
   "metadata": {
    "collapsed": false
   }
  },
  {
   "cell_type": "code",
   "execution_count": 15,
   "outputs": [
    {
     "data": {
      "text/plain": "'09:02'"
     },
     "execution_count": 15,
     "metadata": {},
     "output_type": "execute_result"
    }
   ],
   "source": [
    "from datetime import datetime\n",
    "datetime.now().strftime(\"%H:%M\")"
   ],
   "metadata": {
    "collapsed": false
   }
  },
  {
   "cell_type": "code",
   "execution_count": 18,
   "outputs": [
    {
     "data": {
      "text/plain": "0.3038882667410878"
     },
     "execution_count": 18,
     "metadata": {},
     "output_type": "execute_result"
    }
   ],
   "source": [
    "import numpy as np\n",
    "\n",
    "\n",
    "np.random.normal(0,1)"
   ],
   "metadata": {
    "collapsed": false
   }
  },
  {
   "cell_type": "code",
   "execution_count": null,
   "outputs": [],
   "source": [],
   "metadata": {
    "collapsed": false
   }
  },
  {
   "cell_type": "code",
   "execution_count": 19,
   "outputs": [
    {
     "ename": "NameError",
     "evalue": "name 'features' is not defined",
     "output_type": "error",
     "traceback": [
      "\u001B[1;31m---------------------------------------------------------------------------\u001B[0m",
      "\u001B[1;31mNameError\u001B[0m                                 Traceback (most recent call last)",
      "Cell \u001B[1;32mIn[19], line 1\u001B[0m\n\u001B[1;32m----> 1\u001B[0m \u001B[43mfeatures\u001B[49m\n",
      "\u001B[1;31mNameError\u001B[0m: name 'features' is not defined"
     ]
    }
   ],
   "source": [
    "features"
   ],
   "metadata": {
    "collapsed": false
   }
  },
  {
   "cell_type": "code",
   "execution_count": null,
   "outputs": [],
   "source": [],
   "metadata": {
    "collapsed": false
   }
  }
 ],
 "metadata": {
  "kernelspec": {
   "display_name": "Python 3",
   "language": "python",
   "name": "python3"
  },
  "language_info": {
   "codemirror_mode": {
    "name": "ipython",
    "version": 2
   },
   "file_extension": ".py",
   "mimetype": "text/x-python",
   "name": "python",
   "nbconvert_exporter": "python",
   "pygments_lexer": "ipython2",
   "version": "2.7.6"
  }
 },
 "nbformat": 4,
 "nbformat_minor": 0
}
