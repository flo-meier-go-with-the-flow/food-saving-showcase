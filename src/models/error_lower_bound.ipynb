{
 "cells": [
  {
   "cell_type": "code",
   "execution_count": 7,
   "metadata": {
    "collapsed": true
   },
   "outputs": [
    {
     "data": {
      "text/plain": "8.01333333333333"
     },
     "execution_count": 7,
     "metadata": {},
     "output_type": "execute_result"
    }
   ],
   "source": [
    "import numpy as np\n",
    "\n",
    "\n",
    "from scipy.stats import binom\n",
    "\n",
    "num_samples=460\n",
    "p=1/3\n",
    "data_binom = binom.rvs(n=num_samples,p=p,loc=0,size=100)\n",
    "np.mean(np.abs(data_binom-num_samples*p))"
   ]
  },
  {
   "cell_type": "code",
   "execution_count": 6,
   "outputs": [
    {
     "data": {
      "text/plain": "array([ -9.33333333,  14.66666667,   7.66666667,   5.66666667,\n         7.66666667,  15.66666667,  15.66666667,   7.66666667,\n         1.66666667,  -2.33333333,  -4.33333333,   4.66666667,\n         8.66666667,   4.66666667,  -4.33333333,   0.66666667,\n       -10.33333333,  -1.33333333,  16.66666667,  17.66666667,\n         5.66666667, -15.33333333,  -0.33333333,   9.66666667,\n        -7.33333333,  13.66666667, -16.33333333,  -5.33333333,\n       -15.33333333, -12.33333333, -17.33333333,   7.66666667,\n        -3.33333333,  -7.33333333,   5.66666667,  -3.33333333,\n         5.66666667,  -3.33333333,  -0.33333333,  -5.33333333,\n        -6.33333333,  -5.33333333,  15.66666667,   0.66666667,\n        -6.33333333,   4.66666667,   1.66666667,   8.66666667,\n        -5.33333333,   4.66666667,   8.66666667,  -7.33333333,\n        -3.33333333,  -2.33333333,   9.66666667,  10.66666667,\n        -0.33333333,   5.66666667,   1.66666667, -14.33333333,\n        -2.33333333,  11.66666667, -15.33333333,   7.66666667,\n        17.66666667,  17.66666667, -25.33333333,  -5.33333333,\n        12.66666667,  -0.33333333,   5.66666667,   7.66666667,\n         3.66666667,   9.66666667,  -1.33333333,   7.66666667,\n        -9.33333333,   6.66666667, -10.33333333,  -7.33333333,\n         4.66666667,   7.66666667,  -8.33333333,  14.66666667,\n         2.66666667,  -9.33333333,   0.66666667,   9.66666667,\n         1.66666667,  -1.33333333, -11.33333333,   3.66666667,\n        17.66666667,  -2.33333333,   5.66666667,  34.66666667,\n        -1.33333333,  -5.33333333, -19.33333333,   5.66666667])"
     },
     "execution_count": 6,
     "metadata": {},
     "output_type": "execute_result"
    }
   ],
   "source": [
    "data_binom-num_samples*p"
   ],
   "metadata": {
    "collapsed": false
   }
  },
  {
   "cell_type": "code",
   "execution_count": null,
   "outputs": [],
   "source": [],
   "metadata": {
    "collapsed": false
   }
  }
 ],
 "metadata": {
  "kernelspec": {
   "display_name": "Python 3",
   "language": "python",
   "name": "python3"
  },
  "language_info": {
   "codemirror_mode": {
    "name": "ipython",
    "version": 2
   },
   "file_extension": ".py",
   "mimetype": "text/x-python",
   "name": "python",
   "nbconvert_exporter": "python",
   "pygments_lexer": "ipython2",
   "version": "2.7.6"
  }
 },
 "nbformat": 4,
 "nbformat_minor": 0
}
