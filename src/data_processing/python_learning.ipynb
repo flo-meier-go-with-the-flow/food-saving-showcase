{
 "cells": [
  {
   "cell_type": "code",
   "execution_count": 16,
   "metadata": {
    "collapsed": true
   },
   "outputs": [],
   "source": [
    "import logging\n",
    "\n",
    "import pandas as pd\n",
    "import numpy as np\n",
    "import os\n",
    "import matplotlib as mpl\n",
    "import matplotlib.pyplot as plt\n",
    "from datetime import date, timedelta\n",
    "from sklearn.metrics import mean_squared_error, mean_absolute_error, r2_score\n",
    "from sklearn.model_selection import train_test_split\n",
    "from sklearn.linear_model import ElasticNet\n",
    "import mlflow.sklearn\n",
    "from sklearn.pipeline import Pipeline\n",
    "from sklearn.preprocessing import StandardScaler\n",
    "from hyperopt import fmin, hp, tpe, Trials, space_eval, STATUS_OK\n",
    "from sklearn.impute import SimpleImputer\n",
    "from sklearn.compose import ColumnTransformer\n",
    "from sklearn.preprocessing import OneHotEncoder\n",
    "from sklearn.svm import SVR\n",
    "from sklearn.ensemble import RandomForestRegressor\n",
    "from sklearn.preprocessing import PolynomialFeatures\n",
    "from pprint import pprint\n",
    "import logging\n",
    "\n",
    "import json\n",
    "import pickle"
   ]
  },
  {
   "cell_type": "code",
   "execution_count": 34,
   "outputs": [
    {
     "data": {
      "text/plain": "Index(['date', 'num_people_10_00', 'label_num_people_12_33',\n       'label_num_people_11_30', 'label_num_menus_sold',\n       'label_difference_12_normalized',\n       'label_difference_10_and_sold_normalized', 'zurich_vacation',\n       'exp_moving_avg_0.5', 'weekday', 'Monday', 'Tuesday', 'Wednesday',\n       'Thursday', 'Friday', 'Spring/Autumn', 'Summer', 'Winter',\n       'month_quarter_0', 'month_quarter_1', 'month_quarter_2',\n       'month_quarter_3', 'zuehlke_day', 'Temperature', 'temp_deviation',\n       'Rain Duration', 'Rain_half_discrete', 'Rain_binary',\n       'average_of_past_weeks', 'deviation_1_day_ago', 'deviation_2_day_ago',\n       'deviation_3_day_ago', 'deviation_4_day_ago'],\n      dtype='object')"
     },
     "execution_count": 34,
     "metadata": {},
     "output_type": "execute_result"
    }
   ],
   "source": [
    "pickle_path = os.path.join('..', '..', 'data', 'features_by_date')\n",
    "features_by_date = pd.read_pickle(pickle_path)\n",
    "features_by_date.columns"
   ],
   "metadata": {
    "collapsed": false
   }
  },
  {
   "cell_type": "code",
   "execution_count": 35,
   "outputs": [
    {
     "data": {
      "text/plain": "            exp_moving_avg_0.5  label_num_people_11_30\n2022-03-14          134.500000                     137\n2022-03-15          144.750000                     138\n2022-03-16          146.000000                     147\n2022-03-17          135.500000                     141\n2022-03-18           64.250000                      60\n...                        ...                     ...\n2022-11-21          202.745069                     198\n2022-11-22          233.167521                     239\n2022-11-23          241.862950                     246\n2022-11-24          219.885089                     229\n2022-11-25          155.791769                     206\n\n[177 rows x 2 columns]",
      "text/html": "<div>\n<style scoped>\n    .dataframe tbody tr th:only-of-type {\n        vertical-align: middle;\n    }\n\n    .dataframe tbody tr th {\n        vertical-align: top;\n    }\n\n    .dataframe thead th {\n        text-align: right;\n    }\n</style>\n<table border=\"1\" class=\"dataframe\">\n  <thead>\n    <tr style=\"text-align: right;\">\n      <th></th>\n      <th>exp_moving_avg_0.5</th>\n      <th>label_num_people_11_30</th>\n    </tr>\n  </thead>\n  <tbody>\n    <tr>\n      <th>2022-03-14</th>\n      <td>134.500000</td>\n      <td>137</td>\n    </tr>\n    <tr>\n      <th>2022-03-15</th>\n      <td>144.750000</td>\n      <td>138</td>\n    </tr>\n    <tr>\n      <th>2022-03-16</th>\n      <td>146.000000</td>\n      <td>147</td>\n    </tr>\n    <tr>\n      <th>2022-03-17</th>\n      <td>135.500000</td>\n      <td>141</td>\n    </tr>\n    <tr>\n      <th>2022-03-18</th>\n      <td>64.250000</td>\n      <td>60</td>\n    </tr>\n    <tr>\n      <th>...</th>\n      <td>...</td>\n      <td>...</td>\n    </tr>\n    <tr>\n      <th>2022-11-21</th>\n      <td>202.745069</td>\n      <td>198</td>\n    </tr>\n    <tr>\n      <th>2022-11-22</th>\n      <td>233.167521</td>\n      <td>239</td>\n    </tr>\n    <tr>\n      <th>2022-11-23</th>\n      <td>241.862950</td>\n      <td>246</td>\n    </tr>\n    <tr>\n      <th>2022-11-24</th>\n      <td>219.885089</td>\n      <td>229</td>\n    </tr>\n    <tr>\n      <th>2022-11-25</th>\n      <td>155.791769</td>\n      <td>206</td>\n    </tr>\n  </tbody>\n</table>\n<p>177 rows × 2 columns</p>\n</div>"
     },
     "execution_count": 35,
     "metadata": {},
     "output_type": "execute_result"
    }
   ],
   "source": [
    "features_by_date[['exp_moving_avg_0.5','label_num_people_11_30']]"
   ],
   "metadata": {
    "collapsed": false
   }
  },
  {
   "cell_type": "code",
   "execution_count": 40,
   "outputs": [
    {
     "data": {
      "text/plain": "True"
     },
     "execution_count": 40,
     "metadata": {},
     "output_type": "execute_result"
    }
   ],
   "source": [
    "import math\n",
    "math.isnan(np.nan)"
   ],
   "metadata": {
    "collapsed": false
   }
  },
  {
   "cell_type": "code",
   "execution_count": 14,
   "outputs": [],
   "source": [
    "def exponential_average_past_weeks(alpha=0.3):\n",
    "    \"\"\"alpha*new_val + (1-alpha)*old_val\"\"\"\n",
    "    def func(day):\n",
    "        num_people_11_30 = []\n",
    "        for i in range(1, num_weeks + 1):\n",
    "            considered_day = day - timedelta(days=i * 7)\n",
    "            try:\n",
    "                num_people_11_30.append(features_by_date.loc[considered_day, 'label_num_people_11_30'])\n",
    "            except KeyError:\n",
    "                print(f'{considered_day} gives KeyError')\n",
    "        return np.mean(num_people_11_30)\n",
    "\n",
    "    return func\n"
   ],
   "metadata": {
    "collapsed": false
   }
  },
  {
   "cell_type": "code",
   "execution_count": 26,
   "outputs": [
    {
     "ename": "NameError",
     "evalue": "name 'avg_7_days_ago' is not defined",
     "output_type": "error",
     "traceback": [
      "\u001B[1;31m---------------------------------------------------------------------------\u001B[0m",
      "\u001B[1;31mKeyError\u001B[0m                                  Traceback (most recent call last)",
      "File \u001B[1;32m~\\AppData\\Local\\pypoetry\\Cache\\virtualenvs\\food-saving-showcase-ocOVEVjy-py3.10\\lib\\site-packages\\pandas\\core\\indexes\\base.py:3803\u001B[0m, in \u001B[0;36mIndex.get_loc\u001B[1;34m(self, key, method, tolerance)\u001B[0m\n\u001B[0;32m   3802\u001B[0m \u001B[38;5;28;01mtry\u001B[39;00m:\n\u001B[1;32m-> 3803\u001B[0m     \u001B[38;5;28;01mreturn\u001B[39;00m \u001B[38;5;28;43mself\u001B[39;49m\u001B[38;5;241;43m.\u001B[39;49m\u001B[43m_engine\u001B[49m\u001B[38;5;241;43m.\u001B[39;49m\u001B[43mget_loc\u001B[49m\u001B[43m(\u001B[49m\u001B[43mcasted_key\u001B[49m\u001B[43m)\u001B[49m\n\u001B[0;32m   3804\u001B[0m \u001B[38;5;28;01mexcept\u001B[39;00m \u001B[38;5;167;01mKeyError\u001B[39;00m \u001B[38;5;28;01mas\u001B[39;00m err:\n",
      "File \u001B[1;32m~\\AppData\\Local\\pypoetry\\Cache\\virtualenvs\\food-saving-showcase-ocOVEVjy-py3.10\\lib\\site-packages\\pandas\\_libs\\index.pyx:138\u001B[0m, in \u001B[0;36mpandas._libs.index.IndexEngine.get_loc\u001B[1;34m()\u001B[0m\n",
      "File \u001B[1;32m~\\AppData\\Local\\pypoetry\\Cache\\virtualenvs\\food-saving-showcase-ocOVEVjy-py3.10\\lib\\site-packages\\pandas\\_libs\\index.pyx:165\u001B[0m, in \u001B[0;36mpandas._libs.index.IndexEngine.get_loc\u001B[1;34m()\u001B[0m\n",
      "File \u001B[1;32mpandas\\_libs\\hashtable_class_helper.pxi:5745\u001B[0m, in \u001B[0;36mpandas._libs.hashtable.PyObjectHashTable.get_item\u001B[1;34m()\u001B[0m\n",
      "File \u001B[1;32mpandas\\_libs\\hashtable_class_helper.pxi:5753\u001B[0m, in \u001B[0;36mpandas._libs.hashtable.PyObjectHashTable.get_item\u001B[1;34m()\u001B[0m\n",
      "\u001B[1;31mKeyError\u001B[0m: datetime.date(2022, 3, 7)",
      "\nThe above exception was the direct cause of the following exception:\n",
      "\u001B[1;31mKeyError\u001B[0m                                  Traceback (most recent call last)",
      "Cell \u001B[1;32mIn[26], line 5\u001B[0m\n\u001B[0;32m      4\u001B[0m \u001B[38;5;28;01mtry\u001B[39;00m:\n\u001B[1;32m----> 5\u001B[0m     avg_7_days_ago\u001B[38;5;241m=\u001B[39m\u001B[43mexp_mov_averages\u001B[49m\u001B[43m[\u001B[49m\u001B[43mday\u001B[49m\u001B[38;5;241;43m-\u001B[39;49m\u001B[43mtimedelta\u001B[49m\u001B[43m(\u001B[49m\u001B[43mdays\u001B[49m\u001B[38;5;241;43m=\u001B[39;49m\u001B[38;5;241;43m7\u001B[39;49m\u001B[43m)\u001B[49m\u001B[43m]\u001B[49m\n\u001B[0;32m      6\u001B[0m \u001B[38;5;28;01mexcept\u001B[39;00m \u001B[38;5;167;01mKeyError\u001B[39;00m: \u001B[38;5;66;03m#start measurements, does not contain values of 7 days ago\u001B[39;00m\n",
      "File \u001B[1;32m~\\AppData\\Local\\pypoetry\\Cache\\virtualenvs\\food-saving-showcase-ocOVEVjy-py3.10\\lib\\site-packages\\pandas\\core\\series.py:981\u001B[0m, in \u001B[0;36mSeries.__getitem__\u001B[1;34m(self, key)\u001B[0m\n\u001B[0;32m    980\u001B[0m \u001B[38;5;28;01melif\u001B[39;00m key_is_scalar:\n\u001B[1;32m--> 981\u001B[0m     \u001B[38;5;28;01mreturn\u001B[39;00m \u001B[38;5;28;43mself\u001B[39;49m\u001B[38;5;241;43m.\u001B[39;49m\u001B[43m_get_value\u001B[49m\u001B[43m(\u001B[49m\u001B[43mkey\u001B[49m\u001B[43m)\u001B[49m\n\u001B[0;32m    983\u001B[0m \u001B[38;5;28;01mif\u001B[39;00m is_hashable(key):\n\u001B[0;32m    984\u001B[0m     \u001B[38;5;66;03m# Otherwise index.get_value will raise InvalidIndexError\u001B[39;00m\n",
      "File \u001B[1;32m~\\AppData\\Local\\pypoetry\\Cache\\virtualenvs\\food-saving-showcase-ocOVEVjy-py3.10\\lib\\site-packages\\pandas\\core\\series.py:1089\u001B[0m, in \u001B[0;36mSeries._get_value\u001B[1;34m(self, label, takeable)\u001B[0m\n\u001B[0;32m   1088\u001B[0m \u001B[38;5;66;03m# Similar to Index.get_value, but we do not fall back to positional\u001B[39;00m\n\u001B[1;32m-> 1089\u001B[0m loc \u001B[38;5;241m=\u001B[39m \u001B[38;5;28;43mself\u001B[39;49m\u001B[38;5;241;43m.\u001B[39;49m\u001B[43mindex\u001B[49m\u001B[38;5;241;43m.\u001B[39;49m\u001B[43mget_loc\u001B[49m\u001B[43m(\u001B[49m\u001B[43mlabel\u001B[49m\u001B[43m)\u001B[49m\n\u001B[0;32m   1090\u001B[0m \u001B[38;5;28;01mreturn\u001B[39;00m \u001B[38;5;28mself\u001B[39m\u001B[38;5;241m.\u001B[39mindex\u001B[38;5;241m.\u001B[39m_get_values_for_loc(\u001B[38;5;28mself\u001B[39m, loc, label)\n",
      "File \u001B[1;32m~\\AppData\\Local\\pypoetry\\Cache\\virtualenvs\\food-saving-showcase-ocOVEVjy-py3.10\\lib\\site-packages\\pandas\\core\\indexes\\base.py:3805\u001B[0m, in \u001B[0;36mIndex.get_loc\u001B[1;34m(self, key, method, tolerance)\u001B[0m\n\u001B[0;32m   3804\u001B[0m \u001B[38;5;28;01mexcept\u001B[39;00m \u001B[38;5;167;01mKeyError\u001B[39;00m \u001B[38;5;28;01mas\u001B[39;00m err:\n\u001B[1;32m-> 3805\u001B[0m     \u001B[38;5;28;01mraise\u001B[39;00m \u001B[38;5;167;01mKeyError\u001B[39;00m(key) \u001B[38;5;28;01mfrom\u001B[39;00m \u001B[38;5;21;01merr\u001B[39;00m\n\u001B[0;32m   3806\u001B[0m \u001B[38;5;28;01mexcept\u001B[39;00m \u001B[38;5;167;01mTypeError\u001B[39;00m:\n\u001B[0;32m   3807\u001B[0m     \u001B[38;5;66;03m# If we have a listlike key, _check_indexing_error will raise\u001B[39;00m\n\u001B[0;32m   3808\u001B[0m     \u001B[38;5;66;03m#  InvalidIndexError. Otherwise we fall through and re-raise\u001B[39;00m\n\u001B[0;32m   3809\u001B[0m     \u001B[38;5;66;03m#  the TypeError.\u001B[39;00m\n",
      "\u001B[1;31mKeyError\u001B[0m: datetime.date(2022, 3, 7)",
      "\nDuring handling of the above exception, another exception occurred:\n",
      "\u001B[1;31mNameError\u001B[0m                                 Traceback (most recent call last)",
      "Cell \u001B[1;32mIn[26], line 9\u001B[0m\n\u001B[0;32m      7\u001B[0m exp_mov_averages[day]\u001B[38;5;241m=\u001B[39mfeatures_by_date\u001B[38;5;241m.\u001B[39mloc[day, \u001B[38;5;124m'\u001B[39m\u001B[38;5;124mlabel_num_people_11_30\u001B[39m\u001B[38;5;124m'\u001B[39m]\n\u001B[0;32m      8\u001B[0m \u001B[38;5;28;01mtry\u001B[39;00m:\n\u001B[1;32m----> 9\u001B[0m     exp_mov_averages[day]\u001B[38;5;241m=\u001B[39malpha\u001B[38;5;241m*\u001B[39mfeatures_by_date\u001B[38;5;241m.\u001B[39mloc[day, \u001B[38;5;124m'\u001B[39m\u001B[38;5;124mlabel_num_people_11_30\u001B[39m\u001B[38;5;124m'\u001B[39m]\u001B[38;5;241m+\u001B[39m(\u001B[38;5;241m1\u001B[39m\u001B[38;5;241m-\u001B[39malpha)\u001B[38;5;241m*\u001B[39m\u001B[43mavg_7_days_ago\u001B[49m\n\u001B[0;32m     10\u001B[0m \u001B[38;5;28;01mexcept\u001B[39;00m \u001B[38;5;167;01mKeyError\u001B[39;00m: \u001B[38;5;66;03m#no measurements due to public holiday,...\u001B[39;00m\n\u001B[0;32m     11\u001B[0m     exp_mov_averages[day]\u001B[38;5;241m=\u001B[39mavg_7_days_ago\n",
      "\u001B[1;31mNameError\u001B[0m: name 'avg_7_days_ago' is not defined"
     ]
    }
   ],
   "source": [
    "alpha=0.3\n",
    "for day in features_by_date.date:\n",
    "    exp_mov_averages=pd.Series(index=features_by_date.date,dtype=float)\n",
    "    try:\n",
    "        avg_7_days_ago=exp_mov_averages[day-timedelta(days=7)]\n",
    "    except KeyError: #start measurements, does not contain values of 7 days ago\n",
    "        exp_mov_averages[day]=features_by_date.loc[day, 'label_num_people_11_30']\n",
    "        try:\n",
    "            exp_mov_averages[day]=alpha*features_by_date.loc[day, 'label_num_people_11_30']+(1-alpha)*avg_7_days_ago\n",
    "        except KeyError: #no measurements due to public holiday,...\n",
    "            exp_mov_averages[day]=avg_7_days_ago\n",
    "\n",
    "exp_mov_averages"
   ],
   "metadata": {
    "collapsed": false
   }
  },
  {
   "cell_type": "code",
   "execution_count": 13,
   "outputs": [
    {
     "name": "stdout",
     "output_type": "stream",
     "text": [
      "2022-03-09\n",
      "2022-03-10\n",
      "2022-03-11\n",
      "2022-03-14\n",
      "2022-03-15\n",
      "2022-03-16\n",
      "2022-03-17\n",
      "2022-03-18\n",
      "2022-03-21\n",
      "2022-03-22\n",
      "2022-03-23\n",
      "2022-03-24\n",
      "2022-03-25\n",
      "2022-03-28\n",
      "2022-03-29\n",
      "2022-03-30\n",
      "2022-03-31\n",
      "2022-04-01\n",
      "2022-04-04\n",
      "2022-04-05\n",
      "2022-04-06\n",
      "2022-04-07\n",
      "2022-04-08\n",
      "2022-04-11\n",
      "2022-04-12\n",
      "2022-04-13\n",
      "2022-04-14\n",
      "2022-04-19\n",
      "2022-04-20\n",
      "2022-04-21\n",
      "2022-04-22\n",
      "2022-04-25\n",
      "2022-04-26\n",
      "2022-04-27\n",
      "2022-04-28\n",
      "2022-04-29\n",
      "2022-05-02\n",
      "2022-05-03\n",
      "2022-05-04\n",
      "2022-05-05\n",
      "2022-05-06\n",
      "2022-05-09\n",
      "2022-05-10\n",
      "2022-05-11\n",
      "2022-05-12\n",
      "2022-05-13\n",
      "2022-05-16\n",
      "2022-05-17\n",
      "2022-05-18\n",
      "2022-05-19\n",
      "2022-05-20\n",
      "2022-05-23\n",
      "2022-05-24\n",
      "2022-05-25\n",
      "2022-05-30\n",
      "2022-05-31\n",
      "2022-06-01\n",
      "2022-06-02\n",
      "2022-06-03\n",
      "2022-06-07\n",
      "2022-06-08\n",
      "2022-06-09\n",
      "2022-06-10\n",
      "2022-06-13\n",
      "2022-06-14\n",
      "2022-06-15\n",
      "2022-06-16\n",
      "2022-06-17\n",
      "2022-06-20\n",
      "2022-06-21\n",
      "2022-06-22\n",
      "2022-06-23\n",
      "2022-06-24\n",
      "2022-06-27\n",
      "2022-06-28\n",
      "2022-06-29\n",
      "2022-06-30\n",
      "2022-07-01\n",
      "2022-07-04\n",
      "2022-07-05\n",
      "2022-07-06\n",
      "2022-07-07\n",
      "2022-07-11\n",
      "2022-07-12\n",
      "2022-07-13\n",
      "2022-07-14\n",
      "2022-07-15\n",
      "2022-07-18\n",
      "2022-07-19\n",
      "2022-07-20\n",
      "2022-07-21\n",
      "2022-07-22\n",
      "2022-07-25\n",
      "2022-07-26\n",
      "2022-07-27\n",
      "2022-07-28\n",
      "2022-07-29\n",
      "2022-08-02\n",
      "2022-08-03\n",
      "2022-08-04\n",
      "2022-08-05\n",
      "2022-08-08\n",
      "2022-08-09\n",
      "2022-08-10\n",
      "2022-08-11\n",
      "2022-08-12\n",
      "2022-08-15\n",
      "2022-08-16\n",
      "2022-08-17\n",
      "2022-08-18\n",
      "2022-08-19\n",
      "2022-08-22\n",
      "2022-08-23\n",
      "2022-08-24\n",
      "2022-08-25\n",
      "2022-08-26\n",
      "2022-08-29\n",
      "2022-08-30\n",
      "2022-08-31\n",
      "2022-09-01\n",
      "2022-09-02\n",
      "2022-09-05\n",
      "2022-09-06\n",
      "2022-09-07\n",
      "2022-09-08\n",
      "2022-09-09\n",
      "2022-09-12\n",
      "2022-09-13\n",
      "2022-09-14\n",
      "2022-09-15\n",
      "2022-09-16\n",
      "2022-09-19\n",
      "2022-09-20\n",
      "2022-09-21\n",
      "2022-09-22\n",
      "2022-09-23\n",
      "2022-09-26\n",
      "2022-09-28\n",
      "2022-09-29\n",
      "2022-09-30\n",
      "2022-10-03\n",
      "2022-10-04\n",
      "2022-10-05\n",
      "2022-10-06\n",
      "2022-10-07\n",
      "2022-10-10\n",
      "2022-10-11\n",
      "2022-10-12\n",
      "2022-10-13\n",
      "2022-10-14\n",
      "2022-10-17\n",
      "2022-10-18\n",
      "2022-10-19\n",
      "2022-10-20\n",
      "2022-10-21\n",
      "2022-10-24\n",
      "2022-10-25\n",
      "2022-10-26\n",
      "2022-10-27\n",
      "2022-10-28\n",
      "2022-10-31\n",
      "2022-11-01\n",
      "2022-11-02\n",
      "2022-11-03\n",
      "2022-11-04\n",
      "2022-11-07\n",
      "2022-11-08\n",
      "2022-11-09\n",
      "2022-11-10\n",
      "2022-11-11\n",
      "2022-11-14\n",
      "2022-11-15\n",
      "2022-11-16\n",
      "2022-11-17\n",
      "2022-11-18\n",
      "2022-11-21\n",
      "2022-11-22\n",
      "2022-11-23\n",
      "2022-11-24\n",
      "2022-11-25\n"
     ]
    }
   ],
   "source": [
    "for day in features_by_date['date']:\\\n",
    "    print(day)\n"
   ],
   "metadata": {
    "collapsed": false
   }
  },
  {
   "cell_type": "code",
   "execution_count": 4,
   "outputs": [
    {
     "name": "stdout",
     "output_type": "stream",
     "text": [
      "2022-03-02 gives KeyError\n",
      "2022-02-23 gives KeyError\n",
      "2022-02-16 gives KeyError\n",
      "2022-03-03 gives KeyError\n",
      "2022-02-24 gives KeyError\n",
      "2022-02-17 gives KeyError\n",
      "2022-03-04 gives KeyError\n",
      "2022-02-25 gives KeyError\n",
      "2022-02-18 gives KeyError\n",
      "2022-03-07 gives KeyError\n",
      "2022-02-28 gives KeyError\n",
      "2022-02-21 gives KeyError\n",
      "2022-03-08 gives KeyError\n",
      "2022-03-01 gives KeyError\n",
      "2022-02-22 gives KeyError\n",
      "2022-03-02 gives KeyError\n",
      "2022-02-23 gives KeyError\n",
      "2022-03-03 gives KeyError\n",
      "2022-02-24 gives KeyError\n",
      "2022-03-04 gives KeyError\n",
      "2022-02-25 gives KeyError\n",
      "2022-03-07 gives KeyError\n",
      "2022-02-28 gives KeyError\n",
      "2022-03-08 gives KeyError\n",
      "2022-03-01 gives KeyError\n",
      "2022-03-02 gives KeyError\n",
      "2022-03-03 gives KeyError\n",
      "2022-03-04 gives KeyError\n",
      "2022-03-07 gives KeyError\n",
      "2022-03-08 gives KeyError\n",
      "2022-04-15 gives KeyError\n",
      "2022-04-18 gives KeyError\n",
      "2022-04-15 gives KeyError\n",
      "2022-04-18 gives KeyError\n",
      "2022-04-15 gives KeyError\n",
      "2022-04-18 gives KeyError\n",
      "2022-05-26 gives KeyError\n",
      "2022-05-27 gives KeyError\n",
      "2022-05-26 gives KeyError\n",
      "2022-05-27 gives KeyError\n",
      "2022-06-06 gives KeyError\n",
      "2022-05-26 gives KeyError\n",
      "2022-05-27 gives KeyError\n",
      "2022-06-06 gives KeyError\n",
      "2022-06-06 gives KeyError\n",
      "2022-07-08 gives KeyError\n",
      "2022-07-08 gives KeyError\n",
      "2022-07-08 gives KeyError\n",
      "2022-08-01 gives KeyError\n",
      "2022-08-01 gives KeyError\n",
      "2022-08-01 gives KeyError\n",
      "2022-09-27 gives KeyError\n",
      "2022-09-27 gives KeyError\n",
      "2022-09-27 gives KeyError\n"
     ]
    },
    {
     "name": "stderr",
     "output_type": "stream",
     "text": [
      "C:\\Users\\mefl\\AppData\\Local\\pypoetry\\Cache\\virtualenvs\\food-saving-showcase-ocOVEVjy-py3.10\\lib\\site-packages\\numpy\\core\\fromnumeric.py:3432: RuntimeWarning: Mean of empty slice.\n",
      "  return _methods._mean(a, axis=axis, dtype=dtype,\n"
     ]
    }
   ],
   "source": [
    "day=date(year=2022,month=3,day=31)\n",
    "num_people_11_30=[]\n",
    "past_weeks=3\n",
    "def average_of_past_weeks(num_weeks=3):\n",
    "    def func(day):\n",
    "        num_people_11_30=[]\n",
    "        for i in range(1,num_weeks+1):\n",
    "            considered_day=day-timedelta(days=i*7)\n",
    "            try:\n",
    "                num_people_11_30.append(features_by_date.loc[considered_day, 'label_num_people_11_30'])\n",
    "            except KeyError:\n",
    "                print(f'{considered_day} gives KeyError')\n",
    "        return np.mean(num_people_11_30)\n",
    "    return func\n",
    "\n",
    "average_of_past_3_weeks=average_of_past_weeks(3)\n",
    "average_of_past_3_weeks(day)\n",
    "features_by_date['average_of_past_weeks']=features_by_date['date'].apply(average_of_past_3_weeks)"
   ],
   "metadata": {
    "collapsed": false
   }
  },
  {
   "cell_type": "code",
   "execution_count": 7,
   "outputs": [
    {
     "data": {
      "text/plain": "                  date  deviation_1_day_ago  deviation_2_day_ago  \\\n2022-03-09  2022-03-09             0.731092             0.042489   \n2022-03-10  2022-03-10                  NaN             0.731092   \n2022-03-11  2022-03-11                  NaN                  NaN   \n2022-03-14  2022-03-14                  NaN                  NaN   \n2022-03-15  2022-03-15                  NaN                  NaN   \n...                ...                  ...                  ...   \n2022-11-21  2022-11-21            -0.160350            -0.326452   \n2022-11-22  2022-11-22            -0.067504            -0.160350   \n2022-11-23  2022-11-23             0.045190            -0.067504   \n2022-11-24  2022-11-24             0.000000             0.045190   \n2022-11-25  2022-11-25             0.042489             0.000000   \n\n            label_num_people_11_30  average_of_past_weeks  \n2022-03-09                     130                    NaN  \n2022-03-10                     128                    NaN  \n2022-03-11                      50                    NaN  \n2022-03-14                     137                    NaN  \n2022-03-15                     138                    NaN  \n...                            ...                    ...  \n2022-11-21                     198             212.333333  \n2022-11-22                     239             228.666667  \n2022-11-23                     246             246.000000  \n2022-11-24                     229             219.666667  \n2022-11-25                     206             119.000000  \n\n[180 rows x 5 columns]",
      "text/html": "<div>\n<style scoped>\n    .dataframe tbody tr th:only-of-type {\n        vertical-align: middle;\n    }\n\n    .dataframe tbody tr th {\n        vertical-align: top;\n    }\n\n    .dataframe thead th {\n        text-align: right;\n    }\n</style>\n<table border=\"1\" class=\"dataframe\">\n  <thead>\n    <tr style=\"text-align: right;\">\n      <th></th>\n      <th>date</th>\n      <th>deviation_1_day_ago</th>\n      <th>deviation_2_day_ago</th>\n      <th>label_num_people_11_30</th>\n      <th>average_of_past_weeks</th>\n    </tr>\n  </thead>\n  <tbody>\n    <tr>\n      <th>2022-03-09</th>\n      <td>2022-03-09</td>\n      <td>0.731092</td>\n      <td>0.042489</td>\n      <td>130</td>\n      <td>NaN</td>\n    </tr>\n    <tr>\n      <th>2022-03-10</th>\n      <td>2022-03-10</td>\n      <td>NaN</td>\n      <td>0.731092</td>\n      <td>128</td>\n      <td>NaN</td>\n    </tr>\n    <tr>\n      <th>2022-03-11</th>\n      <td>2022-03-11</td>\n      <td>NaN</td>\n      <td>NaN</td>\n      <td>50</td>\n      <td>NaN</td>\n    </tr>\n    <tr>\n      <th>2022-03-14</th>\n      <td>2022-03-14</td>\n      <td>NaN</td>\n      <td>NaN</td>\n      <td>137</td>\n      <td>NaN</td>\n    </tr>\n    <tr>\n      <th>2022-03-15</th>\n      <td>2022-03-15</td>\n      <td>NaN</td>\n      <td>NaN</td>\n      <td>138</td>\n      <td>NaN</td>\n    </tr>\n    <tr>\n      <th>...</th>\n      <td>...</td>\n      <td>...</td>\n      <td>...</td>\n      <td>...</td>\n      <td>...</td>\n    </tr>\n    <tr>\n      <th>2022-11-21</th>\n      <td>2022-11-21</td>\n      <td>-0.160350</td>\n      <td>-0.326452</td>\n      <td>198</td>\n      <td>212.333333</td>\n    </tr>\n    <tr>\n      <th>2022-11-22</th>\n      <td>2022-11-22</td>\n      <td>-0.067504</td>\n      <td>-0.160350</td>\n      <td>239</td>\n      <td>228.666667</td>\n    </tr>\n    <tr>\n      <th>2022-11-23</th>\n      <td>2022-11-23</td>\n      <td>0.045190</td>\n      <td>-0.067504</td>\n      <td>246</td>\n      <td>246.000000</td>\n    </tr>\n    <tr>\n      <th>2022-11-24</th>\n      <td>2022-11-24</td>\n      <td>0.000000</td>\n      <td>0.045190</td>\n      <td>229</td>\n      <td>219.666667</td>\n    </tr>\n    <tr>\n      <th>2022-11-25</th>\n      <td>2022-11-25</td>\n      <td>0.042489</td>\n      <td>0.000000</td>\n      <td>206</td>\n      <td>119.000000</td>\n    </tr>\n  </tbody>\n</table>\n<p>180 rows × 5 columns</p>\n</div>"
     },
     "execution_count": 7,
     "metadata": {},
     "output_type": "execute_result"
    }
   ],
   "source": [
    "day=date(year=2022,month=3,day=31)\n",
    "\n",
    "def deviation_last_workday(day_delta=1):\n",
    "    def func(day):\n",
    "        row_num= features_by_date.index.get_loc(day)\n",
    "        try:\n",
    "            deviation_last_workday=(features_by_date.iloc[row_num-day_delta]['label_num_people_11_30']-features_by_date.iloc[row_num-day_delta]['average_of_past_weeks'])/features_by_date.iloc[row_num-day_delta]['average_of_past_weeks']\n",
    "        except KeyError:\n",
    "            deviation_last_workday=np.nan\n",
    "        return deviation_last_workday\n",
    "    return func\n",
    "\n",
    "dev_1_day_ago=deviation_last_workday(1)\n",
    "features_by_date['deviation_1_day_ago']=features_by_date['date'].apply(dev_1_day_ago)\n",
    "dev_2_day_ago=deviation_last_workday(2)\n",
    "features_by_date['deviation_2_day_ago']=features_by_date['date'].apply(dev_2_day_ago)\n",
    "features_by_date[['date','deviation_1_day_ago','deviation_2_day_ago','label_num_people_11_30','average_of_past_weeks']]"
   ],
   "metadata": {
    "collapsed": false
   }
  },
  {
   "cell_type": "code",
   "execution_count": 10,
   "outputs": [
    {
     "name": "stdout",
     "output_type": "stream",
     "text": [
      "date\n",
      "num_people_10_00\n",
      "label_num_people_12_33\n",
      "label_num_people_11_30\n",
      "label_num_menus_sold\n",
      "label_difference_12_normalized\n",
      "label_difference_10_and_sold_normalized\n",
      "zurich_vacation\n",
      "weekday\n",
      "Monday\n",
      "Tuesday\n",
      "Wednesday\n",
      "Thursday\n",
      "Friday\n",
      "Spring/Autumn\n",
      "Summer\n",
      "Winter\n",
      "zuehlke_day\n",
      "Temperature\n",
      "temp_deviation\n",
      "Rain Duration\n",
      "Rain_half_discrete\n",
      "Rain_binary\n",
      "average_of_past_weeks\n",
      "deviation_1_day_ago\n",
      "deviation_2_day_ago\n"
     ]
    }
   ],
   "source": [
    "for i in features_by_date.columns:\n",
    "    print(i)\n",
    "\n"
   ],
   "metadata": {
    "collapsed": false
   }
  },
  {
   "cell_type": "code",
   "execution_count": null,
   "outputs": [],
   "source": [],
   "metadata": {
    "collapsed": false
   }
  },
  {
   "cell_type": "code",
   "execution_count": 53,
   "outputs": [
    {
     "data": {
      "text/plain": "float"
     },
     "execution_count": 53,
     "metadata": {},
     "output_type": "execute_result"
    }
   ],
   "source": [
    "type(np.nan)"
   ],
   "metadata": {
    "collapsed": false
   }
  },
  {
   "cell_type": "code",
   "execution_count": 45,
   "outputs": [
    {
     "data": {
      "text/plain": "5.333333333333343"
     },
     "execution_count": 45,
     "metadata": {},
     "output_type": "execute_result"
    }
   ],
   "source": [
    "i=100\n",
    "features_by_date.iloc[i-1]['label_num_people_11_30']-features_by_date.iloc[i-1]['average_of_past_3_weeks']"
   ],
   "metadata": {
    "collapsed": false
   }
  },
  {
   "cell_type": "code",
   "execution_count": 47,
   "outputs": [
    {
     "data": {
      "text/plain": "<pandas.core.indexing._iLocIndexer at 0x19267ec7380>"
     },
     "execution_count": 47,
     "metadata": {},
     "output_type": "execute_result"
    }
   ],
   "source": [
    "features_by_date.loc[day]"
   ],
   "metadata": {
    "collapsed": false
   }
  },
  {
   "cell_type": "code",
   "execution_count": 43,
   "outputs": [
    {
     "data": {
      "text/plain": "Index(['date', 'num_people_10_00', 'label_num_people_12_33',\n       'label_num_people_11_30', 'label_num_menus_sold',\n       'label_difference_12_normalized',\n       'label_difference_10_and_sold_normalized', 'zurich_vacation', 'weekday',\n       'Monday', 'Tuesday', 'Wednesday', 'Thursday', 'Friday', 'Spring/Autumn',\n       'Summer', 'Winter', 'zuehlke_day', 'Temperature', 'temp_deviation',\n       'Rain Duration', 'Rain_half_discrete', 'Rain_binary', 'month_quarter_0',\n       'month_quarter_1', 'month_quarter_2', 'month_quarter_3',\n       'average_of_past_3_weeks'],\n      dtype='object')"
     },
     "execution_count": 43,
     "metadata": {},
     "output_type": "execute_result"
    }
   ],
   "source": [
    "features_by_date.columns"
   ],
   "metadata": {
    "collapsed": false
   }
  },
  {
   "cell_type": "code",
   "execution_count": 37,
   "outputs": [
    {
     "name": "stdout",
     "output_type": "stream",
     "text": [
      "2022-03-03 gives KeyError\n",
      "2022-02-24 gives KeyError\n"
     ]
    },
    {
     "data": {
      "text/plain": "128.0"
     },
     "execution_count": 37,
     "metadata": {},
     "output_type": "execute_result"
    }
   ],
   "source": [
    "day=date(year=2022,month=3,day=17)\n",
    "\n",
    "num_people_11_30=[]\n",
    "num_weeks=3\n",
    "for i in range(1,num_weeks+1):\n",
    "    considered_day=day-timedelta(days=i*7)\n",
    "    try:\n",
    "        num_people_11_30.append(features_by_date.loc[considered_day, 'label_num_people_11_30'])\n",
    "    except KeyError:\n",
    "        print(f'{considered_day} gives KeyError')\n",
    "np.mean(num_people_11_30)"
   ],
   "metadata": {
    "collapsed": false
   }
  },
  {
   "cell_type": "code",
   "execution_count": null,
   "outputs": [],
   "source": [
    "    for day in date_list_all:\n",
    "        for i in relevant_num_days_ago:\n",
    "            time_delta = timedelta(days=i)\n",
    "            try:\n",
    "                features_by_date.loc[day, (str(i) + '_days_ago_12_33')] = num_people_by_date.loc[\n",
    "                    day - time_delta, 'num_people_at_12_33']\n",
    "            except KeyError:\n",
    "                features_by_date.loc[day, str(i) + '_days_ago_12_33'] = float('nan')\n",
    "            try:\n",
    "                features_by_date.loc[day, str(i) + '_days_ago_norm_dif'] = num_people_by_date.loc[\n",
    "                    day - time_delta, 'normalized_difference_10_and_12']\n",
    "            except KeyError:\n",
    "                features_by_date.loc[day, str(i) + '_days_ago_norm_dif'] = float('nan')\n"
   ],
   "metadata": {
    "collapsed": false
   }
  }
 ],
 "metadata": {
  "kernelspec": {
   "display_name": "Python 3",
   "language": "python",
   "name": "python3"
  },
  "language_info": {
   "codemirror_mode": {
    "name": "ipython",
    "version": 2
   },
   "file_extension": ".py",
   "mimetype": "text/x-python",
   "name": "python",
   "nbconvert_exporter": "python",
   "pygments_lexer": "ipython2",
   "version": "2.7.6"
  }
 },
 "nbformat": 4,
 "nbformat_minor": 0
}
