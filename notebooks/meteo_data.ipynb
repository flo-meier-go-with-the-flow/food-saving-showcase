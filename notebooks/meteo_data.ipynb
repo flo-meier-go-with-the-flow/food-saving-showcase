{
 "cells": [
  {
   "cell_type": "code",
   "execution_count": 33,
   "metadata": {
    "collapsed": true
   },
   "outputs": [
    {
     "data": {
      "text/plain": "                    Datum                 Standort Parameter Intervall  \\\n0   2022-01-01T00:00+0100  Zch_Stampfenbachstrasse         T        h1   \n1   2022-01-01T00:00+0100  Zch_Stampfenbachstrasse        Hr        h1   \n2   2022-01-01T00:00+0100  Zch_Stampfenbachstrasse         p        h1   \n3   2022-01-01T00:00+0100  Zch_Stampfenbachstrasse   RainDur        h1   \n4   2022-01-01T00:00+0100  Zch_Stampfenbachstrasse    StrGlo        h1   \n5   2022-01-01T00:00+0100  Zch_Stampfenbachstrasse        WD        h1   \n6   2022-01-01T00:00+0100  Zch_Stampfenbachstrasse       WVv        h1   \n7   2022-01-01T00:00+0100  Zch_Stampfenbachstrasse       WVs        h1   \n8   2022-01-01T00:00+0100      Zch_Schimmelstrasse         T        h1   \n9   2022-01-01T00:00+0100      Zch_Schimmelstrasse        Hr        h1   \n10  2022-01-01T00:00+0100      Zch_Schimmelstrasse         p        h1   \n11  2022-01-01T00:00+0100      Zch_Schimmelstrasse   RainDur        h1   \n12  2022-01-01T00:00+0100      Zch_Schimmelstrasse        WD        h1   \n13  2022-01-01T00:00+0100      Zch_Schimmelstrasse       WVv        h1   \n14  2022-01-01T00:00+0100      Zch_Schimmelstrasse       WVs        h1   \n15  2022-01-01T00:00+0100   Zch_Rosengartenstrasse         T        h1   \n16  2022-01-01T00:00+0100   Zch_Rosengartenstrasse        Hr        h1   \n17  2022-01-01T00:00+0100   Zch_Rosengartenstrasse         p        h1   \n18  2022-01-01T00:00+0100   Zch_Rosengartenstrasse   RainDur        h1   \n19  2022-01-01T00:00+0100   Zch_Rosengartenstrasse        WD        h1   \n20  2022-01-01T00:00+0100   Zch_Rosengartenstrasse       WVv        h1   \n21  2022-01-01T00:00+0100   Zch_Rosengartenstrasse       WVs        h1   \n22  2022-01-01T01:00+0100  Zch_Stampfenbachstrasse         T        h1   \n23  2022-01-01T01:00+0100  Zch_Stampfenbachstrasse        Hr        h1   \n24  2022-01-01T01:00+0100  Zch_Stampfenbachstrasse         p        h1   \n25  2022-01-01T01:00+0100  Zch_Stampfenbachstrasse   RainDur        h1   \n26  2022-01-01T01:00+0100  Zch_Stampfenbachstrasse    StrGlo        h1   \n27  2022-01-01T01:00+0100  Zch_Stampfenbachstrasse        WD        h1   \n28  2022-01-01T01:00+0100  Zch_Stampfenbachstrasse       WVv        h1   \n29  2022-01-01T01:00+0100  Zch_Stampfenbachstrasse       WVs        h1   \n30  2022-01-01T01:00+0100      Zch_Schimmelstrasse         T        h1   \n31  2022-01-01T01:00+0100      Zch_Schimmelstrasse        Hr        h1   \n32  2022-01-01T01:00+0100      Zch_Schimmelstrasse         p        h1   \n33  2022-01-01T01:00+0100      Zch_Schimmelstrasse   RainDur        h1   \n34  2022-01-01T01:00+0100      Zch_Schimmelstrasse        WD        h1   \n35  2022-01-01T01:00+0100      Zch_Schimmelstrasse       WVv        h1   \n36  2022-01-01T01:00+0100      Zch_Schimmelstrasse       WVs        h1   \n37  2022-01-01T01:00+0100   Zch_Rosengartenstrasse         T        h1   \n38  2022-01-01T01:00+0100   Zch_Rosengartenstrasse        Hr        h1   \n39  2022-01-01T01:00+0100   Zch_Rosengartenstrasse         p        h1   \n40  2022-01-01T01:00+0100   Zch_Rosengartenstrasse   RainDur        h1   \n41  2022-01-01T01:00+0100   Zch_Rosengartenstrasse        WD        h1   \n42  2022-01-01T01:00+0100   Zch_Rosengartenstrasse       WVv        h1   \n43  2022-01-01T01:00+0100   Zch_Rosengartenstrasse       WVs        h1   \n44  2022-01-01T02:00+0100  Zch_Stampfenbachstrasse         T        h1   \n45  2022-01-01T02:00+0100  Zch_Stampfenbachstrasse        Hr        h1   \n46  2022-01-01T02:00+0100  Zch_Stampfenbachstrasse         p        h1   \n47  2022-01-01T02:00+0100  Zch_Stampfenbachstrasse   RainDur        h1   \n48  2022-01-01T02:00+0100  Zch_Stampfenbachstrasse    StrGlo        h1   \n49  2022-01-01T02:00+0100  Zch_Stampfenbachstrasse        WD        h1   \n\n   Einheit    Wert        Status  \n0       °C    7.22  provisorisch  \n1      %Hr   82.93  provisorisch  \n2      hPa  977.20  provisorisch  \n3      min    0.00  provisorisch  \n4     W/m2    0.02  provisorisch  \n5        °  184.59  provisorisch  \n6      m/s    1.04  provisorisch  \n7      m/s    1.16  provisorisch  \n8       °C    5.96  provisorisch  \n9      %Hr     NaN  provisorisch  \n10     hPa  979.98  provisorisch  \n11     min    0.00  provisorisch  \n12       °   88.94  provisorisch  \n13     m/s    0.00  provisorisch  \n14     m/s    0.43  provisorisch  \n15      °C    6.59  provisorisch  \n16     %Hr   86.22  provisorisch  \n17     hPa  977.52  provisorisch  \n18     min    0.00  provisorisch  \n19       °  274.06  provisorisch  \n20     m/s    0.13  provisorisch  \n21     m/s    0.22  provisorisch  \n22      °C    6.78  provisorisch  \n23     %Hr   83.34  provisorisch  \n24     hPa  977.07  provisorisch  \n25     min    0.00  provisorisch  \n26    W/m2    0.02  provisorisch  \n27       °  202.05  provisorisch  \n28     m/s    0.90  provisorisch  \n29     m/s    0.97  provisorisch  \n30      °C    5.81  provisorisch  \n31     %Hr     NaN  provisorisch  \n32     hPa  979.82  provisorisch  \n33     min    0.00  provisorisch  \n34       °   50.13  provisorisch  \n35     m/s    0.01  provisorisch  \n36     m/s    0.25  provisorisch  \n37      °C    6.35  provisorisch  \n38     %Hr   86.73  provisorisch  \n39     hPa  977.43  provisorisch  \n40     min    0.00  provisorisch  \n41       °  251.75  provisorisch  \n42     m/s    0.22  provisorisch  \n43     m/s    0.29  provisorisch  \n44      °C    6.42  provisorisch  \n45     %Hr   84.66  provisorisch  \n46     hPa  977.14  provisorisch  \n47     min    0.00  provisorisch  \n48    W/m2    0.03  provisorisch  \n49       °  178.00  provisorisch  ",
      "text/html": "<div>\n<style scoped>\n    .dataframe tbody tr th:only-of-type {\n        vertical-align: middle;\n    }\n\n    .dataframe tbody tr th {\n        vertical-align: top;\n    }\n\n    .dataframe thead th {\n        text-align: right;\n    }\n</style>\n<table border=\"1\" class=\"dataframe\">\n  <thead>\n    <tr style=\"text-align: right;\">\n      <th></th>\n      <th>Datum</th>\n      <th>Standort</th>\n      <th>Parameter</th>\n      <th>Intervall</th>\n      <th>Einheit</th>\n      <th>Wert</th>\n      <th>Status</th>\n    </tr>\n  </thead>\n  <tbody>\n    <tr>\n      <th>0</th>\n      <td>2022-01-01T00:00+0100</td>\n      <td>Zch_Stampfenbachstrasse</td>\n      <td>T</td>\n      <td>h1</td>\n      <td>°C</td>\n      <td>7.22</td>\n      <td>provisorisch</td>\n    </tr>\n    <tr>\n      <th>1</th>\n      <td>2022-01-01T00:00+0100</td>\n      <td>Zch_Stampfenbachstrasse</td>\n      <td>Hr</td>\n      <td>h1</td>\n      <td>%Hr</td>\n      <td>82.93</td>\n      <td>provisorisch</td>\n    </tr>\n    <tr>\n      <th>2</th>\n      <td>2022-01-01T00:00+0100</td>\n      <td>Zch_Stampfenbachstrasse</td>\n      <td>p</td>\n      <td>h1</td>\n      <td>hPa</td>\n      <td>977.20</td>\n      <td>provisorisch</td>\n    </tr>\n    <tr>\n      <th>3</th>\n      <td>2022-01-01T00:00+0100</td>\n      <td>Zch_Stampfenbachstrasse</td>\n      <td>RainDur</td>\n      <td>h1</td>\n      <td>min</td>\n      <td>0.00</td>\n      <td>provisorisch</td>\n    </tr>\n    <tr>\n      <th>4</th>\n      <td>2022-01-01T00:00+0100</td>\n      <td>Zch_Stampfenbachstrasse</td>\n      <td>StrGlo</td>\n      <td>h1</td>\n      <td>W/m2</td>\n      <td>0.02</td>\n      <td>provisorisch</td>\n    </tr>\n    <tr>\n      <th>5</th>\n      <td>2022-01-01T00:00+0100</td>\n      <td>Zch_Stampfenbachstrasse</td>\n      <td>WD</td>\n      <td>h1</td>\n      <td>°</td>\n      <td>184.59</td>\n      <td>provisorisch</td>\n    </tr>\n    <tr>\n      <th>6</th>\n      <td>2022-01-01T00:00+0100</td>\n      <td>Zch_Stampfenbachstrasse</td>\n      <td>WVv</td>\n      <td>h1</td>\n      <td>m/s</td>\n      <td>1.04</td>\n      <td>provisorisch</td>\n    </tr>\n    <tr>\n      <th>7</th>\n      <td>2022-01-01T00:00+0100</td>\n      <td>Zch_Stampfenbachstrasse</td>\n      <td>WVs</td>\n      <td>h1</td>\n      <td>m/s</td>\n      <td>1.16</td>\n      <td>provisorisch</td>\n    </tr>\n    <tr>\n      <th>8</th>\n      <td>2022-01-01T00:00+0100</td>\n      <td>Zch_Schimmelstrasse</td>\n      <td>T</td>\n      <td>h1</td>\n      <td>°C</td>\n      <td>5.96</td>\n      <td>provisorisch</td>\n    </tr>\n    <tr>\n      <th>9</th>\n      <td>2022-01-01T00:00+0100</td>\n      <td>Zch_Schimmelstrasse</td>\n      <td>Hr</td>\n      <td>h1</td>\n      <td>%Hr</td>\n      <td>NaN</td>\n      <td>provisorisch</td>\n    </tr>\n    <tr>\n      <th>10</th>\n      <td>2022-01-01T00:00+0100</td>\n      <td>Zch_Schimmelstrasse</td>\n      <td>p</td>\n      <td>h1</td>\n      <td>hPa</td>\n      <td>979.98</td>\n      <td>provisorisch</td>\n    </tr>\n    <tr>\n      <th>11</th>\n      <td>2022-01-01T00:00+0100</td>\n      <td>Zch_Schimmelstrasse</td>\n      <td>RainDur</td>\n      <td>h1</td>\n      <td>min</td>\n      <td>0.00</td>\n      <td>provisorisch</td>\n    </tr>\n    <tr>\n      <th>12</th>\n      <td>2022-01-01T00:00+0100</td>\n      <td>Zch_Schimmelstrasse</td>\n      <td>WD</td>\n      <td>h1</td>\n      <td>°</td>\n      <td>88.94</td>\n      <td>provisorisch</td>\n    </tr>\n    <tr>\n      <th>13</th>\n      <td>2022-01-01T00:00+0100</td>\n      <td>Zch_Schimmelstrasse</td>\n      <td>WVv</td>\n      <td>h1</td>\n      <td>m/s</td>\n      <td>0.00</td>\n      <td>provisorisch</td>\n    </tr>\n    <tr>\n      <th>14</th>\n      <td>2022-01-01T00:00+0100</td>\n      <td>Zch_Schimmelstrasse</td>\n      <td>WVs</td>\n      <td>h1</td>\n      <td>m/s</td>\n      <td>0.43</td>\n      <td>provisorisch</td>\n    </tr>\n    <tr>\n      <th>15</th>\n      <td>2022-01-01T00:00+0100</td>\n      <td>Zch_Rosengartenstrasse</td>\n      <td>T</td>\n      <td>h1</td>\n      <td>°C</td>\n      <td>6.59</td>\n      <td>provisorisch</td>\n    </tr>\n    <tr>\n      <th>16</th>\n      <td>2022-01-01T00:00+0100</td>\n      <td>Zch_Rosengartenstrasse</td>\n      <td>Hr</td>\n      <td>h1</td>\n      <td>%Hr</td>\n      <td>86.22</td>\n      <td>provisorisch</td>\n    </tr>\n    <tr>\n      <th>17</th>\n      <td>2022-01-01T00:00+0100</td>\n      <td>Zch_Rosengartenstrasse</td>\n      <td>p</td>\n      <td>h1</td>\n      <td>hPa</td>\n      <td>977.52</td>\n      <td>provisorisch</td>\n    </tr>\n    <tr>\n      <th>18</th>\n      <td>2022-01-01T00:00+0100</td>\n      <td>Zch_Rosengartenstrasse</td>\n      <td>RainDur</td>\n      <td>h1</td>\n      <td>min</td>\n      <td>0.00</td>\n      <td>provisorisch</td>\n    </tr>\n    <tr>\n      <th>19</th>\n      <td>2022-01-01T00:00+0100</td>\n      <td>Zch_Rosengartenstrasse</td>\n      <td>WD</td>\n      <td>h1</td>\n      <td>°</td>\n      <td>274.06</td>\n      <td>provisorisch</td>\n    </tr>\n    <tr>\n      <th>20</th>\n      <td>2022-01-01T00:00+0100</td>\n      <td>Zch_Rosengartenstrasse</td>\n      <td>WVv</td>\n      <td>h1</td>\n      <td>m/s</td>\n      <td>0.13</td>\n      <td>provisorisch</td>\n    </tr>\n    <tr>\n      <th>21</th>\n      <td>2022-01-01T00:00+0100</td>\n      <td>Zch_Rosengartenstrasse</td>\n      <td>WVs</td>\n      <td>h1</td>\n      <td>m/s</td>\n      <td>0.22</td>\n      <td>provisorisch</td>\n    </tr>\n    <tr>\n      <th>22</th>\n      <td>2022-01-01T01:00+0100</td>\n      <td>Zch_Stampfenbachstrasse</td>\n      <td>T</td>\n      <td>h1</td>\n      <td>°C</td>\n      <td>6.78</td>\n      <td>provisorisch</td>\n    </tr>\n    <tr>\n      <th>23</th>\n      <td>2022-01-01T01:00+0100</td>\n      <td>Zch_Stampfenbachstrasse</td>\n      <td>Hr</td>\n      <td>h1</td>\n      <td>%Hr</td>\n      <td>83.34</td>\n      <td>provisorisch</td>\n    </tr>\n    <tr>\n      <th>24</th>\n      <td>2022-01-01T01:00+0100</td>\n      <td>Zch_Stampfenbachstrasse</td>\n      <td>p</td>\n      <td>h1</td>\n      <td>hPa</td>\n      <td>977.07</td>\n      <td>provisorisch</td>\n    </tr>\n    <tr>\n      <th>25</th>\n      <td>2022-01-01T01:00+0100</td>\n      <td>Zch_Stampfenbachstrasse</td>\n      <td>RainDur</td>\n      <td>h1</td>\n      <td>min</td>\n      <td>0.00</td>\n      <td>provisorisch</td>\n    </tr>\n    <tr>\n      <th>26</th>\n      <td>2022-01-01T01:00+0100</td>\n      <td>Zch_Stampfenbachstrasse</td>\n      <td>StrGlo</td>\n      <td>h1</td>\n      <td>W/m2</td>\n      <td>0.02</td>\n      <td>provisorisch</td>\n    </tr>\n    <tr>\n      <th>27</th>\n      <td>2022-01-01T01:00+0100</td>\n      <td>Zch_Stampfenbachstrasse</td>\n      <td>WD</td>\n      <td>h1</td>\n      <td>°</td>\n      <td>202.05</td>\n      <td>provisorisch</td>\n    </tr>\n    <tr>\n      <th>28</th>\n      <td>2022-01-01T01:00+0100</td>\n      <td>Zch_Stampfenbachstrasse</td>\n      <td>WVv</td>\n      <td>h1</td>\n      <td>m/s</td>\n      <td>0.90</td>\n      <td>provisorisch</td>\n    </tr>\n    <tr>\n      <th>29</th>\n      <td>2022-01-01T01:00+0100</td>\n      <td>Zch_Stampfenbachstrasse</td>\n      <td>WVs</td>\n      <td>h1</td>\n      <td>m/s</td>\n      <td>0.97</td>\n      <td>provisorisch</td>\n    </tr>\n    <tr>\n      <th>30</th>\n      <td>2022-01-01T01:00+0100</td>\n      <td>Zch_Schimmelstrasse</td>\n      <td>T</td>\n      <td>h1</td>\n      <td>°C</td>\n      <td>5.81</td>\n      <td>provisorisch</td>\n    </tr>\n    <tr>\n      <th>31</th>\n      <td>2022-01-01T01:00+0100</td>\n      <td>Zch_Schimmelstrasse</td>\n      <td>Hr</td>\n      <td>h1</td>\n      <td>%Hr</td>\n      <td>NaN</td>\n      <td>provisorisch</td>\n    </tr>\n    <tr>\n      <th>32</th>\n      <td>2022-01-01T01:00+0100</td>\n      <td>Zch_Schimmelstrasse</td>\n      <td>p</td>\n      <td>h1</td>\n      <td>hPa</td>\n      <td>979.82</td>\n      <td>provisorisch</td>\n    </tr>\n    <tr>\n      <th>33</th>\n      <td>2022-01-01T01:00+0100</td>\n      <td>Zch_Schimmelstrasse</td>\n      <td>RainDur</td>\n      <td>h1</td>\n      <td>min</td>\n      <td>0.00</td>\n      <td>provisorisch</td>\n    </tr>\n    <tr>\n      <th>34</th>\n      <td>2022-01-01T01:00+0100</td>\n      <td>Zch_Schimmelstrasse</td>\n      <td>WD</td>\n      <td>h1</td>\n      <td>°</td>\n      <td>50.13</td>\n      <td>provisorisch</td>\n    </tr>\n    <tr>\n      <th>35</th>\n      <td>2022-01-01T01:00+0100</td>\n      <td>Zch_Schimmelstrasse</td>\n      <td>WVv</td>\n      <td>h1</td>\n      <td>m/s</td>\n      <td>0.01</td>\n      <td>provisorisch</td>\n    </tr>\n    <tr>\n      <th>36</th>\n      <td>2022-01-01T01:00+0100</td>\n      <td>Zch_Schimmelstrasse</td>\n      <td>WVs</td>\n      <td>h1</td>\n      <td>m/s</td>\n      <td>0.25</td>\n      <td>provisorisch</td>\n    </tr>\n    <tr>\n      <th>37</th>\n      <td>2022-01-01T01:00+0100</td>\n      <td>Zch_Rosengartenstrasse</td>\n      <td>T</td>\n      <td>h1</td>\n      <td>°C</td>\n      <td>6.35</td>\n      <td>provisorisch</td>\n    </tr>\n    <tr>\n      <th>38</th>\n      <td>2022-01-01T01:00+0100</td>\n      <td>Zch_Rosengartenstrasse</td>\n      <td>Hr</td>\n      <td>h1</td>\n      <td>%Hr</td>\n      <td>86.73</td>\n      <td>provisorisch</td>\n    </tr>\n    <tr>\n      <th>39</th>\n      <td>2022-01-01T01:00+0100</td>\n      <td>Zch_Rosengartenstrasse</td>\n      <td>p</td>\n      <td>h1</td>\n      <td>hPa</td>\n      <td>977.43</td>\n      <td>provisorisch</td>\n    </tr>\n    <tr>\n      <th>40</th>\n      <td>2022-01-01T01:00+0100</td>\n      <td>Zch_Rosengartenstrasse</td>\n      <td>RainDur</td>\n      <td>h1</td>\n      <td>min</td>\n      <td>0.00</td>\n      <td>provisorisch</td>\n    </tr>\n    <tr>\n      <th>41</th>\n      <td>2022-01-01T01:00+0100</td>\n      <td>Zch_Rosengartenstrasse</td>\n      <td>WD</td>\n      <td>h1</td>\n      <td>°</td>\n      <td>251.75</td>\n      <td>provisorisch</td>\n    </tr>\n    <tr>\n      <th>42</th>\n      <td>2022-01-01T01:00+0100</td>\n      <td>Zch_Rosengartenstrasse</td>\n      <td>WVv</td>\n      <td>h1</td>\n      <td>m/s</td>\n      <td>0.22</td>\n      <td>provisorisch</td>\n    </tr>\n    <tr>\n      <th>43</th>\n      <td>2022-01-01T01:00+0100</td>\n      <td>Zch_Rosengartenstrasse</td>\n      <td>WVs</td>\n      <td>h1</td>\n      <td>m/s</td>\n      <td>0.29</td>\n      <td>provisorisch</td>\n    </tr>\n    <tr>\n      <th>44</th>\n      <td>2022-01-01T02:00+0100</td>\n      <td>Zch_Stampfenbachstrasse</td>\n      <td>T</td>\n      <td>h1</td>\n      <td>°C</td>\n      <td>6.42</td>\n      <td>provisorisch</td>\n    </tr>\n    <tr>\n      <th>45</th>\n      <td>2022-01-01T02:00+0100</td>\n      <td>Zch_Stampfenbachstrasse</td>\n      <td>Hr</td>\n      <td>h1</td>\n      <td>%Hr</td>\n      <td>84.66</td>\n      <td>provisorisch</td>\n    </tr>\n    <tr>\n      <th>46</th>\n      <td>2022-01-01T02:00+0100</td>\n      <td>Zch_Stampfenbachstrasse</td>\n      <td>p</td>\n      <td>h1</td>\n      <td>hPa</td>\n      <td>977.14</td>\n      <td>provisorisch</td>\n    </tr>\n    <tr>\n      <th>47</th>\n      <td>2022-01-01T02:00+0100</td>\n      <td>Zch_Stampfenbachstrasse</td>\n      <td>RainDur</td>\n      <td>h1</td>\n      <td>min</td>\n      <td>0.00</td>\n      <td>provisorisch</td>\n    </tr>\n    <tr>\n      <th>48</th>\n      <td>2022-01-01T02:00+0100</td>\n      <td>Zch_Stampfenbachstrasse</td>\n      <td>StrGlo</td>\n      <td>h1</td>\n      <td>W/m2</td>\n      <td>0.03</td>\n      <td>provisorisch</td>\n    </tr>\n    <tr>\n      <th>49</th>\n      <td>2022-01-01T02:00+0100</td>\n      <td>Zch_Stampfenbachstrasse</td>\n      <td>WD</td>\n      <td>h1</td>\n      <td>°</td>\n      <td>178.00</td>\n      <td>provisorisch</td>\n    </tr>\n  </tbody>\n</table>\n</div>"
     },
     "execution_count": 33,
     "metadata": {},
     "output_type": "execute_result"
    }
   ],
   "source": [
    "import pandas as pd\n",
    "import numpy as np\n",
    "import os\n",
    "import matplotlib as mpl\n",
    "import matplotlib.pyplot as plt\n",
    "from datetime import date, timedelta\n",
    "\n",
    "\n",
    "\n",
    "csv_path=os.path.join('..', 'data', 'ugz_ogd_meteo_h1_2022.csv')\n",
    "meteo_data=pd.read_csv(csv_path)\n",
    "meteo_data.head(50)"
   ]
  },
  {
   "cell_type": "code",
   "execution_count": 64,
   "outputs": [
    {
     "data": {
      "text/plain": "            Rain Duration  Rain_half_discrete  Rain_binary\ndate                                                      \n2022-01-01           0.00           -2.590325            0\n2022-01-02           0.00           -2.590325            0\n2022-01-03           0.00           -2.590325            0\n2022-01-04           0.00           -2.590325            0\n2022-01-05           0.00           -2.590325            0\n...                   ...                 ...          ...\n2022-12-01           0.00           -2.590325            0\n2022-12-02           0.00           -2.590325            0\n2022-12-03           0.00           -2.590325            0\n2022-12-04           2.12           12.890000            1\n2022-12-05           0.00           -2.590325            0\n\n[339 rows x 3 columns]",
      "text/html": "<div>\n<style scoped>\n    .dataframe tbody tr th:only-of-type {\n        vertical-align: middle;\n    }\n\n    .dataframe tbody tr th {\n        vertical-align: top;\n    }\n\n    .dataframe thead th {\n        text-align: right;\n    }\n</style>\n<table border=\"1\" class=\"dataframe\">\n  <thead>\n    <tr style=\"text-align: right;\">\n      <th></th>\n      <th>Rain Duration</th>\n      <th>Rain_half_discrete</th>\n      <th>Rain_binary</th>\n    </tr>\n    <tr>\n      <th>date</th>\n      <th></th>\n      <th></th>\n      <th></th>\n    </tr>\n  </thead>\n  <tbody>\n    <tr>\n      <th>2022-01-01</th>\n      <td>0.00</td>\n      <td>-2.590325</td>\n      <td>0</td>\n    </tr>\n    <tr>\n      <th>2022-01-02</th>\n      <td>0.00</td>\n      <td>-2.590325</td>\n      <td>0</td>\n    </tr>\n    <tr>\n      <th>2022-01-03</th>\n      <td>0.00</td>\n      <td>-2.590325</td>\n      <td>0</td>\n    </tr>\n    <tr>\n      <th>2022-01-04</th>\n      <td>0.00</td>\n      <td>-2.590325</td>\n      <td>0</td>\n    </tr>\n    <tr>\n      <th>2022-01-05</th>\n      <td>0.00</td>\n      <td>-2.590325</td>\n      <td>0</td>\n    </tr>\n    <tr>\n      <th>...</th>\n      <td>...</td>\n      <td>...</td>\n      <td>...</td>\n    </tr>\n    <tr>\n      <th>2022-12-01</th>\n      <td>0.00</td>\n      <td>-2.590325</td>\n      <td>0</td>\n    </tr>\n    <tr>\n      <th>2022-12-02</th>\n      <td>0.00</td>\n      <td>-2.590325</td>\n      <td>0</td>\n    </tr>\n    <tr>\n      <th>2022-12-03</th>\n      <td>0.00</td>\n      <td>-2.590325</td>\n      <td>0</td>\n    </tr>\n    <tr>\n      <th>2022-12-04</th>\n      <td>2.12</td>\n      <td>12.890000</td>\n      <td>1</td>\n    </tr>\n    <tr>\n      <th>2022-12-05</th>\n      <td>0.00</td>\n      <td>-2.590325</td>\n      <td>0</td>\n    </tr>\n  </tbody>\n</table>\n<p>339 rows × 3 columns</p>\n</div>"
     },
     "execution_count": 64,
     "metadata": {},
     "output_type": "execute_result"
    }
   ],
   "source": [
    "meteo_data['date']=meteo_data['Datum'].apply(lambda x: x.split('T')[0])\n",
    "meteo_data['time']=meteo_data['Datum'].apply(lambda x: x.split('T')[1])\n",
    "meteo_data['date']=meteo_data['date'].apply(lambda x: date(year=int(x.split('-')[0]),month=int(x.split('-')[1]),day=int(x.split('-')[2])))\n",
    "rain_meteo_data = meteo_data[\n",
    "    (meteo_data['Standort'] == 'Zch_Rosengartenstrasse') & (meteo_data['Parameter'] == 'RainDur') & (\n",
    "            meteo_data['time'] == '12:00+0100')][['date', 'Wert']].set_index('date').rename(\n",
    "    columns={'Wert': 'Rain Duration'})\n",
    "rain_agg=meteo_data[(meteo_data['Standort']=='Zch_Rosengartenstrasse') & (meteo_data['Parameter']=='RainDur') & (meteo_data['time'].isin(['12:00+0100','11:00+0100','10:00+0100']))][['date','Wert']].rename(columns={'Wert':'RainDur'}).groupby('date').aggregate(np.mean)\n",
    "\n",
    "rain_meteo_data['Rain_half_discrete'] =rain_agg.apply(lambda x: x['RainDur'] if x['RainDur']>0 else -np.mean(rain_meteo_data.groupby('date').aggregate(np.mean),axis=0)[0],axis=1\n",
    ")\n",
    "rain_meteo_data['Rain_binary'] =rain_agg.apply(lambda x: 1 if x['RainDur']>0 else 0,axis=1\n",
    ")\n",
    "rain_meteo_data"
   ],
   "metadata": {
    "collapsed": false
   }
  },
  {
   "cell_type": "code",
   "execution_count": 60,
   "outputs": [
    {
     "data": {
      "text/plain": "date\n2022-01-01     0.00\n2022-01-02     0.00\n2022-01-03     0.00\n2022-01-04     0.00\n2022-01-05     0.00\n              ...  \n2022-12-01     0.00\n2022-12-02     0.00\n2022-12-03     0.00\n2022-12-04    13.89\n2022-12-05     0.00\nLength: 339, dtype: float64"
     },
     "execution_count": 60,
     "metadata": {},
     "output_type": "execute_result"
    }
   ],
   "source": [
    "rain_meteo_data.groupby('date').aggregate(np.mean).apply(lambda x: x['RainDur']+1 if x['RainDur']>0 else 0, axis=1 )"
   ],
   "metadata": {
    "collapsed": false
   }
  },
  {
   "cell_type": "code",
   "execution_count": null,
   "outputs": [],
   "source": [
    "rain_meteo_data.fillna(method='ffill', inplace=True)\n",
    "np.convolve(rain_meteo_data.values.ravel(), np.ones(14)/14,mode='valid')"
   ],
   "metadata": {
    "collapsed": false
   }
  },
  {
   "cell_type": "code",
   "execution_count": 35,
   "outputs": [],
   "source": [
    "num_past_days=10\n",
    "temparature_mean_last_days=pd.DataFrame(data=np.convolve(rain_meteo_data.values.ravel(), np.ones(num_past_days)/num_past_days,mode='valid'), columns=['average_rain'], index=[date(year=2022,month=1,day=num_past_days) +timedelta(days=i) for i in range(0,len(rain_meteo_data)+1-num_past_days)]\n",
    ")\n",
    "rain_meteo_data= rain_meteo_data.join(temparature_mean_last_days)\n",
    "rain_meteo_data['temp_deviation']=rain_meteo_data.apply(lambda row: row['Temperature']-row['average_rain'], axis=1)"
   ],
   "metadata": {
    "collapsed": false
   }
  },
  {
   "cell_type": "code",
   "execution_count": 36,
   "outputs": [
    {
     "data": {
      "text/plain": "            Temperature  average_temperature  temp_deviation\ndate                                                        \n2022-01-01         6.86                  NaN             NaN\n2022-01-02         9.41                  NaN             NaN\n2022-01-03        11.49                  NaN             NaN\n2022-01-04        13.86                  NaN             NaN\n2022-01-05         2.92                  NaN             NaN\n...                 ...                  ...             ...\n2022-12-01         3.89                7.354          -3.464\n2022-12-02         4.27                7.002          -2.732\n2022-12-03         2.26                6.444          -4.184\n2022-12-04         1.81                5.714          -3.904\n2022-12-05         5.87                5.464           0.406\n\n[339 rows x 3 columns]",
      "text/html": "<div>\n<style scoped>\n    .dataframe tbody tr th:only-of-type {\n        vertical-align: middle;\n    }\n\n    .dataframe tbody tr th {\n        vertical-align: top;\n    }\n\n    .dataframe thead th {\n        text-align: right;\n    }\n</style>\n<table border=\"1\" class=\"dataframe\">\n  <thead>\n    <tr style=\"text-align: right;\">\n      <th></th>\n      <th>Temperature</th>\n      <th>average_temperature</th>\n      <th>temp_deviation</th>\n    </tr>\n    <tr>\n      <th>date</th>\n      <th></th>\n      <th></th>\n      <th></th>\n    </tr>\n  </thead>\n  <tbody>\n    <tr>\n      <th>2022-01-01</th>\n      <td>6.86</td>\n      <td>NaN</td>\n      <td>NaN</td>\n    </tr>\n    <tr>\n      <th>2022-01-02</th>\n      <td>9.41</td>\n      <td>NaN</td>\n      <td>NaN</td>\n    </tr>\n    <tr>\n      <th>2022-01-03</th>\n      <td>11.49</td>\n      <td>NaN</td>\n      <td>NaN</td>\n    </tr>\n    <tr>\n      <th>2022-01-04</th>\n      <td>13.86</td>\n      <td>NaN</td>\n      <td>NaN</td>\n    </tr>\n    <tr>\n      <th>2022-01-05</th>\n      <td>2.92</td>\n      <td>NaN</td>\n      <td>NaN</td>\n    </tr>\n    <tr>\n      <th>...</th>\n      <td>...</td>\n      <td>...</td>\n      <td>...</td>\n    </tr>\n    <tr>\n      <th>2022-12-01</th>\n      <td>3.89</td>\n      <td>7.354</td>\n      <td>-3.464</td>\n    </tr>\n    <tr>\n      <th>2022-12-02</th>\n      <td>4.27</td>\n      <td>7.002</td>\n      <td>-2.732</td>\n    </tr>\n    <tr>\n      <th>2022-12-03</th>\n      <td>2.26</td>\n      <td>6.444</td>\n      <td>-4.184</td>\n    </tr>\n    <tr>\n      <th>2022-12-04</th>\n      <td>1.81</td>\n      <td>5.714</td>\n      <td>-3.904</td>\n    </tr>\n    <tr>\n      <th>2022-12-05</th>\n      <td>5.87</td>\n      <td>5.464</td>\n      <td>0.406</td>\n    </tr>\n  </tbody>\n</table>\n<p>339 rows × 3 columns</p>\n</div>"
     },
     "execution_count": 36,
     "metadata": {},
     "output_type": "execute_result"
    }
   ],
   "source": [
    "rain_meteo_data"
   ],
   "metadata": {
    "collapsed": false
   }
  },
  {
   "cell_type": "code",
   "execution_count": 36,
   "outputs": [],
   "source": [],
   "metadata": {
    "collapsed": false
   }
  }
 ],
 "metadata": {
  "kernelspec": {
   "display_name": "Python 3",
   "language": "python",
   "name": "python3"
  },
  "language_info": {
   "codemirror_mode": {
    "name": "ipython",
    "version": 2
   },
   "file_extension": ".py",
   "mimetype": "text/x-python",
   "name": "python",
   "nbconvert_exporter": "python",
   "pygments_lexer": "ipython2",
   "version": "2.7.6"
  }
 },
 "nbformat": 4,
 "nbformat_minor": 0
}
