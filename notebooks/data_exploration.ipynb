{
 "cells": [
  {
   "cell_type": "code",
   "execution_count": 30,
   "metadata": {
    "collapsed": true
   },
   "outputs": [],
   "source": [
    "import pandas as pd\n",
    "import numpy as np\n",
    "import os\n",
    "import matplotlib as mpl\n",
    "import matplotlib.pyplot as plt\n",
    "\n",
    "csv_path=os.path.join('..', 'data', 'month_csv_files', 'flow_counts_2022-10_ZurichSchlieren.csv')\n",
    "\n",
    "\n",
    "df= pd.read_csv(csv_path)"
   ]
  },
  {
   "cell_type": "code",
   "execution_count": 31,
   "outputs": [
    {
     "data": {
      "text/plain": "         location_name           datetime  visitor_count_fw  \\\n500  Zürich, Schlieren  2022-10-02T15:40Z                 0   \n501  Zürich, Schlieren  2022-10-02T15:45Z                 0   \n502  Zürich, Schlieren  2022-10-02T15:50Z                 0   \n503  Zürich, Schlieren  2022-10-02T15:55Z                 0   \n504  Zürich, Schlieren  2022-10-02T16:00Z                 0   \n..                 ...                ...               ...   \n995  Zürich, Schlieren  2022-10-04T08:55Z                 2   \n996  Zürich, Schlieren  2022-10-04T09:00Z                 1   \n997  Zürich, Schlieren  2022-10-04T09:05Z                 1   \n998  Zürich, Schlieren  2022-10-04T09:10Z                 3   \n999  Zürich, Schlieren  2022-10-04T09:15Z                 0   \n\n     visitor_count_fw_male  visitor_count_fw_female  visitor_count_bw  \\\n500                      0                        0                 0   \n501                      0                        0                 0   \n502                      0                        0                 0   \n503                      0                        0                 0   \n504                      0                        0                 0   \n..                     ...                      ...               ...   \n995                      2                        0                 1   \n996                      0                        1                 1   \n997                      0                        0                 2   \n998                      2                        1                 2   \n999                      0                        0                 3   \n\n     visitor_count_bw_male  visitor_count_bw_female  \n500                      0                        0  \n501                      0                        0  \n502                      0                        0  \n503                      0                        0  \n504                      0                        0  \n..                     ...                      ...  \n995                      1                        0  \n996                      0                        0  \n997                      2                        0  \n998                      2                        0  \n999                      3                        0  \n\n[500 rows x 8 columns]",
      "text/html": "<div>\n<style scoped>\n    .dataframe tbody tr th:only-of-type {\n        vertical-align: middle;\n    }\n\n    .dataframe tbody tr th {\n        vertical-align: top;\n    }\n\n    .dataframe thead th {\n        text-align: right;\n    }\n</style>\n<table border=\"1\" class=\"dataframe\">\n  <thead>\n    <tr style=\"text-align: right;\">\n      <th></th>\n      <th>location_name</th>\n      <th>datetime</th>\n      <th>visitor_count_fw</th>\n      <th>visitor_count_fw_male</th>\n      <th>visitor_count_fw_female</th>\n      <th>visitor_count_bw</th>\n      <th>visitor_count_bw_male</th>\n      <th>visitor_count_bw_female</th>\n    </tr>\n  </thead>\n  <tbody>\n    <tr>\n      <th>500</th>\n      <td>Zürich, Schlieren</td>\n      <td>2022-10-02T15:40Z</td>\n      <td>0</td>\n      <td>0</td>\n      <td>0</td>\n      <td>0</td>\n      <td>0</td>\n      <td>0</td>\n    </tr>\n    <tr>\n      <th>501</th>\n      <td>Zürich, Schlieren</td>\n      <td>2022-10-02T15:45Z</td>\n      <td>0</td>\n      <td>0</td>\n      <td>0</td>\n      <td>0</td>\n      <td>0</td>\n      <td>0</td>\n    </tr>\n    <tr>\n      <th>502</th>\n      <td>Zürich, Schlieren</td>\n      <td>2022-10-02T15:50Z</td>\n      <td>0</td>\n      <td>0</td>\n      <td>0</td>\n      <td>0</td>\n      <td>0</td>\n      <td>0</td>\n    </tr>\n    <tr>\n      <th>503</th>\n      <td>Zürich, Schlieren</td>\n      <td>2022-10-02T15:55Z</td>\n      <td>0</td>\n      <td>0</td>\n      <td>0</td>\n      <td>0</td>\n      <td>0</td>\n      <td>0</td>\n    </tr>\n    <tr>\n      <th>504</th>\n      <td>Zürich, Schlieren</td>\n      <td>2022-10-02T16:00Z</td>\n      <td>0</td>\n      <td>0</td>\n      <td>0</td>\n      <td>0</td>\n      <td>0</td>\n      <td>0</td>\n    </tr>\n    <tr>\n      <th>...</th>\n      <td>...</td>\n      <td>...</td>\n      <td>...</td>\n      <td>...</td>\n      <td>...</td>\n      <td>...</td>\n      <td>...</td>\n      <td>...</td>\n    </tr>\n    <tr>\n      <th>995</th>\n      <td>Zürich, Schlieren</td>\n      <td>2022-10-04T08:55Z</td>\n      <td>2</td>\n      <td>2</td>\n      <td>0</td>\n      <td>1</td>\n      <td>1</td>\n      <td>0</td>\n    </tr>\n    <tr>\n      <th>996</th>\n      <td>Zürich, Schlieren</td>\n      <td>2022-10-04T09:00Z</td>\n      <td>1</td>\n      <td>0</td>\n      <td>1</td>\n      <td>1</td>\n      <td>0</td>\n      <td>0</td>\n    </tr>\n    <tr>\n      <th>997</th>\n      <td>Zürich, Schlieren</td>\n      <td>2022-10-04T09:05Z</td>\n      <td>1</td>\n      <td>0</td>\n      <td>0</td>\n      <td>2</td>\n      <td>2</td>\n      <td>0</td>\n    </tr>\n    <tr>\n      <th>998</th>\n      <td>Zürich, Schlieren</td>\n      <td>2022-10-04T09:10Z</td>\n      <td>3</td>\n      <td>2</td>\n      <td>1</td>\n      <td>2</td>\n      <td>2</td>\n      <td>0</td>\n    </tr>\n    <tr>\n      <th>999</th>\n      <td>Zürich, Schlieren</td>\n      <td>2022-10-04T09:15Z</td>\n      <td>0</td>\n      <td>0</td>\n      <td>0</td>\n      <td>3</td>\n      <td>3</td>\n      <td>0</td>\n    </tr>\n  </tbody>\n</table>\n<p>500 rows × 8 columns</p>\n</div>"
     },
     "execution_count": 31,
     "metadata": {},
     "output_type": "execute_result"
    }
   ],
   "source": [
    "df[500:1000]"
   ],
   "metadata": {
    "collapsed": false
   }
  },
  {
   "cell_type": "code",
   "execution_count": 32,
   "outputs": [
    {
     "name": "stdout",
     "output_type": "stream",
     "text": [
      "<class 'pandas.core.frame.DataFrame'>\n",
      "RangeIndex: 8903 entries, 0 to 8902\n",
      "Data columns (total 8 columns):\n",
      " #   Column                   Non-Null Count  Dtype \n",
      "---  ------                   --------------  ----- \n",
      " 0   location_name            8903 non-null   object\n",
      " 1   datetime                 8903 non-null   object\n",
      " 2   visitor_count_fw         8903 non-null   int64 \n",
      " 3   visitor_count_fw_male    8903 non-null   int64 \n",
      " 4   visitor_count_fw_female  8903 non-null   int64 \n",
      " 5   visitor_count_bw         8903 non-null   int64 \n",
      " 6   visitor_count_bw_male    8903 non-null   int64 \n",
      " 7   visitor_count_bw_female  8903 non-null   int64 \n",
      "dtypes: int64(6), object(2)\n",
      "memory usage: 556.6+ KB\n"
     ]
    }
   ],
   "source": [
    "df.info()"
   ],
   "metadata": {
    "collapsed": false
   }
  },
  {
   "cell_type": "code",
   "execution_count": 33,
   "outputs": [],
   "source": [
    "from datetime import date, time, datetime\n",
    "\n",
    "def string_to_date_time(string_datetime):\n",
    "    #string_datetime=df.datetime.iloc[0]\n",
    "    [string_date, string_time]=string_datetime[:-1].split('T')\n",
    "    [string_hour,string_minute]=string_time.split(':')\n",
    "    [string_year,string_month, string_day]=string_date.split('-')\n",
    "    date1=date(year=int(string_year), month=int(string_month), day=int(string_day))\n",
    "    time1=time(hour=int(string_hour), minute=int(string_minute))\n",
    "    time_numeric= np.round(int(string_hour)+float(string_minute)/60,2)\n",
    "    return date1, time1, time_numeric"
   ],
   "metadata": {
    "collapsed": false
   }
  },
  {
   "cell_type": "code",
   "execution_count": 34,
   "outputs": [],
   "source": [
    "def smooth(y, box_pts):\n",
    "    box = np.ones(box_pts)/box_pts\n",
    "    y_smooth = np.convolve(y, box, mode='same')\n",
    "    return y_smooth\n",
    "\n",
    "smoothing_conv_param=3\n",
    "df['smooth_visitor_count_fw']=smooth(df.visitor_count_fw,smoothing_conv_param)\n",
    "df['smooth_visitor_count_bw']=smooth(df.visitor_count_bw,smoothing_conv_param)\n",
    "\n"
   ],
   "metadata": {
    "collapsed": false
   }
  },
  {
   "cell_type": "code",
   "execution_count": 35,
   "outputs": [],
   "source": [
    "df['date']=df.apply(lambda row: string_to_date_time(row['datetime'])[0],axis=1)\n",
    "df['time']=df.apply(lambda row: string_to_date_time(row['datetime'])[1],axis=1)\n",
    "df['time_num']=df.apply(lambda row: string_to_date_time(row['datetime'])[2],axis=1)\n"
   ],
   "metadata": {
    "collapsed": false
   }
  },
  {
   "cell_type": "code",
   "execution_count": 36,
   "outputs": [
    {
     "name": "stderr",
     "output_type": "stream",
     "text": [
      "C:\\Users\\mefl\\AppData\\Local\\Temp\\ipykernel_17052\\43985447.py:1: FutureWarning: Indexing with multiple keys (implicitly converted to a tuple of keys) will be deprecated, use a list instead.\n",
      "  df.groupby(by='date')['visitor_count_fw','visitor_count_bw'].sum()\n"
     ]
    },
    {
     "data": {
      "text/plain": "            visitor_count_fw  visitor_count_bw\ndate                                          \n2022-09-30                 0                 0\n2022-10-01                 1                 1\n2022-10-02                 1                 1\n2022-10-03               330               309\n2022-10-04               413               411\n2022-10-05               418               408\n2022-10-06               368               359\n2022-10-07               248               243\n2022-10-08                 0                 0\n2022-10-09                 0                 0\n2022-10-10               288               279\n2022-10-11               315               302\n2022-10-12               297               290\n2022-10-13               332               314\n2022-10-14               181               179\n2022-10-15                 3                 3\n2022-10-16                 1                 1\n2022-10-17               344               327\n2022-10-18               399               380\n2022-10-19               424               387\n2022-10-20               412               402\n2022-10-21               265               259\n2022-10-22                 5                 5\n2022-10-23                 3                 3\n2022-10-24               378               369\n2022-10-25               520               513\n2022-10-26               499               481\n2022-10-27               580               562\n2022-10-28               171               164\n2022-10-29                 8                 6\n2022-10-30                 1                 1\n2022-10-31               360               345",
      "text/html": "<div>\n<style scoped>\n    .dataframe tbody tr th:only-of-type {\n        vertical-align: middle;\n    }\n\n    .dataframe tbody tr th {\n        vertical-align: top;\n    }\n\n    .dataframe thead th {\n        text-align: right;\n    }\n</style>\n<table border=\"1\" class=\"dataframe\">\n  <thead>\n    <tr style=\"text-align: right;\">\n      <th></th>\n      <th>visitor_count_fw</th>\n      <th>visitor_count_bw</th>\n    </tr>\n    <tr>\n      <th>date</th>\n      <th></th>\n      <th></th>\n    </tr>\n  </thead>\n  <tbody>\n    <tr>\n      <th>2022-09-30</th>\n      <td>0</td>\n      <td>0</td>\n    </tr>\n    <tr>\n      <th>2022-10-01</th>\n      <td>1</td>\n      <td>1</td>\n    </tr>\n    <tr>\n      <th>2022-10-02</th>\n      <td>1</td>\n      <td>1</td>\n    </tr>\n    <tr>\n      <th>2022-10-03</th>\n      <td>330</td>\n      <td>309</td>\n    </tr>\n    <tr>\n      <th>2022-10-04</th>\n      <td>413</td>\n      <td>411</td>\n    </tr>\n    <tr>\n      <th>2022-10-05</th>\n      <td>418</td>\n      <td>408</td>\n    </tr>\n    <tr>\n      <th>2022-10-06</th>\n      <td>368</td>\n      <td>359</td>\n    </tr>\n    <tr>\n      <th>2022-10-07</th>\n      <td>248</td>\n      <td>243</td>\n    </tr>\n    <tr>\n      <th>2022-10-08</th>\n      <td>0</td>\n      <td>0</td>\n    </tr>\n    <tr>\n      <th>2022-10-09</th>\n      <td>0</td>\n      <td>0</td>\n    </tr>\n    <tr>\n      <th>2022-10-10</th>\n      <td>288</td>\n      <td>279</td>\n    </tr>\n    <tr>\n      <th>2022-10-11</th>\n      <td>315</td>\n      <td>302</td>\n    </tr>\n    <tr>\n      <th>2022-10-12</th>\n      <td>297</td>\n      <td>290</td>\n    </tr>\n    <tr>\n      <th>2022-10-13</th>\n      <td>332</td>\n      <td>314</td>\n    </tr>\n    <tr>\n      <th>2022-10-14</th>\n      <td>181</td>\n      <td>179</td>\n    </tr>\n    <tr>\n      <th>2022-10-15</th>\n      <td>3</td>\n      <td>3</td>\n    </tr>\n    <tr>\n      <th>2022-10-16</th>\n      <td>1</td>\n      <td>1</td>\n    </tr>\n    <tr>\n      <th>2022-10-17</th>\n      <td>344</td>\n      <td>327</td>\n    </tr>\n    <tr>\n      <th>2022-10-18</th>\n      <td>399</td>\n      <td>380</td>\n    </tr>\n    <tr>\n      <th>2022-10-19</th>\n      <td>424</td>\n      <td>387</td>\n    </tr>\n    <tr>\n      <th>2022-10-20</th>\n      <td>412</td>\n      <td>402</td>\n    </tr>\n    <tr>\n      <th>2022-10-21</th>\n      <td>265</td>\n      <td>259</td>\n    </tr>\n    <tr>\n      <th>2022-10-22</th>\n      <td>5</td>\n      <td>5</td>\n    </tr>\n    <tr>\n      <th>2022-10-23</th>\n      <td>3</td>\n      <td>3</td>\n    </tr>\n    <tr>\n      <th>2022-10-24</th>\n      <td>378</td>\n      <td>369</td>\n    </tr>\n    <tr>\n      <th>2022-10-25</th>\n      <td>520</td>\n      <td>513</td>\n    </tr>\n    <tr>\n      <th>2022-10-26</th>\n      <td>499</td>\n      <td>481</td>\n    </tr>\n    <tr>\n      <th>2022-10-27</th>\n      <td>580</td>\n      <td>562</td>\n    </tr>\n    <tr>\n      <th>2022-10-28</th>\n      <td>171</td>\n      <td>164</td>\n    </tr>\n    <tr>\n      <th>2022-10-29</th>\n      <td>8</td>\n      <td>6</td>\n    </tr>\n    <tr>\n      <th>2022-10-30</th>\n      <td>1</td>\n      <td>1</td>\n    </tr>\n    <tr>\n      <th>2022-10-31</th>\n      <td>360</td>\n      <td>345</td>\n    </tr>\n  </tbody>\n</table>\n</div>"
     },
     "execution_count": 36,
     "metadata": {},
     "output_type": "execute_result"
    }
   ],
   "source": [
    "df.groupby(by='date')['visitor_count_fw','visitor_count_bw'].sum()"
   ],
   "metadata": {
    "collapsed": false
   }
  },
  {
   "cell_type": "code",
   "execution_count": 37,
   "outputs": [
    {
     "data": {
      "text/plain": "          location_name           datetime  visitor_count_fw  \\\n1464  Zürich, Schlieren  2022-10-06T00:00Z                 0   \n1465  Zürich, Schlieren  2022-10-06T00:05Z                 0   \n1466  Zürich, Schlieren  2022-10-06T00:10Z                 0   \n1467  Zürich, Schlieren  2022-10-06T00:15Z                 0   \n1468  Zürich, Schlieren  2022-10-06T00:20Z                 0   \n...                 ...                ...               ...   \n1747  Zürich, Schlieren  2022-10-06T23:35Z                 0   \n1748  Zürich, Schlieren  2022-10-06T23:40Z                 0   \n1749  Zürich, Schlieren  2022-10-06T23:45Z                 0   \n1750  Zürich, Schlieren  2022-10-06T23:50Z                 0   \n1751  Zürich, Schlieren  2022-10-06T23:55Z                 0   \n\n      visitor_count_fw_male  visitor_count_fw_female  visitor_count_bw  \\\n1464                      0                        0                 0   \n1465                      0                        0                 0   \n1466                      0                        0                 0   \n1467                      0                        0                 0   \n1468                      0                        0                 0   \n...                     ...                      ...               ...   \n1747                      0                        0                 0   \n1748                      0                        0                 0   \n1749                      0                        0                 0   \n1750                      0                        0                 0   \n1751                      0                        0                 0   \n\n      visitor_count_bw_male  visitor_count_bw_female  smooth_visitor_count_fw  \\\n1464                      0                        0                      0.0   \n1465                      0                        0                      0.0   \n1466                      0                        0                      0.0   \n1467                      0                        0                      0.0   \n1468                      0                        0                      0.0   \n...                     ...                      ...                      ...   \n1747                      0                        0                      0.0   \n1748                      0                        0                      0.0   \n1749                      0                        0                      0.0   \n1750                      0                        0                      0.0   \n1751                      0                        0                      0.0   \n\n      smooth_visitor_count_bw        date      time  time_num  \n1464                      0.0  2022-10-06  00:00:00      0.00  \n1465                      0.0  2022-10-06  00:05:00      0.08  \n1466                      0.0  2022-10-06  00:10:00      0.17  \n1467                      0.0  2022-10-06  00:15:00      0.25  \n1468                      0.0  2022-10-06  00:20:00      0.33  \n...                       ...         ...       ...       ...  \n1747                      0.0  2022-10-06  23:35:00     23.58  \n1748                      0.0  2022-10-06  23:40:00     23.67  \n1749                      0.0  2022-10-06  23:45:00     23.75  \n1750                      0.0  2022-10-06  23:50:00     23.83  \n1751                      0.0  2022-10-06  23:55:00     23.92  \n\n[288 rows x 13 columns]",
      "text/html": "<div>\n<style scoped>\n    .dataframe tbody tr th:only-of-type {\n        vertical-align: middle;\n    }\n\n    .dataframe tbody tr th {\n        vertical-align: top;\n    }\n\n    .dataframe thead th {\n        text-align: right;\n    }\n</style>\n<table border=\"1\" class=\"dataframe\">\n  <thead>\n    <tr style=\"text-align: right;\">\n      <th></th>\n      <th>location_name</th>\n      <th>datetime</th>\n      <th>visitor_count_fw</th>\n      <th>visitor_count_fw_male</th>\n      <th>visitor_count_fw_female</th>\n      <th>visitor_count_bw</th>\n      <th>visitor_count_bw_male</th>\n      <th>visitor_count_bw_female</th>\n      <th>smooth_visitor_count_fw</th>\n      <th>smooth_visitor_count_bw</th>\n      <th>date</th>\n      <th>time</th>\n      <th>time_num</th>\n    </tr>\n  </thead>\n  <tbody>\n    <tr>\n      <th>1464</th>\n      <td>Zürich, Schlieren</td>\n      <td>2022-10-06T00:00Z</td>\n      <td>0</td>\n      <td>0</td>\n      <td>0</td>\n      <td>0</td>\n      <td>0</td>\n      <td>0</td>\n      <td>0.0</td>\n      <td>0.0</td>\n      <td>2022-10-06</td>\n      <td>00:00:00</td>\n      <td>0.00</td>\n    </tr>\n    <tr>\n      <th>1465</th>\n      <td>Zürich, Schlieren</td>\n      <td>2022-10-06T00:05Z</td>\n      <td>0</td>\n      <td>0</td>\n      <td>0</td>\n      <td>0</td>\n      <td>0</td>\n      <td>0</td>\n      <td>0.0</td>\n      <td>0.0</td>\n      <td>2022-10-06</td>\n      <td>00:05:00</td>\n      <td>0.08</td>\n    </tr>\n    <tr>\n      <th>1466</th>\n      <td>Zürich, Schlieren</td>\n      <td>2022-10-06T00:10Z</td>\n      <td>0</td>\n      <td>0</td>\n      <td>0</td>\n      <td>0</td>\n      <td>0</td>\n      <td>0</td>\n      <td>0.0</td>\n      <td>0.0</td>\n      <td>2022-10-06</td>\n      <td>00:10:00</td>\n      <td>0.17</td>\n    </tr>\n    <tr>\n      <th>1467</th>\n      <td>Zürich, Schlieren</td>\n      <td>2022-10-06T00:15Z</td>\n      <td>0</td>\n      <td>0</td>\n      <td>0</td>\n      <td>0</td>\n      <td>0</td>\n      <td>0</td>\n      <td>0.0</td>\n      <td>0.0</td>\n      <td>2022-10-06</td>\n      <td>00:15:00</td>\n      <td>0.25</td>\n    </tr>\n    <tr>\n      <th>1468</th>\n      <td>Zürich, Schlieren</td>\n      <td>2022-10-06T00:20Z</td>\n      <td>0</td>\n      <td>0</td>\n      <td>0</td>\n      <td>0</td>\n      <td>0</td>\n      <td>0</td>\n      <td>0.0</td>\n      <td>0.0</td>\n      <td>2022-10-06</td>\n      <td>00:20:00</td>\n      <td>0.33</td>\n    </tr>\n    <tr>\n      <th>...</th>\n      <td>...</td>\n      <td>...</td>\n      <td>...</td>\n      <td>...</td>\n      <td>...</td>\n      <td>...</td>\n      <td>...</td>\n      <td>...</td>\n      <td>...</td>\n      <td>...</td>\n      <td>...</td>\n      <td>...</td>\n      <td>...</td>\n    </tr>\n    <tr>\n      <th>1747</th>\n      <td>Zürich, Schlieren</td>\n      <td>2022-10-06T23:35Z</td>\n      <td>0</td>\n      <td>0</td>\n      <td>0</td>\n      <td>0</td>\n      <td>0</td>\n      <td>0</td>\n      <td>0.0</td>\n      <td>0.0</td>\n      <td>2022-10-06</td>\n      <td>23:35:00</td>\n      <td>23.58</td>\n    </tr>\n    <tr>\n      <th>1748</th>\n      <td>Zürich, Schlieren</td>\n      <td>2022-10-06T23:40Z</td>\n      <td>0</td>\n      <td>0</td>\n      <td>0</td>\n      <td>0</td>\n      <td>0</td>\n      <td>0</td>\n      <td>0.0</td>\n      <td>0.0</td>\n      <td>2022-10-06</td>\n      <td>23:40:00</td>\n      <td>23.67</td>\n    </tr>\n    <tr>\n      <th>1749</th>\n      <td>Zürich, Schlieren</td>\n      <td>2022-10-06T23:45Z</td>\n      <td>0</td>\n      <td>0</td>\n      <td>0</td>\n      <td>0</td>\n      <td>0</td>\n      <td>0</td>\n      <td>0.0</td>\n      <td>0.0</td>\n      <td>2022-10-06</td>\n      <td>23:45:00</td>\n      <td>23.75</td>\n    </tr>\n    <tr>\n      <th>1750</th>\n      <td>Zürich, Schlieren</td>\n      <td>2022-10-06T23:50Z</td>\n      <td>0</td>\n      <td>0</td>\n      <td>0</td>\n      <td>0</td>\n      <td>0</td>\n      <td>0</td>\n      <td>0.0</td>\n      <td>0.0</td>\n      <td>2022-10-06</td>\n      <td>23:50:00</td>\n      <td>23.83</td>\n    </tr>\n    <tr>\n      <th>1751</th>\n      <td>Zürich, Schlieren</td>\n      <td>2022-10-06T23:55Z</td>\n      <td>0</td>\n      <td>0</td>\n      <td>0</td>\n      <td>0</td>\n      <td>0</td>\n      <td>0</td>\n      <td>0.0</td>\n      <td>0.0</td>\n      <td>2022-10-06</td>\n      <td>23:55:00</td>\n      <td>23.92</td>\n    </tr>\n  </tbody>\n</table>\n<p>288 rows × 13 columns</p>\n</div>"
     },
     "execution_count": 37,
     "metadata": {},
     "output_type": "execute_result"
    }
   ],
   "source": [
    "by_date=df.groupby(by='date')\n",
    "date1=date(year=2022, month=10, day=6)\n",
    "example_day_df=by_date.get_group(date1)\n",
    "example_day_df"
   ],
   "metadata": {
    "collapsed": false
   }
  },
  {
   "cell_type": "code",
   "execution_count": 38,
   "outputs": [
    {
     "data": {
      "text/plain": "<Figure size 640x480 with 0 Axes>"
     },
     "metadata": {},
     "output_type": "display_data"
    }
   ],
   "source": [
    "def save_fig(fig_id, tight_layout=True, fig_extension=\"png\", resolution=300):\n",
    "    path = os.path.join('..','reports','figures', fig_id + \".\" + fig_extension)\n",
    "    print(\"Saving figure\", path)\n",
    "    if tight_layout:\n",
    "        plt.tight_layout()\n",
    "    plt.savefig(path, format=fig_extension, dpi=resolution)\n",
    "\n",
    "for date, day_frame in by_date:\n",
    "    df_fw_count= day_frame.set_index('time_num')['smooth_visitor_count_fw']\n",
    "    df_bw_count= day_frame.set_index('time_num')['smooth_visitor_count_bw']\n",
    "\n",
    "    plt.plot(df_fw_count)\n",
    "    plt.plot(df_bw_count)\n",
    "    plt.legend(['incoming_count', 'outgoing_count'])\n",
    "    days = [\"Monday\", \"Tuesday\", \"Wednesday\",\n",
    "        \"Thursday\", \"Friday\", \"Saturday\", \"Sunday\"]\n",
    "    fig_title=date.strftime('%Y_%m_%d')+' '+ days[date.weekday()]\n",
    "    plt.title(fig_title)\n",
    "    fig_id='fw_bw_count_on_'+date.strftime('%Y_%m_%d')\n",
    "    #save_fig(fig_id)\n",
    "    plt.clf()\n"
   ],
   "metadata": {
    "collapsed": false
   }
  },
  {
   "cell_type": "code",
   "execution_count": 39,
   "outputs": [
    {
     "data": {
      "text/plain": "<matplotlib.legend.Legend at 0x1565822ab90>"
     },
     "execution_count": 39,
     "metadata": {},
     "output_type": "execute_result"
    },
    {
     "data": {
      "text/plain": "<Figure size 640x480 with 1 Axes>",
      "image/png": "[encoded data removed]"
     },
     "metadata": {},
     "output_type": "display_data"
    }
   ],
   "source": [
    "import matplotlib as mpl\n",
    "import matplotlib.pyplot as plt\n",
    "\n",
    "\n",
    "\n",
    "\n",
    "\n",
    "\n",
    "df_fw_count= example_day_df.set_index('time_num')['smooth_visitor_count_fw']\n",
    "df_bw_count= example_day_df.set_index('time_num')['smooth_visitor_count_bw']\n",
    "\n",
    "plt.plot(df_fw_count)\n",
    "plt.plot(df_bw_count)\n",
    "plt.legend(['incoming_count', 'outgoing_count'])\n"
   ],
   "metadata": {
    "collapsed": false
   }
  },
  {
   "cell_type": "code",
   "execution_count": 39,
   "outputs": [],
   "source": [],
   "metadata": {
    "collapsed": false
   }
  },
  {
   "cell_type": "code",
   "execution_count": 40,
   "outputs": [
    {
     "data": {
      "text/plain": "0"
     },
     "execution_count": 40,
     "metadata": {},
     "output_type": "execute_result"
    }
   ],
   "source": [
    "int(example_day_df.time[1464].strftime('%H%M'))\n"
   ],
   "metadata": {
    "collapsed": false
   }
  },
  {
   "cell_type": "code",
   "execution_count": 41,
   "outputs": [],
   "source": [
    "vis_count_fw=example_day_df.set_index('time').visitor_count_fw\n"
   ],
   "metadata": {
    "collapsed": false
   }
  },
  {
   "cell_type": "code",
   "execution_count": 41,
   "outputs": [],
   "source": [],
   "metadata": {
    "collapsed": false
   }
  },
  {
   "cell_type": "code",
   "execution_count": 41,
   "outputs": [],
   "source": [],
   "metadata": {
    "collapsed": false
   }
  },
  {
   "cell_type": "code",
   "execution_count": 42,
   "outputs": [
    {
     "data": {
      "text/plain": "      visitor_count_fw\n0                    0\n1                    0\n2                    0\n3                    0\n4                    0\n...                ...\n8898               360\n8899               360\n8900               360\n8901               360\n8902               360\n\n[8903 rows x 1 columns]",
      "text/html": "<div>\n<style scoped>\n    .dataframe tbody tr th:only-of-type {\n        vertical-align: middle;\n    }\n\n    .dataframe tbody tr th {\n        vertical-align: top;\n    }\n\n    .dataframe thead th {\n        text-align: right;\n    }\n</style>\n<table border=\"1\" class=\"dataframe\">\n  <thead>\n    <tr style=\"text-align: right;\">\n      <th></th>\n      <th>visitor_count_fw</th>\n    </tr>\n  </thead>\n  <tbody>\n    <tr>\n      <th>0</th>\n      <td>0</td>\n    </tr>\n    <tr>\n      <th>1</th>\n      <td>0</td>\n    </tr>\n    <tr>\n      <th>2</th>\n      <td>0</td>\n    </tr>\n    <tr>\n      <th>3</th>\n      <td>0</td>\n    </tr>\n    <tr>\n      <th>4</th>\n      <td>0</td>\n    </tr>\n    <tr>\n      <th>...</th>\n      <td>...</td>\n    </tr>\n    <tr>\n      <th>8898</th>\n      <td>360</td>\n    </tr>\n    <tr>\n      <th>8899</th>\n      <td>360</td>\n    </tr>\n    <tr>\n      <th>8900</th>\n      <td>360</td>\n    </tr>\n    <tr>\n      <th>8901</th>\n      <td>360</td>\n    </tr>\n    <tr>\n      <th>8902</th>\n      <td>360</td>\n    </tr>\n  </tbody>\n</table>\n<p>8903 rows × 1 columns</p>\n</div>"
     },
     "execution_count": 42,
     "metadata": {},
     "output_type": "execute_result"
    }
   ],
   "source": [
    "df[['date', 'visitor_count_fw']].groupby('date').transform('cumsum')\n"
   ],
   "metadata": {
    "collapsed": false
   }
  },
  {
   "cell_type": "code",
   "execution_count": 43,
   "outputs": [],
   "source": [
    "df['cum_sum_visitor_count_fw']=df[['date', 'visitor_count_fw']].groupby('date').cumsum(axis=0)"
   ],
   "metadata": {
    "collapsed": false
   }
  },
  {
   "cell_type": "code",
   "execution_count": 44,
   "outputs": [
    {
     "data": {
      "text/plain": "       location_name           datetime  visitor_count_fw  \\\n0  Zürich, Schlieren  2022-09-30T22:00Z                 0   \n1  Zürich, Schlieren  2022-09-30T22:05Z                 0   \n2  Zürich, Schlieren  2022-09-30T22:10Z                 0   \n3  Zürich, Schlieren  2022-09-30T22:15Z                 0   \n4  Zürich, Schlieren  2022-09-30T22:20Z                 0   \n\n   visitor_count_fw_male  visitor_count_fw_female  visitor_count_bw  \\\n0                      0                        0                 0   \n1                      0                        0                 0   \n2                      0                        0                 0   \n3                      0                        0                 0   \n4                      0                        0                 0   \n\n   visitor_count_bw_male  visitor_count_bw_female  smooth_visitor_count_fw  \\\n0                      0                        0                      0.0   \n1                      0                        0                      0.0   \n2                      0                        0                      0.0   \n3                      0                        0                      0.0   \n4                      0                        0                      0.0   \n\n   smooth_visitor_count_bw        date      time  time_num  \\\n0                      0.0  2022-09-30  22:00:00     22.00   \n1                      0.0  2022-09-30  22:05:00     22.08   \n2                      0.0  2022-09-30  22:10:00     22.17   \n3                      0.0  2022-09-30  22:15:00     22.25   \n4                      0.0  2022-09-30  22:20:00     22.33   \n\n   cum_sum_visitor_count_fw  \n0                         0  \n1                         0  \n2                         0  \n3                         0  \n4                         0  ",
      "text/html": "<div>\n<style scoped>\n    .dataframe tbody tr th:only-of-type {\n        vertical-align: middle;\n    }\n\n    .dataframe tbody tr th {\n        vertical-align: top;\n    }\n\n    .dataframe thead th {\n        text-align: right;\n    }\n</style>\n<table border=\"1\" class=\"dataframe\">\n  <thead>\n    <tr style=\"text-align: right;\">\n      <th></th>\n      <th>location_name</th>\n      <th>datetime</th>\n      <th>visitor_count_fw</th>\n      <th>visitor_count_fw_male</th>\n      <th>visitor_count_fw_female</th>\n      <th>visitor_count_bw</th>\n      <th>visitor_count_bw_male</th>\n      <th>visitor_count_bw_female</th>\n      <th>smooth_visitor_count_fw</th>\n      <th>smooth_visitor_count_bw</th>\n      <th>date</th>\n      <th>time</th>\n      <th>time_num</th>\n      <th>cum_sum_visitor_count_fw</th>\n    </tr>\n  </thead>\n  <tbody>\n    <tr>\n      <th>0</th>\n      <td>Zürich, Schlieren</td>\n      <td>2022-09-30T22:00Z</td>\n      <td>0</td>\n      <td>0</td>\n      <td>0</td>\n      <td>0</td>\n      <td>0</td>\n      <td>0</td>\n      <td>0.0</td>\n      <td>0.0</td>\n      <td>2022-09-30</td>\n      <td>22:00:00</td>\n      <td>22.00</td>\n      <td>0</td>\n    </tr>\n    <tr>\n      <th>1</th>\n      <td>Zürich, Schlieren</td>\n      <td>2022-09-30T22:05Z</td>\n      <td>0</td>\n      <td>0</td>\n      <td>0</td>\n      <td>0</td>\n      <td>0</td>\n      <td>0</td>\n      <td>0.0</td>\n      <td>0.0</td>\n      <td>2022-09-30</td>\n      <td>22:05:00</td>\n      <td>22.08</td>\n      <td>0</td>\n    </tr>\n    <tr>\n      <th>2</th>\n      <td>Zürich, Schlieren</td>\n      <td>2022-09-30T22:10Z</td>\n      <td>0</td>\n      <td>0</td>\n      <td>0</td>\n      <td>0</td>\n      <td>0</td>\n      <td>0</td>\n      <td>0.0</td>\n      <td>0.0</td>\n      <td>2022-09-30</td>\n      <td>22:10:00</td>\n      <td>22.17</td>\n      <td>0</td>\n    </tr>\n    <tr>\n      <th>3</th>\n      <td>Zürich, Schlieren</td>\n      <td>2022-09-30T22:15Z</td>\n      <td>0</td>\n      <td>0</td>\n      <td>0</td>\n      <td>0</td>\n      <td>0</td>\n      <td>0</td>\n      <td>0.0</td>\n      <td>0.0</td>\n      <td>2022-09-30</td>\n      <td>22:15:00</td>\n      <td>22.25</td>\n      <td>0</td>\n    </tr>\n    <tr>\n      <th>4</th>\n      <td>Zürich, Schlieren</td>\n      <td>2022-09-30T22:20Z</td>\n      <td>0</td>\n      <td>0</td>\n      <td>0</td>\n      <td>0</td>\n      <td>0</td>\n      <td>0</td>\n      <td>0.0</td>\n      <td>0.0</td>\n      <td>2022-09-30</td>\n      <td>22:20:00</td>\n      <td>22.33</td>\n      <td>0</td>\n    </tr>\n  </tbody>\n</table>\n</div>"
     },
     "execution_count": 44,
     "metadata": {},
     "output_type": "execute_result"
    }
   ],
   "source": [
    "df.head()"
   ],
   "metadata": {
    "collapsed": false
   }
  },
  {
   "cell_type": "code",
   "execution_count": 45,
   "outputs": [],
   "source": [
    "days = [\"Monday\", \"Tuesday\", \"Wednesday\",\n",
    "            \"Thursday\", \"Friday\", \"Saturday\", \"Sunday\"]\n",
    "df['weekday'] = df.apply(lambda row: days[row['date'].weekday()], axis=1)"
   ],
   "metadata": {
    "collapsed": false
   }
  },
  {
   "cell_type": "code",
   "execution_count": 46,
   "outputs": [
    {
     "data": {
      "text/plain": "True"
     },
     "execution_count": 46,
     "metadata": {},
     "output_type": "execute_result"
    }
   ],
   "source": [
    "from datetime import date, time, datetime, timedelta\n",
    "\n",
    "summer_time_start=date(year=2022, month=3, day=27)\n",
    "summer_time_end=date(year=2022, month=8, day=30)\n",
    "\n",
    "ex_day=date(year=2022, month=4,day=23)\n",
    "\n",
    "ex_day < summer_time_end"
   ],
   "metadata": {
    "collapsed": false
   }
  },
  {
   "cell_type": "code",
   "execution_count": 47,
   "outputs": [
    {
     "data": {
      "text/plain": "datetime.date(2022, 4, 28)"
     },
     "execution_count": 47,
     "metadata": {},
     "output_type": "execute_result"
    }
   ],
   "source": [
    "ex_day+timedelta(hours=121)"
   ],
   "metadata": {
    "collapsed": false
   }
  },
  {
   "cell_type": "code",
   "execution_count": 48,
   "outputs": [
    {
     "data": {
      "text/plain": "10"
     },
     "execution_count": 48,
     "metadata": {},
     "output_type": "execute_result"
    }
   ],
   "source": [
    "datetime1=datetime(year=2022, month=10,day=23,hour=13,minute=23)\n",
    "datetime1.month"
   ],
   "metadata": {
    "collapsed": false
   }
  },
  {
   "cell_type": "code",
   "execution_count": 48,
   "outputs": [],
   "source": [],
   "metadata": {
    "collapsed": false
   }
  }
 ],
 "metadata": {
  "kernelspec": {
   "display_name": "Python 3",
   "language": "python",
   "name": "python3"
  },
  "language_info": {
   "codemirror_mode": {
    "name": "ipython",
    "version": 2
   },
   "file_extension": ".py",
   "mimetype": "text/x-python",
   "name": "python",
   "nbconvert_exporter": "python",
   "pygments_lexer": "ipython2",
   "version": "2.7.6"
  }
 },
 "nbformat": 4,
 "nbformat_minor": 0
}
