{
 "cells": [
  {
   "cell_type": "code",
   "execution_count": 1,
   "metadata": {
    "collapsed": true
   },
   "outputs": [
    {
     "name": "stdout",
     "output_type": "stream",
     "text": [
      "<class 'pandas.core.frame.DataFrame'>\n",
      "Index: 180 entries, 2022-03-09 to 2022-11-25\n",
      "Data columns (total 23 columns):\n",
      " #   Column                                   Non-Null Count  Dtype  \n",
      "---  ------                                   --------------  -----  \n",
      " 0   date                                     180 non-null    object \n",
      " 1   num_people_10_00                         180 non-null    int64  \n",
      " 2   label_num_people_12_33                   180 non-null    int64  \n",
      " 3   label_num_people_11_30                   180 non-null    int64  \n",
      " 4   label_num_menus_sold                     180 non-null    float64\n",
      " 5   label_difference_12_normalized           180 non-null    float64\n",
      " 6   label_difference_10_and_sold_normalized  180 non-null    float64\n",
      " 7   zurich_vacation                          180 non-null    int32  \n",
      " 8   weekday                                  180 non-null    int64  \n",
      " 9   Monday                                   180 non-null    int64  \n",
      " 10  Tuesday                                  180 non-null    int64  \n",
      " 11  Wednesday                                180 non-null    int64  \n",
      " 12  Thursday                                 180 non-null    int64  \n",
      " 13  Friday                                   180 non-null    int64  \n",
      " 14  Spring/Autumn                            180 non-null    int64  \n",
      " 15  Summer                                   180 non-null    int64  \n",
      " 16  Winter                                   180 non-null    int64  \n",
      " 17  zuehlke_day                              180 non-null    int32  \n",
      " 18  Temperature                              180 non-null    float64\n",
      " 19  temp_deviation                           180 non-null    float64\n",
      " 20  Rain Duration                            180 non-null    float64\n",
      " 21  Rain_half_discrete                       180 non-null    float64\n",
      " 22  Rain_binary                              180 non-null    float64\n",
      "dtypes: float64(8), int32(2), int64(12), object(1)\n",
      "memory usage: 32.3+ KB\n"
     ]
    }
   ],
   "source": [
    "import pandas as pd\n",
    "import numpy as np\n",
    "import os\n",
    "import matplotlib as mpl\n",
    "import matplotlib.pyplot as plt\n",
    "from datetime import date, timedelta\n",
    "\n",
    "\n",
    "pickle_path=os.path.join('..', 'data', 'features_by_date')\n",
    "features_by_date=pd.read_pickle(pickle_path)\n",
    "features_by_date.info()"
   ]
  },
  {
   "cell_type": "code",
   "execution_count": 6,
   "outputs": [],
   "source": [
    "    pickle_path = os.path.join('..', 'data', 'flow_counts_preprocessed')\n",
    "    df = pd.read_pickle(pickle_path)\n",
    "    weekdays = [0, 1, 2, 3, 4]  # mon, tue, wed, thu, fri\n",
    "    date_list_all = list(df[(df['time_numeric'] == 12.33)]['date'])\n",
    "    date_list_weekdays = [date for date in date_list_all if date.weekday() in weekdays]\n",
    "    date_list_weekends_and_holidays = list(df[(df['time_numeric'] == 12.33) & (df['num_people_inside'] < 25)]['date'])\n",
    "    date_list_holidays = [date for date in date_list_weekends_and_holidays if date.weekday() in weekdays]\n",
    "    date_list_workdays = list(df[(df['time_numeric'] == 12.33) & (df['num_people_inside'] > 25)]['date'])\n",
    "    weekday_date_lists = {}\n",
    "    for i in weekdays:\n",
    "        weekday_date_lists[i] = [date for date in date_list_workdays if date.weekday() == i]\n",
    "\n",
    "    monday_list=weekday_date_lists[0]\n",
    "\n",
    "    #baseline with num people at 10 as only feature\n",
    "    feature_list=['label_num_people_12_33','num_people_10_00']\n",
    "    data=features_by_date.loc[monday_list,feature_list]"
   ],
   "metadata": {
    "collapsed": false
   }
  },
  {
   "cell_type": "code",
   "execution_count": 12,
   "outputs": [
    {
     "name": "stdout",
     "output_type": "stream",
     "text": [
      "Elasticnet model (alpha=0.100000, l1_ratio=0.500000):\n",
      "  RMSE: 5.609773151748578\n",
      "  MAE: 4.48513027496059\n",
      "  R2: 0.9822215825305108\n",
      "Intercept: [11.53130303] \n",
      " Coefficients: [0.88099627]\n"
     ]
    }
   ],
   "source": [
    "from sklearn.metrics import mean_squared_error, mean_absolute_error, r2_score\n",
    "from sklearn.model_selection import train_test_split\n",
    "from sklearn.linear_model import ElasticNet\n",
    "\n",
    "def eval_metrics(actual, pred):\n",
    "    rmse = np.sqrt(mean_squared_error(actual, pred))\n",
    "    mae = mean_absolute_error(actual, pred)\n",
    "    r2 = r2_score(actual, pred)\n",
    "    return rmse, mae, r2\n",
    "\n",
    "train, test = train_test_split(data)\n",
    "\n",
    "train_x = train.drop([\"label_num_people_12_33\"], axis=1)\n",
    "test_x = test.drop([\"label_num_people_12_33\"], axis=1)\n",
    "train_y = train[[\"label_num_people_12_33\"]]\n",
    "test_y = test[[\"label_num_people_12_33\"]]\n",
    "\n",
    "alpha = 0.1\n",
    "l1_ratio = 0.5\n",
    "\n",
    "lr = ElasticNet(alpha=alpha, l1_ratio=l1_ratio, random_state=42)\n",
    "lr.fit(train_x, train_y)\n",
    "\n",
    "predicted_qualities = lr.predict(test_x)\n",
    "\n",
    "(rmse, mae, r2) = eval_metrics(test_y, predicted_qualities)\n",
    "\n",
    "print(\"Elasticnet model (alpha=%f, l1_ratio=%f):\" % (alpha, l1_ratio))\n",
    "print(\"  RMSE: %s\" % rmse)\n",
    "print(\"  MAE: %s\" % mae)\n",
    "print(\"  R2: %s\" % r2)\n",
    "print(f'Intercept: {lr.intercept_} \\n Coefficients: {lr.coef_}')"
   ],
   "metadata": {
    "collapsed": false
   }
  },
  {
   "cell_type": "code",
   "execution_count": 15,
   "outputs": [
    {
     "data": {
      "text/plain": "20"
     },
     "execution_count": 15,
     "metadata": {},
     "output_type": "execute_result"
    }
   ],
   "source": [
    "def func(x=1,y=2):\n",
    "    return x*y\n",
    "x_y_dic= {'x':5, 'y':4}\n",
    "func(**x_y_dic)"
   ],
   "metadata": {
    "collapsed": false
   }
  },
  {
   "cell_type": "code",
   "execution_count": 18,
   "outputs": [
    {
     "data": {
      "text/plain": "12"
     },
     "execution_count": 18,
     "metadata": {},
     "output_type": "execute_result"
    }
   ],
   "source": [
    "x_y_list=[3,4]\n",
    "func(*x_y_list)"
   ],
   "metadata": {
    "collapsed": false
   }
  },
  {
   "cell_type": "code",
   "execution_count": 19,
   "outputs": [
    {
     "data": {
      "text/plain": "4"
     },
     "execution_count": 19,
     "metadata": {},
     "output_type": "execute_result"
    }
   ],
   "source": [
    "max([3,4,2])"
   ],
   "metadata": {
    "collapsed": false
   }
  },
  {
   "cell_type": "code",
   "execution_count": null,
   "outputs": [],
   "source": [],
   "metadata": {
    "collapsed": false
   }
  }
 ],
 "metadata": {
  "kernelspec": {
   "display_name": "Python 3",
   "language": "python",
   "name": "python3"
  },
  "language_info": {
   "codemirror_mode": {
    "name": "ipython",
    "version": 2
   },
   "file_extension": ".py",
   "mimetype": "text/x-python",
   "name": "python",
   "nbconvert_exporter": "python",
   "pygments_lexer": "ipython2",
   "version": "2.7.6"
  }
 },
 "nbformat": 4,
 "nbformat_minor": 0
}
