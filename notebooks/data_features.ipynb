{
 "cells": [
  {
   "cell_type": "code",
   "execution_count": 1,
   "outputs": [],
   "source": [
    "import pandas as pd\n",
    "import numpy as np\n",
    "import os\n",
    "import matplotlib as mpl\n",
    "import matplotlib.pyplot as plt\n",
    "from datetime import date, timedelta\n",
    "\n",
    "\n",
    "\n",
    "pickle_path=os.path.join('..', 'data', 'flow_counts_preprocessed')\n",
    "df=pd.read_pickle(pickle_path)"
   ],
   "metadata": {
    "collapsed": false
   }
  },
  {
   "cell_type": "code",
   "execution_count": 2,
   "outputs": [],
   "source": [
    "#create datelist\n",
    "# we remove Saturday and Sundays and Public holidays by checking that at least 25 people are around\n",
    "weekdays=[0,1,2,3,4] #mon, tue, wed, thu, fri\n",
    "date_list_all=list(df[(df['time_numeric']==12.33)]['date'])\n",
    "date_list_weekdays=[date for date in date_list_all if date.weekday() in weekdays]\n",
    "date_list_weekends_and_holidays=list(df[(df['time_numeric']==12.33)&(df['num_people_inside']<25)]['date'])\n",
    "date_list_holidays=[date for date in date_list_weekends_and_holidays if date.weekday() in weekdays]\n",
    "date_list_workdays=list(df[(df['time_numeric']==12.33)&(df['num_people_inside']>25)]['date'])\n",
    "weekday_date_lists={}\n",
    "for i in weekdays:\n",
    "    weekday_date_lists[i]=[date for date in date_list_workdays if date.weekday()==i]\n"
   ],
   "metadata": {
    "collapsed": false
   }
  },
  {
   "cell_type": "code",
   "execution_count": 6,
   "outputs": [
    {
     "name": "stderr",
     "output_type": "stream",
     "text": [
      "C:\\Users\\mefl\\AppData\\Local\\Temp\\ipykernel_11736\\735385191.py:9: RuntimeWarning: invalid value encountered in longlong_scalars\n",
      "  num_people_by_date['normalized_difference_10_and_12']=num_people_by_date.apply(lambda row: row['difference_10_and_12']/ row['num_people_at_10_00'], axis=1)\n",
      "C:\\Users\\mefl\\AppData\\Local\\Temp\\ipykernel_11736\\735385191.py:9: RuntimeWarning: divide by zero encountered in longlong_scalars\n",
      "  num_people_by_date['normalized_difference_10_and_12']=num_people_by_date.apply(lambda row: row['difference_10_and_12']/ row['num_people_at_10_00'], axis=1)\n",
      "C:\\Users\\mefl\\AppData\\Local\\Temp\\ipykernel_11736\\735385191.py:17: PerformanceWarning: DataFrame is highly fragmented.  This is usually the result of calling `frame.insert` many times, which has poor performance.  Consider joining all columns at once using pd.concat(axis=1) instead. To get a de-fragmented frame, use `newframe = frame.copy()`\n",
      "  features_by_date[day,'7_days_ago_10_00']=num_people_by_date.loc[day-time_delta,'num_people_at_10_00']\n",
      "C:\\Users\\mefl\\AppData\\Local\\Temp\\ipykernel_11736\\735385191.py:17: PerformanceWarning: DataFrame is highly fragmented.  This is usually the result of calling `frame.insert` many times, which has poor performance.  Consider joining all columns at once using pd.concat(axis=1) instead. To get a de-fragmented frame, use `newframe = frame.copy()`\n",
      "  features_by_date[day,'7_days_ago_10_00']=num_people_by_date.loc[day-time_delta,'num_people_at_10_00']\n",
      "C:\\Users\\mefl\\AppData\\Local\\Temp\\ipykernel_11736\\735385191.py:17: PerformanceWarning: DataFrame is highly fragmented.  This is usually the result of calling `frame.insert` many times, which has poor performance.  Consider joining all columns at once using pd.concat(axis=1) instead. To get a de-fragmented frame, use `newframe = frame.copy()`\n",
      "  features_by_date[day,'7_days_ago_10_00']=num_people_by_date.loc[day-time_delta,'num_people_at_10_00']\n",
      "C:\\Users\\mefl\\AppData\\Local\\Temp\\ipykernel_11736\\735385191.py:17: PerformanceWarning: DataFrame is highly fragmented.  This is usually the result of calling `frame.insert` many times, which has poor performance.  Consider joining all columns at once using pd.concat(axis=1) instead. To get a de-fragmented frame, use `newframe = frame.copy()`\n",
      "  features_by_date[day,'7_days_ago_10_00']=num_people_by_date.loc[day-time_delta,'num_people_at_10_00']\n",
      "C:\\Users\\mefl\\AppData\\Local\\Temp\\ipykernel_11736\\735385191.py:17: PerformanceWarning: DataFrame is highly fragmented.  This is usually the result of calling `frame.insert` many times, which has poor performance.  Consider joining all columns at once using pd.concat(axis=1) instead. To get a de-fragmented frame, use `newframe = frame.copy()`\n",
      "  features_by_date[day,'7_days_ago_10_00']=num_people_by_date.loc[day-time_delta,'num_people_at_10_00']\n",
      "C:\\Users\\mefl\\AppData\\Local\\Temp\\ipykernel_11736\\735385191.py:17: PerformanceWarning: DataFrame is highly fragmented.  This is usually the result of calling `frame.insert` many times, which has poor performance.  Consider joining all columns at once using pd.concat(axis=1) instead. To get a de-fragmented frame, use `newframe = frame.copy()`\n",
      "  features_by_date[day,'7_days_ago_10_00']=num_people_by_date.loc[day-time_delta,'num_people_at_10_00']\n",
      "C:\\Users\\mefl\\AppData\\Local\\Temp\\ipykernel_11736\\735385191.py:17: PerformanceWarning: DataFrame is highly fragmented.  This is usually the result of calling `frame.insert` many times, which has poor performance.  Consider joining all columns at once using pd.concat(axis=1) instead. To get a de-fragmented frame, use `newframe = frame.copy()`\n",
      "  features_by_date[day,'7_days_ago_10_00']=num_people_by_date.loc[day-time_delta,'num_people_at_10_00']\n",
      "C:\\Users\\mefl\\AppData\\Local\\Temp\\ipykernel_11736\\735385191.py:17: PerformanceWarning: DataFrame is highly fragmented.  This is usually the result of calling `frame.insert` many times, which has poor performance.  Consider joining all columns at once using pd.concat(axis=1) instead. To get a de-fragmented frame, use `newframe = frame.copy()`\n",
      "  features_by_date[day,'7_days_ago_10_00']=num_people_by_date.loc[day-time_delta,'num_people_at_10_00']\n",
      "C:\\Users\\mefl\\AppData\\Local\\Temp\\ipykernel_11736\\735385191.py:17: PerformanceWarning: DataFrame is highly fragmented.  This is usually the result of calling `frame.insert` many times, which has poor performance.  Consider joining all columns at once using pd.concat(axis=1) instead. To get a de-fragmented frame, use `newframe = frame.copy()`\n",
      "  features_by_date[day,'7_days_ago_10_00']=num_people_by_date.loc[day-time_delta,'num_people_at_10_00']\n",
      "C:\\Users\\mefl\\AppData\\Local\\Temp\\ipykernel_11736\\735385191.py:17: PerformanceWarning: DataFrame is highly fragmented.  This is usually the result of calling `frame.insert` many times, which has poor performance.  Consider joining all columns at once using pd.concat(axis=1) instead. To get a de-fragmented frame, use `newframe = frame.copy()`\n",
      "  features_by_date[day,'7_days_ago_10_00']=num_people_by_date.loc[day-time_delta,'num_people_at_10_00']\n",
      "C:\\Users\\mefl\\AppData\\Local\\Temp\\ipykernel_11736\\735385191.py:17: PerformanceWarning: DataFrame is highly fragmented.  This is usually the result of calling `frame.insert` many times, which has poor performance.  Consider joining all columns at once using pd.concat(axis=1) instead. To get a de-fragmented frame, use `newframe = frame.copy()`\n",
      "  features_by_date[day,'7_days_ago_10_00']=num_people_by_date.loc[day-time_delta,'num_people_at_10_00']\n",
      "C:\\Users\\mefl\\AppData\\Local\\Temp\\ipykernel_11736\\735385191.py:17: PerformanceWarning: DataFrame is highly fragmented.  This is usually the result of calling `frame.insert` many times, which has poor performance.  Consider joining all columns at once using pd.concat(axis=1) instead. To get a de-fragmented frame, use `newframe = frame.copy()`\n",
      "  features_by_date[day,'7_days_ago_10_00']=num_people_by_date.loc[day-time_delta,'num_people_at_10_00']\n",
      "C:\\Users\\mefl\\AppData\\Local\\Temp\\ipykernel_11736\\735385191.py:17: PerformanceWarning: DataFrame is highly fragmented.  This is usually the result of calling `frame.insert` many times, which has poor performance.  Consider joining all columns at once using pd.concat(axis=1) instead. To get a de-fragmented frame, use `newframe = frame.copy()`\n",
      "  features_by_date[day,'7_days_ago_10_00']=num_people_by_date.loc[day-time_delta,'num_people_at_10_00']\n",
      "C:\\Users\\mefl\\AppData\\Local\\Temp\\ipykernel_11736\\735385191.py:17: PerformanceWarning: DataFrame is highly fragmented.  This is usually the result of calling `frame.insert` many times, which has poor performance.  Consider joining all columns at once using pd.concat(axis=1) instead. To get a de-fragmented frame, use `newframe = frame.copy()`\n",
      "  features_by_date[day,'7_days_ago_10_00']=num_people_by_date.loc[day-time_delta,'num_people_at_10_00']\n",
      "C:\\Users\\mefl\\AppData\\Local\\Temp\\ipykernel_11736\\735385191.py:17: PerformanceWarning: DataFrame is highly fragmented.  This is usually the result of calling `frame.insert` many times, which has poor performance.  Consider joining all columns at once using pd.concat(axis=1) instead. To get a de-fragmented frame, use `newframe = frame.copy()`\n",
      "  features_by_date[day,'7_days_ago_10_00']=num_people_by_date.loc[day-time_delta,'num_people_at_10_00']\n",
      "C:\\Users\\mefl\\AppData\\Local\\Temp\\ipykernel_11736\\735385191.py:17: PerformanceWarning: DataFrame is highly fragmented.  This is usually the result of calling `frame.insert` many times, which has poor performance.  Consider joining all columns at once using pd.concat(axis=1) instead. To get a de-fragmented frame, use `newframe = frame.copy()`\n",
      "  features_by_date[day,'7_days_ago_10_00']=num_people_by_date.loc[day-time_delta,'num_people_at_10_00']\n",
      "C:\\Users\\mefl\\AppData\\Local\\Temp\\ipykernel_11736\\735385191.py:17: PerformanceWarning: DataFrame is highly fragmented.  This is usually the result of calling `frame.insert` many times, which has poor performance.  Consider joining all columns at once using pd.concat(axis=1) instead. To get a de-fragmented frame, use `newframe = frame.copy()`\n",
      "  features_by_date[day,'7_days_ago_10_00']=num_people_by_date.loc[day-time_delta,'num_people_at_10_00']\n",
      "C:\\Users\\mefl\\AppData\\Local\\Temp\\ipykernel_11736\\735385191.py:17: PerformanceWarning: DataFrame is highly fragmented.  This is usually the result of calling `frame.insert` many times, which has poor performance.  Consider joining all columns at once using pd.concat(axis=1) instead. To get a de-fragmented frame, use `newframe = frame.copy()`\n",
      "  features_by_date[day,'7_days_ago_10_00']=num_people_by_date.loc[day-time_delta,'num_people_at_10_00']\n",
      "C:\\Users\\mefl\\AppData\\Local\\Temp\\ipykernel_11736\\735385191.py:17: PerformanceWarning: DataFrame is highly fragmented.  This is usually the result of calling `frame.insert` many times, which has poor performance.  Consider joining all columns at once using pd.concat(axis=1) instead. To get a de-fragmented frame, use `newframe = frame.copy()`\n",
      "  features_by_date[day,'7_days_ago_10_00']=num_people_by_date.loc[day-time_delta,'num_people_at_10_00']\n",
      "C:\\Users\\mefl\\AppData\\Local\\Temp\\ipykernel_11736\\735385191.py:17: PerformanceWarning: DataFrame is highly fragmented.  This is usually the result of calling `frame.insert` many times, which has poor performance.  Consider joining all columns at once using pd.concat(axis=1) instead. To get a de-fragmented frame, use `newframe = frame.copy()`\n",
      "  features_by_date[day,'7_days_ago_10_00']=num_people_by_date.loc[day-time_delta,'num_people_at_10_00']\n",
      "C:\\Users\\mefl\\AppData\\Local\\Temp\\ipykernel_11736\\735385191.py:17: PerformanceWarning: DataFrame is highly fragmented.  This is usually the result of calling `frame.insert` many times, which has poor performance.  Consider joining all columns at once using pd.concat(axis=1) instead. To get a de-fragmented frame, use `newframe = frame.copy()`\n",
      "  features_by_date[day,'7_days_ago_10_00']=num_people_by_date.loc[day-time_delta,'num_people_at_10_00']\n",
      "C:\\Users\\mefl\\AppData\\Local\\Temp\\ipykernel_11736\\735385191.py:17: PerformanceWarning: DataFrame is highly fragmented.  This is usually the result of calling `frame.insert` many times, which has poor performance.  Consider joining all columns at once using pd.concat(axis=1) instead. To get a de-fragmented frame, use `newframe = frame.copy()`\n",
      "  features_by_date[day,'7_days_ago_10_00']=num_people_by_date.loc[day-time_delta,'num_people_at_10_00']\n",
      "C:\\Users\\mefl\\AppData\\Local\\Temp\\ipykernel_11736\\735385191.py:17: PerformanceWarning: DataFrame is highly fragmented.  This is usually the result of calling `frame.insert` many times, which has poor performance.  Consider joining all columns at once using pd.concat(axis=1) instead. To get a de-fragmented frame, use `newframe = frame.copy()`\n",
      "  features_by_date[day,'7_days_ago_10_00']=num_people_by_date.loc[day-time_delta,'num_people_at_10_00']\n",
      "C:\\Users\\mefl\\AppData\\Local\\Temp\\ipykernel_11736\\735385191.py:17: PerformanceWarning: DataFrame is highly fragmented.  This is usually the result of calling `frame.insert` many times, which has poor performance.  Consider joining all columns at once using pd.concat(axis=1) instead. To get a de-fragmented frame, use `newframe = frame.copy()`\n",
      "  features_by_date[day,'7_days_ago_10_00']=num_people_by_date.loc[day-time_delta,'num_people_at_10_00']\n",
      "C:\\Users\\mefl\\AppData\\Local\\Temp\\ipykernel_11736\\735385191.py:17: PerformanceWarning: DataFrame is highly fragmented.  This is usually the result of calling `frame.insert` many times, which has poor performance.  Consider joining all columns at once using pd.concat(axis=1) instead. To get a de-fragmented frame, use `newframe = frame.copy()`\n",
      "  features_by_date[day,'7_days_ago_10_00']=num_people_by_date.loc[day-time_delta,'num_people_at_10_00']\n",
      "C:\\Users\\mefl\\AppData\\Local\\Temp\\ipykernel_11736\\735385191.py:17: PerformanceWarning: DataFrame is highly fragmented.  This is usually the result of calling `frame.insert` many times, which has poor performance.  Consider joining all columns at once using pd.concat(axis=1) instead. To get a de-fragmented frame, use `newframe = frame.copy()`\n",
      "  features_by_date[day,'7_days_ago_10_00']=num_people_by_date.loc[day-time_delta,'num_people_at_10_00']\n",
      "C:\\Users\\mefl\\AppData\\Local\\Temp\\ipykernel_11736\\735385191.py:17: PerformanceWarning: DataFrame is highly fragmented.  This is usually the result of calling `frame.insert` many times, which has poor performance.  Consider joining all columns at once using pd.concat(axis=1) instead. To get a de-fragmented frame, use `newframe = frame.copy()`\n",
      "  features_by_date[day,'7_days_ago_10_00']=num_people_by_date.loc[day-time_delta,'num_people_at_10_00']\n",
      "C:\\Users\\mefl\\AppData\\Local\\Temp\\ipykernel_11736\\735385191.py:17: PerformanceWarning: DataFrame is highly fragmented.  This is usually the result of calling `frame.insert` many times, which has poor performance.  Consider joining all columns at once using pd.concat(axis=1) instead. To get a de-fragmented frame, use `newframe = frame.copy()`\n",
      "  features_by_date[day,'7_days_ago_10_00']=num_people_by_date.loc[day-time_delta,'num_people_at_10_00']\n",
      "C:\\Users\\mefl\\AppData\\Local\\Temp\\ipykernel_11736\\735385191.py:17: PerformanceWarning: DataFrame is highly fragmented.  This is usually the result of calling `frame.insert` many times, which has poor performance.  Consider joining all columns at once using pd.concat(axis=1) instead. To get a de-fragmented frame, use `newframe = frame.copy()`\n",
      "  features_by_date[day,'7_days_ago_10_00']=num_people_by_date.loc[day-time_delta,'num_people_at_10_00']\n",
      "C:\\Users\\mefl\\AppData\\Local\\Temp\\ipykernel_11736\\735385191.py:17: PerformanceWarning: DataFrame is highly fragmented.  This is usually the result of calling `frame.insert` many times, which has poor performance.  Consider joining all columns at once using pd.concat(axis=1) instead. To get a de-fragmented frame, use `newframe = frame.copy()`\n",
      "  features_by_date[day,'7_days_ago_10_00']=num_people_by_date.loc[day-time_delta,'num_people_at_10_00']\n",
      "C:\\Users\\mefl\\AppData\\Local\\Temp\\ipykernel_11736\\735385191.py:17: PerformanceWarning: DataFrame is highly fragmented.  This is usually the result of calling `frame.insert` many times, which has poor performance.  Consider joining all columns at once using pd.concat(axis=1) instead. To get a de-fragmented frame, use `newframe = frame.copy()`\n",
      "  features_by_date[day,'7_days_ago_10_00']=num_people_by_date.loc[day-time_delta,'num_people_at_10_00']\n",
      "C:\\Users\\mefl\\AppData\\Local\\Temp\\ipykernel_11736\\735385191.py:17: PerformanceWarning: DataFrame is highly fragmented.  This is usually the result of calling `frame.insert` many times, which has poor performance.  Consider joining all columns at once using pd.concat(axis=1) instead. To get a de-fragmented frame, use `newframe = frame.copy()`\n",
      "  features_by_date[day,'7_days_ago_10_00']=num_people_by_date.loc[day-time_delta,'num_people_at_10_00']\n",
      "C:\\Users\\mefl\\AppData\\Local\\Temp\\ipykernel_11736\\735385191.py:17: PerformanceWarning: DataFrame is highly fragmented.  This is usually the result of calling `frame.insert` many times, which has poor performance.  Consider joining all columns at once using pd.concat(axis=1) instead. To get a de-fragmented frame, use `newframe = frame.copy()`\n",
      "  features_by_date[day,'7_days_ago_10_00']=num_people_by_date.loc[day-time_delta,'num_people_at_10_00']\n",
      "C:\\Users\\mefl\\AppData\\Local\\Temp\\ipykernel_11736\\735385191.py:17: PerformanceWarning: DataFrame is highly fragmented.  This is usually the result of calling `frame.insert` many times, which has poor performance.  Consider joining all columns at once using pd.concat(axis=1) instead. To get a de-fragmented frame, use `newframe = frame.copy()`\n",
      "  features_by_date[day,'7_days_ago_10_00']=num_people_by_date.loc[day-time_delta,'num_people_at_10_00']\n",
      "C:\\Users\\mefl\\AppData\\Local\\Temp\\ipykernel_11736\\735385191.py:17: PerformanceWarning: DataFrame is highly fragmented.  This is usually the result of calling `frame.insert` many times, which has poor performance.  Consider joining all columns at once using pd.concat(axis=1) instead. To get a de-fragmented frame, use `newframe = frame.copy()`\n",
      "  features_by_date[day,'7_days_ago_10_00']=num_people_by_date.loc[day-time_delta,'num_people_at_10_00']\n",
      "C:\\Users\\mefl\\AppData\\Local\\Temp\\ipykernel_11736\\735385191.py:17: PerformanceWarning: DataFrame is highly fragmented.  This is usually the result of calling `frame.insert` many times, which has poor performance.  Consider joining all columns at once using pd.concat(axis=1) instead. To get a de-fragmented frame, use `newframe = frame.copy()`\n",
      "  features_by_date[day,'7_days_ago_10_00']=num_people_by_date.loc[day-time_delta,'num_people_at_10_00']\n",
      "C:\\Users\\mefl\\AppData\\Local\\Temp\\ipykernel_11736\\735385191.py:17: PerformanceWarning: DataFrame is highly fragmented.  This is usually the result of calling `frame.insert` many times, which has poor performance.  Consider joining all columns at once using pd.concat(axis=1) instead. To get a de-fragmented frame, use `newframe = frame.copy()`\n",
      "  features_by_date[day,'7_days_ago_10_00']=num_people_by_date.loc[day-time_delta,'num_people_at_10_00']\n",
      "C:\\Users\\mefl\\AppData\\Local\\Temp\\ipykernel_11736\\735385191.py:17: PerformanceWarning: DataFrame is highly fragmented.  This is usually the result of calling `frame.insert` many times, which has poor performance.  Consider joining all columns at once using pd.concat(axis=1) instead. To get a de-fragmented frame, use `newframe = frame.copy()`\n",
      "  features_by_date[day,'7_days_ago_10_00']=num_people_by_date.loc[day-time_delta,'num_people_at_10_00']\n",
      "C:\\Users\\mefl\\AppData\\Local\\Temp\\ipykernel_11736\\735385191.py:17: PerformanceWarning: DataFrame is highly fragmented.  This is usually the result of calling `frame.insert` many times, which has poor performance.  Consider joining all columns at once using pd.concat(axis=1) instead. To get a de-fragmented frame, use `newframe = frame.copy()`\n",
      "  features_by_date[day,'7_days_ago_10_00']=num_people_by_date.loc[day-time_delta,'num_people_at_10_00']\n",
      "C:\\Users\\mefl\\AppData\\Local\\Temp\\ipykernel_11736\\735385191.py:17: PerformanceWarning: DataFrame is highly fragmented.  This is usually the result of calling `frame.insert` many times, which has poor performance.  Consider joining all columns at once using pd.concat(axis=1) instead. To get a de-fragmented frame, use `newframe = frame.copy()`\n",
      "  features_by_date[day,'7_days_ago_10_00']=num_people_by_date.loc[day-time_delta,'num_people_at_10_00']\n",
      "C:\\Users\\mefl\\AppData\\Local\\Temp\\ipykernel_11736\\735385191.py:17: PerformanceWarning: DataFrame is highly fragmented.  This is usually the result of calling `frame.insert` many times, which has poor performance.  Consider joining all columns at once using pd.concat(axis=1) instead. To get a de-fragmented frame, use `newframe = frame.copy()`\n",
      "  features_by_date[day,'7_days_ago_10_00']=num_people_by_date.loc[day-time_delta,'num_people_at_10_00']\n",
      "C:\\Users\\mefl\\AppData\\Local\\Temp\\ipykernel_11736\\735385191.py:17: PerformanceWarning: DataFrame is highly fragmented.  This is usually the result of calling `frame.insert` many times, which has poor performance.  Consider joining all columns at once using pd.concat(axis=1) instead. To get a de-fragmented frame, use `newframe = frame.copy()`\n",
      "  features_by_date[day,'7_days_ago_10_00']=num_people_by_date.loc[day-time_delta,'num_people_at_10_00']\n",
      "C:\\Users\\mefl\\AppData\\Local\\Temp\\ipykernel_11736\\735385191.py:17: PerformanceWarning: DataFrame is highly fragmented.  This is usually the result of calling `frame.insert` many times, which has poor performance.  Consider joining all columns at once using pd.concat(axis=1) instead. To get a de-fragmented frame, use `newframe = frame.copy()`\n",
      "  features_by_date[day,'7_days_ago_10_00']=num_people_by_date.loc[day-time_delta,'num_people_at_10_00']\n",
      "C:\\Users\\mefl\\AppData\\Local\\Temp\\ipykernel_11736\\735385191.py:17: PerformanceWarning: DataFrame is highly fragmented.  This is usually the result of calling `frame.insert` many times, which has poor performance.  Consider joining all columns at once using pd.concat(axis=1) instead. To get a de-fragmented frame, use `newframe = frame.copy()`\n",
      "  features_by_date[day,'7_days_ago_10_00']=num_people_by_date.loc[day-time_delta,'num_people_at_10_00']\n",
      "C:\\Users\\mefl\\AppData\\Local\\Temp\\ipykernel_11736\\735385191.py:17: PerformanceWarning: DataFrame is highly fragmented.  This is usually the result of calling `frame.insert` many times, which has poor performance.  Consider joining all columns at once using pd.concat(axis=1) instead. To get a de-fragmented frame, use `newframe = frame.copy()`\n",
      "  features_by_date[day,'7_days_ago_10_00']=num_people_by_date.loc[day-time_delta,'num_people_at_10_00']\n",
      "C:\\Users\\mefl\\AppData\\Local\\Temp\\ipykernel_11736\\735385191.py:17: PerformanceWarning: DataFrame is highly fragmented.  This is usually the result of calling `frame.insert` many times, which has poor performance.  Consider joining all columns at once using pd.concat(axis=1) instead. To get a de-fragmented frame, use `newframe = frame.copy()`\n",
      "  features_by_date[day,'7_days_ago_10_00']=num_people_by_date.loc[day-time_delta,'num_people_at_10_00']\n",
      "C:\\Users\\mefl\\AppData\\Local\\Temp\\ipykernel_11736\\735385191.py:17: PerformanceWarning: DataFrame is highly fragmented.  This is usually the result of calling `frame.insert` many times, which has poor performance.  Consider joining all columns at once using pd.concat(axis=1) instead. To get a de-fragmented frame, use `newframe = frame.copy()`\n",
      "  features_by_date[day,'7_days_ago_10_00']=num_people_by_date.loc[day-time_delta,'num_people_at_10_00']\n",
      "C:\\Users\\mefl\\AppData\\Local\\Temp\\ipykernel_11736\\735385191.py:17: PerformanceWarning: DataFrame is highly fragmented.  This is usually the result of calling `frame.insert` many times, which has poor performance.  Consider joining all columns at once using pd.concat(axis=1) instead. To get a de-fragmented frame, use `newframe = frame.copy()`\n",
      "  features_by_date[day,'7_days_ago_10_00']=num_people_by_date.loc[day-time_delta,'num_people_at_10_00']\n",
      "C:\\Users\\mefl\\AppData\\Local\\Temp\\ipykernel_11736\\735385191.py:17: PerformanceWarning: DataFrame is highly fragmented.  This is usually the result of calling `frame.insert` many times, which has poor performance.  Consider joining all columns at once using pd.concat(axis=1) instead. To get a de-fragmented frame, use `newframe = frame.copy()`\n",
      "  features_by_date[day,'7_days_ago_10_00']=num_people_by_date.loc[day-time_delta,'num_people_at_10_00']\n",
      "C:\\Users\\mefl\\AppData\\Local\\Temp\\ipykernel_11736\\735385191.py:17: PerformanceWarning: DataFrame is highly fragmented.  This is usually the result of calling `frame.insert` many times, which has poor performance.  Consider joining all columns at once using pd.concat(axis=1) instead. To get a de-fragmented frame, use `newframe = frame.copy()`\n",
      "  features_by_date[day,'7_days_ago_10_00']=num_people_by_date.loc[day-time_delta,'num_people_at_10_00']\n",
      "C:\\Users\\mefl\\AppData\\Local\\Temp\\ipykernel_11736\\735385191.py:17: PerformanceWarning: DataFrame is highly fragmented.  This is usually the result of calling `frame.insert` many times, which has poor performance.  Consider joining all columns at once using pd.concat(axis=1) instead. To get a de-fragmented frame, use `newframe = frame.copy()`\n",
      "  features_by_date[day,'7_days_ago_10_00']=num_people_by_date.loc[day-time_delta,'num_people_at_10_00']\n",
      "C:\\Users\\mefl\\AppData\\Local\\Temp\\ipykernel_11736\\735385191.py:17: PerformanceWarning: DataFrame is highly fragmented.  This is usually the result of calling `frame.insert` many times, which has poor performance.  Consider joining all columns at once using pd.concat(axis=1) instead. To get a de-fragmented frame, use `newframe = frame.copy()`\n",
      "  features_by_date[day,'7_days_ago_10_00']=num_people_by_date.loc[day-time_delta,'num_people_at_10_00']\n",
      "C:\\Users\\mefl\\AppData\\Local\\Temp\\ipykernel_11736\\735385191.py:17: PerformanceWarning: DataFrame is highly fragmented.  This is usually the result of calling `frame.insert` many times, which has poor performance.  Consider joining all columns at once using pd.concat(axis=1) instead. To get a de-fragmented frame, use `newframe = frame.copy()`\n",
      "  features_by_date[day,'7_days_ago_10_00']=num_people_by_date.loc[day-time_delta,'num_people_at_10_00']\n",
      "C:\\Users\\mefl\\AppData\\Local\\Temp\\ipykernel_11736\\735385191.py:17: PerformanceWarning: DataFrame is highly fragmented.  This is usually the result of calling `frame.insert` many times, which has poor performance.  Consider joining all columns at once using pd.concat(axis=1) instead. To get a de-fragmented frame, use `newframe = frame.copy()`\n",
      "  features_by_date[day,'7_days_ago_10_00']=num_people_by_date.loc[day-time_delta,'num_people_at_10_00']\n",
      "C:\\Users\\mefl\\AppData\\Local\\Temp\\ipykernel_11736\\735385191.py:17: PerformanceWarning: DataFrame is highly fragmented.  This is usually the result of calling `frame.insert` many times, which has poor performance.  Consider joining all columns at once using pd.concat(axis=1) instead. To get a de-fragmented frame, use `newframe = frame.copy()`\n",
      "  features_by_date[day,'7_days_ago_10_00']=num_people_by_date.loc[day-time_delta,'num_people_at_10_00']\n",
      "C:\\Users\\mefl\\AppData\\Local\\Temp\\ipykernel_11736\\735385191.py:17: PerformanceWarning: DataFrame is highly fragmented.  This is usually the result of calling `frame.insert` many times, which has poor performance.  Consider joining all columns at once using pd.concat(axis=1) instead. To get a de-fragmented frame, use `newframe = frame.copy()`\n",
      "  features_by_date[day,'7_days_ago_10_00']=num_people_by_date.loc[day-time_delta,'num_people_at_10_00']\n",
      "C:\\Users\\mefl\\AppData\\Local\\Temp\\ipykernel_11736\\735385191.py:17: PerformanceWarning: DataFrame is highly fragmented.  This is usually the result of calling `frame.insert` many times, which has poor performance.  Consider joining all columns at once using pd.concat(axis=1) instead. To get a de-fragmented frame, use `newframe = frame.copy()`\n",
      "  features_by_date[day,'7_days_ago_10_00']=num_people_by_date.loc[day-time_delta,'num_people_at_10_00']\n",
      "C:\\Users\\mefl\\AppData\\Local\\Temp\\ipykernel_11736\\735385191.py:17: PerformanceWarning: DataFrame is highly fragmented.  This is usually the result of calling `frame.insert` many times, which has poor performance.  Consider joining all columns at once using pd.concat(axis=1) instead. To get a de-fragmented frame, use `newframe = frame.copy()`\n",
      "  features_by_date[day,'7_days_ago_10_00']=num_people_by_date.loc[day-time_delta,'num_people_at_10_00']\n",
      "C:\\Users\\mefl\\AppData\\Local\\Temp\\ipykernel_11736\\735385191.py:17: PerformanceWarning: DataFrame is highly fragmented.  This is usually the result of calling `frame.insert` many times, which has poor performance.  Consider joining all columns at once using pd.concat(axis=1) instead. To get a de-fragmented frame, use `newframe = frame.copy()`\n",
      "  features_by_date[day,'7_days_ago_10_00']=num_people_by_date.loc[day-time_delta,'num_people_at_10_00']\n",
      "C:\\Users\\mefl\\AppData\\Local\\Temp\\ipykernel_11736\\735385191.py:17: PerformanceWarning: DataFrame is highly fragmented.  This is usually the result of calling `frame.insert` many times, which has poor performance.  Consider joining all columns at once using pd.concat(axis=1) instead. To get a de-fragmented frame, use `newframe = frame.copy()`\n",
      "  features_by_date[day,'7_days_ago_10_00']=num_people_by_date.loc[day-time_delta,'num_people_at_10_00']\n",
      "C:\\Users\\mefl\\AppData\\Local\\Temp\\ipykernel_11736\\735385191.py:17: PerformanceWarning: DataFrame is highly fragmented.  This is usually the result of calling `frame.insert` many times, which has poor performance.  Consider joining all columns at once using pd.concat(axis=1) instead. To get a de-fragmented frame, use `newframe = frame.copy()`\n",
      "  features_by_date[day,'7_days_ago_10_00']=num_people_by_date.loc[day-time_delta,'num_people_at_10_00']\n",
      "C:\\Users\\mefl\\AppData\\Local\\Temp\\ipykernel_11736\\735385191.py:17: PerformanceWarning: DataFrame is highly fragmented.  This is usually the result of calling `frame.insert` many times, which has poor performance.  Consider joining all columns at once using pd.concat(axis=1) instead. To get a de-fragmented frame, use `newframe = frame.copy()`\n",
      "  features_by_date[day,'7_days_ago_10_00']=num_people_by_date.loc[day-time_delta,'num_people_at_10_00']\n",
      "C:\\Users\\mefl\\AppData\\Local\\Temp\\ipykernel_11736\\735385191.py:17: PerformanceWarning: DataFrame is highly fragmented.  This is usually the result of calling `frame.insert` many times, which has poor performance.  Consider joining all columns at once using pd.concat(axis=1) instead. To get a de-fragmented frame, use `newframe = frame.copy()`\n",
      "  features_by_date[day,'7_days_ago_10_00']=num_people_by_date.loc[day-time_delta,'num_people_at_10_00']\n",
      "C:\\Users\\mefl\\AppData\\Local\\Temp\\ipykernel_11736\\735385191.py:17: PerformanceWarning: DataFrame is highly fragmented.  This is usually the result of calling `frame.insert` many times, which has poor performance.  Consider joining all columns at once using pd.concat(axis=1) instead. To get a de-fragmented frame, use `newframe = frame.copy()`\n",
      "  features_by_date[day,'7_days_ago_10_00']=num_people_by_date.loc[day-time_delta,'num_people_at_10_00']\n",
      "C:\\Users\\mefl\\AppData\\Local\\Temp\\ipykernel_11736\\735385191.py:17: PerformanceWarning: DataFrame is highly fragmented.  This is usually the result of calling `frame.insert` many times, which has poor performance.  Consider joining all columns at once using pd.concat(axis=1) instead. To get a de-fragmented frame, use `newframe = frame.copy()`\n",
      "  features_by_date[day,'7_days_ago_10_00']=num_people_by_date.loc[day-time_delta,'num_people_at_10_00']\n",
      "C:\\Users\\mefl\\AppData\\Local\\Temp\\ipykernel_11736\\735385191.py:17: PerformanceWarning: DataFrame is highly fragmented.  This is usually the result of calling `frame.insert` many times, which has poor performance.  Consider joining all columns at once using pd.concat(axis=1) instead. To get a de-fragmented frame, use `newframe = frame.copy()`\n",
      "  features_by_date[day,'7_days_ago_10_00']=num_people_by_date.loc[day-time_delta,'num_people_at_10_00']\n",
      "C:\\Users\\mefl\\AppData\\Local\\Temp\\ipykernel_11736\\735385191.py:17: PerformanceWarning: DataFrame is highly fragmented.  This is usually the result of calling `frame.insert` many times, which has poor performance.  Consider joining all columns at once using pd.concat(axis=1) instead. To get a de-fragmented frame, use `newframe = frame.copy()`\n",
      "  features_by_date[day,'7_days_ago_10_00']=num_people_by_date.loc[day-time_delta,'num_people_at_10_00']\n",
      "C:\\Users\\mefl\\AppData\\Local\\Temp\\ipykernel_11736\\735385191.py:17: PerformanceWarning: DataFrame is highly fragmented.  This is usually the result of calling `frame.insert` many times, which has poor performance.  Consider joining all columns at once using pd.concat(axis=1) instead. To get a de-fragmented frame, use `newframe = frame.copy()`\n",
      "  features_by_date[day,'7_days_ago_10_00']=num_people_by_date.loc[day-time_delta,'num_people_at_10_00']\n",
      "C:\\Users\\mefl\\AppData\\Local\\Temp\\ipykernel_11736\\735385191.py:17: PerformanceWarning: DataFrame is highly fragmented.  This is usually the result of calling `frame.insert` many times, which has poor performance.  Consider joining all columns at once using pd.concat(axis=1) instead. To get a de-fragmented frame, use `newframe = frame.copy()`\n",
      "  features_by_date[day,'7_days_ago_10_00']=num_people_by_date.loc[day-time_delta,'num_people_at_10_00']\n",
      "C:\\Users\\mefl\\AppData\\Local\\Temp\\ipykernel_11736\\735385191.py:17: PerformanceWarning: DataFrame is highly fragmented.  This is usually the result of calling `frame.insert` many times, which has poor performance.  Consider joining all columns at once using pd.concat(axis=1) instead. To get a de-fragmented frame, use `newframe = frame.copy()`\n",
      "  features_by_date[day,'7_days_ago_10_00']=num_people_by_date.loc[day-time_delta,'num_people_at_10_00']\n",
      "C:\\Users\\mefl\\AppData\\Local\\Temp\\ipykernel_11736\\735385191.py:17: PerformanceWarning: DataFrame is highly fragmented.  This is usually the result of calling `frame.insert` many times, which has poor performance.  Consider joining all columns at once using pd.concat(axis=1) instead. To get a de-fragmented frame, use `newframe = frame.copy()`\n",
      "  features_by_date[day,'7_days_ago_10_00']=num_people_by_date.loc[day-time_delta,'num_people_at_10_00']\n",
      "C:\\Users\\mefl\\AppData\\Local\\Temp\\ipykernel_11736\\735385191.py:17: PerformanceWarning: DataFrame is highly fragmented.  This is usually the result of calling `frame.insert` many times, which has poor performance.  Consider joining all columns at once using pd.concat(axis=1) instead. To get a de-fragmented frame, use `newframe = frame.copy()`\n",
      "  features_by_date[day,'7_days_ago_10_00']=num_people_by_date.loc[day-time_delta,'num_people_at_10_00']\n",
      "C:\\Users\\mefl\\AppData\\Local\\Temp\\ipykernel_11736\\735385191.py:17: PerformanceWarning: DataFrame is highly fragmented.  This is usually the result of calling `frame.insert` many times, which has poor performance.  Consider joining all columns at once using pd.concat(axis=1) instead. To get a de-fragmented frame, use `newframe = frame.copy()`\n",
      "  features_by_date[day,'7_days_ago_10_00']=num_people_by_date.loc[day-time_delta,'num_people_at_10_00']\n",
      "C:\\Users\\mefl\\AppData\\Local\\Temp\\ipykernel_11736\\735385191.py:17: PerformanceWarning: DataFrame is highly fragmented.  This is usually the result of calling `frame.insert` many times, which has poor performance.  Consider joining all columns at once using pd.concat(axis=1) instead. To get a de-fragmented frame, use `newframe = frame.copy()`\n",
      "  features_by_date[day,'7_days_ago_10_00']=num_people_by_date.loc[day-time_delta,'num_people_at_10_00']\n",
      "C:\\Users\\mefl\\AppData\\Local\\Temp\\ipykernel_11736\\735385191.py:17: PerformanceWarning: DataFrame is highly fragmented.  This is usually the result of calling `frame.insert` many times, which has poor performance.  Consider joining all columns at once using pd.concat(axis=1) instead. To get a de-fragmented frame, use `newframe = frame.copy()`\n",
      "  features_by_date[day,'7_days_ago_10_00']=num_people_by_date.loc[day-time_delta,'num_people_at_10_00']\n",
      "C:\\Users\\mefl\\AppData\\Local\\Temp\\ipykernel_11736\\735385191.py:17: PerformanceWarning: DataFrame is highly fragmented.  This is usually the result of calling `frame.insert` many times, which has poor performance.  Consider joining all columns at once using pd.concat(axis=1) instead. To get a de-fragmented frame, use `newframe = frame.copy()`\n",
      "  features_by_date[day,'7_days_ago_10_00']=num_people_by_date.loc[day-time_delta,'num_people_at_10_00']\n",
      "C:\\Users\\mefl\\AppData\\Local\\Temp\\ipykernel_11736\\735385191.py:17: PerformanceWarning: DataFrame is highly fragmented.  This is usually the result of calling `frame.insert` many times, which has poor performance.  Consider joining all columns at once using pd.concat(axis=1) instead. To get a de-fragmented frame, use `newframe = frame.copy()`\n",
      "  features_by_date[day,'7_days_ago_10_00']=num_people_by_date.loc[day-time_delta,'num_people_at_10_00']\n",
      "C:\\Users\\mefl\\AppData\\Local\\Temp\\ipykernel_11736\\735385191.py:17: PerformanceWarning: DataFrame is highly fragmented.  This is usually the result of calling `frame.insert` many times, which has poor performance.  Consider joining all columns at once using pd.concat(axis=1) instead. To get a de-fragmented frame, use `newframe = frame.copy()`\n",
      "  features_by_date[day,'7_days_ago_10_00']=num_people_by_date.loc[day-time_delta,'num_people_at_10_00']\n",
      "C:\\Users\\mefl\\AppData\\Local\\Temp\\ipykernel_11736\\735385191.py:17: PerformanceWarning: DataFrame is highly fragmented.  This is usually the result of calling `frame.insert` many times, which has poor performance.  Consider joining all columns at once using pd.concat(axis=1) instead. To get a de-fragmented frame, use `newframe = frame.copy()`\n",
      "  features_by_date[day,'7_days_ago_10_00']=num_people_by_date.loc[day-time_delta,'num_people_at_10_00']\n",
      "C:\\Users\\mefl\\AppData\\Local\\Temp\\ipykernel_11736\\735385191.py:17: PerformanceWarning: DataFrame is highly fragmented.  This is usually the result of calling `frame.insert` many times, which has poor performance.  Consider joining all columns at once using pd.concat(axis=1) instead. To get a de-fragmented frame, use `newframe = frame.copy()`\n",
      "  features_by_date[day,'7_days_ago_10_00']=num_people_by_date.loc[day-time_delta,'num_people_at_10_00']\n",
      "C:\\Users\\mefl\\AppData\\Local\\Temp\\ipykernel_11736\\735385191.py:17: PerformanceWarning: DataFrame is highly fragmented.  This is usually the result of calling `frame.insert` many times, which has poor performance.  Consider joining all columns at once using pd.concat(axis=1) instead. To get a de-fragmented frame, use `newframe = frame.copy()`\n",
      "  features_by_date[day,'7_days_ago_10_00']=num_people_by_date.loc[day-time_delta,'num_people_at_10_00']\n",
      "C:\\Users\\mefl\\AppData\\Local\\Temp\\ipykernel_11736\\735385191.py:17: PerformanceWarning: DataFrame is highly fragmented.  This is usually the result of calling `frame.insert` many times, which has poor performance.  Consider joining all columns at once using pd.concat(axis=1) instead. To get a de-fragmented frame, use `newframe = frame.copy()`\n",
      "  features_by_date[day,'7_days_ago_10_00']=num_people_by_date.loc[day-time_delta,'num_people_at_10_00']\n",
      "C:\\Users\\mefl\\AppData\\Local\\Temp\\ipykernel_11736\\735385191.py:17: PerformanceWarning: DataFrame is highly fragmented.  This is usually the result of calling `frame.insert` many times, which has poor performance.  Consider joining all columns at once using pd.concat(axis=1) instead. To get a de-fragmented frame, use `newframe = frame.copy()`\n",
      "  features_by_date[day,'7_days_ago_10_00']=num_people_by_date.loc[day-time_delta,'num_people_at_10_00']\n",
      "C:\\Users\\mefl\\AppData\\Local\\Temp\\ipykernel_11736\\735385191.py:17: PerformanceWarning: DataFrame is highly fragmented.  This is usually the result of calling `frame.insert` many times, which has poor performance.  Consider joining all columns at once using pd.concat(axis=1) instead. To get a de-fragmented frame, use `newframe = frame.copy()`\n",
      "  features_by_date[day,'7_days_ago_10_00']=num_people_by_date.loc[day-time_delta,'num_people_at_10_00']\n",
      "C:\\Users\\mefl\\AppData\\Local\\Temp\\ipykernel_11736\\735385191.py:17: PerformanceWarning: DataFrame is highly fragmented.  This is usually the result of calling `frame.insert` many times, which has poor performance.  Consider joining all columns at once using pd.concat(axis=1) instead. To get a de-fragmented frame, use `newframe = frame.copy()`\n",
      "  features_by_date[day,'7_days_ago_10_00']=num_people_by_date.loc[day-time_delta,'num_people_at_10_00']\n",
      "C:\\Users\\mefl\\AppData\\Local\\Temp\\ipykernel_11736\\735385191.py:17: PerformanceWarning: DataFrame is highly fragmented.  This is usually the result of calling `frame.insert` many times, which has poor performance.  Consider joining all columns at once using pd.concat(axis=1) instead. To get a de-fragmented frame, use `newframe = frame.copy()`\n",
      "  features_by_date[day,'7_days_ago_10_00']=num_people_by_date.loc[day-time_delta,'num_people_at_10_00']\n",
      "C:\\Users\\mefl\\AppData\\Local\\Temp\\ipykernel_11736\\735385191.py:17: PerformanceWarning: DataFrame is highly fragmented.  This is usually the result of calling `frame.insert` many times, which has poor performance.  Consider joining all columns at once using pd.concat(axis=1) instead. To get a de-fragmented frame, use `newframe = frame.copy()`\n",
      "  features_by_date[day,'7_days_ago_10_00']=num_people_by_date.loc[day-time_delta,'num_people_at_10_00']\n",
      "C:\\Users\\mefl\\AppData\\Local\\Temp\\ipykernel_11736\\735385191.py:17: PerformanceWarning: DataFrame is highly fragmented.  This is usually the result of calling `frame.insert` many times, which has poor performance.  Consider joining all columns at once using pd.concat(axis=1) instead. To get a de-fragmented frame, use `newframe = frame.copy()`\n",
      "  features_by_date[day,'7_days_ago_10_00']=num_people_by_date.loc[day-time_delta,'num_people_at_10_00']\n",
      "C:\\Users\\mefl\\AppData\\Local\\Temp\\ipykernel_11736\\735385191.py:17: PerformanceWarning: DataFrame is highly fragmented.  This is usually the result of calling `frame.insert` many times, which has poor performance.  Consider joining all columns at once using pd.concat(axis=1) instead. To get a de-fragmented frame, use `newframe = frame.copy()`\n",
      "  features_by_date[day,'7_days_ago_10_00']=num_people_by_date.loc[day-time_delta,'num_people_at_10_00']\n",
      "C:\\Users\\mefl\\AppData\\Local\\Temp\\ipykernel_11736\\735385191.py:17: PerformanceWarning: DataFrame is highly fragmented.  This is usually the result of calling `frame.insert` many times, which has poor performance.  Consider joining all columns at once using pd.concat(axis=1) instead. To get a de-fragmented frame, use `newframe = frame.copy()`\n",
      "  features_by_date[day,'7_days_ago_10_00']=num_people_by_date.loc[day-time_delta,'num_people_at_10_00']\n",
      "C:\\Users\\mefl\\AppData\\Local\\Temp\\ipykernel_11736\\735385191.py:17: PerformanceWarning: DataFrame is highly fragmented.  This is usually the result of calling `frame.insert` many times, which has poor performance.  Consider joining all columns at once using pd.concat(axis=1) instead. To get a de-fragmented frame, use `newframe = frame.copy()`\n",
      "  features_by_date[day,'7_days_ago_10_00']=num_people_by_date.loc[day-time_delta,'num_people_at_10_00']\n",
      "C:\\Users\\mefl\\AppData\\Local\\Temp\\ipykernel_11736\\735385191.py:17: PerformanceWarning: DataFrame is highly fragmented.  This is usually the result of calling `frame.insert` many times, which has poor performance.  Consider joining all columns at once using pd.concat(axis=1) instead. To get a de-fragmented frame, use `newframe = frame.copy()`\n",
      "  features_by_date[day,'7_days_ago_10_00']=num_people_by_date.loc[day-time_delta,'num_people_at_10_00']\n",
      "C:\\Users\\mefl\\AppData\\Local\\Temp\\ipykernel_11736\\735385191.py:17: PerformanceWarning: DataFrame is highly fragmented.  This is usually the result of calling `frame.insert` many times, which has poor performance.  Consider joining all columns at once using pd.concat(axis=1) instead. To get a de-fragmented frame, use `newframe = frame.copy()`\n",
      "  features_by_date[day,'7_days_ago_10_00']=num_people_by_date.loc[day-time_delta,'num_people_at_10_00']\n",
      "C:\\Users\\mefl\\AppData\\Local\\Temp\\ipykernel_11736\\735385191.py:17: PerformanceWarning: DataFrame is highly fragmented.  This is usually the result of calling `frame.insert` many times, which has poor performance.  Consider joining all columns at once using pd.concat(axis=1) instead. To get a de-fragmented frame, use `newframe = frame.copy()`\n",
      "  features_by_date[day,'7_days_ago_10_00']=num_people_by_date.loc[day-time_delta,'num_people_at_10_00']\n",
      "C:\\Users\\mefl\\AppData\\Local\\Temp\\ipykernel_11736\\735385191.py:17: PerformanceWarning: DataFrame is highly fragmented.  This is usually the result of calling `frame.insert` many times, which has poor performance.  Consider joining all columns at once using pd.concat(axis=1) instead. To get a de-fragmented frame, use `newframe = frame.copy()`\n",
      "  features_by_date[day,'7_days_ago_10_00']=num_people_by_date.loc[day-time_delta,'num_people_at_10_00']\n",
      "C:\\Users\\mefl\\AppData\\Local\\Temp\\ipykernel_11736\\735385191.py:17: PerformanceWarning: DataFrame is highly fragmented.  This is usually the result of calling `frame.insert` many times, which has poor performance.  Consider joining all columns at once using pd.concat(axis=1) instead. To get a de-fragmented frame, use `newframe = frame.copy()`\n",
      "  features_by_date[day,'7_days_ago_10_00']=num_people_by_date.loc[day-time_delta,'num_people_at_10_00']\n",
      "C:\\Users\\mefl\\AppData\\Local\\Temp\\ipykernel_11736\\735385191.py:17: PerformanceWarning: DataFrame is highly fragmented.  This is usually the result of calling `frame.insert` many times, which has poor performance.  Consider joining all columns at once using pd.concat(axis=1) instead. To get a de-fragmented frame, use `newframe = frame.copy()`\n",
      "  features_by_date[day,'7_days_ago_10_00']=num_people_by_date.loc[day-time_delta,'num_people_at_10_00']\n",
      "C:\\Users\\mefl\\AppData\\Local\\Temp\\ipykernel_11736\\735385191.py:17: PerformanceWarning: DataFrame is highly fragmented.  This is usually the result of calling `frame.insert` many times, which has poor performance.  Consider joining all columns at once using pd.concat(axis=1) instead. To get a de-fragmented frame, use `newframe = frame.copy()`\n",
      "  features_by_date[day,'7_days_ago_10_00']=num_people_by_date.loc[day-time_delta,'num_people_at_10_00']\n",
      "C:\\Users\\mefl\\AppData\\Local\\Temp\\ipykernel_11736\\735385191.py:17: PerformanceWarning: DataFrame is highly fragmented.  This is usually the result of calling `frame.insert` many times, which has poor performance.  Consider joining all columns at once using pd.concat(axis=1) instead. To get a de-fragmented frame, use `newframe = frame.copy()`\n",
      "  features_by_date[day,'7_days_ago_10_00']=num_people_by_date.loc[day-time_delta,'num_people_at_10_00']\n",
      "C:\\Users\\mefl\\AppData\\Local\\Temp\\ipykernel_11736\\735385191.py:17: PerformanceWarning: DataFrame is highly fragmented.  This is usually the result of calling `frame.insert` many times, which has poor performance.  Consider joining all columns at once using pd.concat(axis=1) instead. To get a de-fragmented frame, use `newframe = frame.copy()`\n",
      "  features_by_date[day,'7_days_ago_10_00']=num_people_by_date.loc[day-time_delta,'num_people_at_10_00']\n",
      "C:\\Users\\mefl\\AppData\\Local\\Temp\\ipykernel_11736\\735385191.py:17: PerformanceWarning: DataFrame is highly fragmented.  This is usually the result of calling `frame.insert` many times, which has poor performance.  Consider joining all columns at once using pd.concat(axis=1) instead. To get a de-fragmented frame, use `newframe = frame.copy()`\n",
      "  features_by_date[day,'7_days_ago_10_00']=num_people_by_date.loc[day-time_delta,'num_people_at_10_00']\n",
      "C:\\Users\\mefl\\AppData\\Local\\Temp\\ipykernel_11736\\735385191.py:17: PerformanceWarning: DataFrame is highly fragmented.  This is usually the result of calling `frame.insert` many times, which has poor performance.  Consider joining all columns at once using pd.concat(axis=1) instead. To get a de-fragmented frame, use `newframe = frame.copy()`\n",
      "  features_by_date[day,'7_days_ago_10_00']=num_people_by_date.loc[day-time_delta,'num_people_at_10_00']\n",
      "C:\\Users\\mefl\\AppData\\Local\\Temp\\ipykernel_11736\\735385191.py:17: PerformanceWarning: DataFrame is highly fragmented.  This is usually the result of calling `frame.insert` many times, which has poor performance.  Consider joining all columns at once using pd.concat(axis=1) instead. To get a de-fragmented frame, use `newframe = frame.copy()`\n",
      "  features_by_date[day,'7_days_ago_10_00']=num_people_by_date.loc[day-time_delta,'num_people_at_10_00']\n",
      "C:\\Users\\mefl\\AppData\\Local\\Temp\\ipykernel_11736\\735385191.py:17: PerformanceWarning: DataFrame is highly fragmented.  This is usually the result of calling `frame.insert` many times, which has poor performance.  Consider joining all columns at once using pd.concat(axis=1) instead. To get a de-fragmented frame, use `newframe = frame.copy()`\n",
      "  features_by_date[day,'7_days_ago_10_00']=num_people_by_date.loc[day-time_delta,'num_people_at_10_00']\n",
      "C:\\Users\\mefl\\AppData\\Local\\Temp\\ipykernel_11736\\735385191.py:17: PerformanceWarning: DataFrame is highly fragmented.  This is usually the result of calling `frame.insert` many times, which has poor performance.  Consider joining all columns at once using pd.concat(axis=1) instead. To get a de-fragmented frame, use `newframe = frame.copy()`\n",
      "  features_by_date[day,'7_days_ago_10_00']=num_people_by_date.loc[day-time_delta,'num_people_at_10_00']\n",
      "C:\\Users\\mefl\\AppData\\Local\\Temp\\ipykernel_11736\\735385191.py:17: PerformanceWarning: DataFrame is highly fragmented.  This is usually the result of calling `frame.insert` many times, which has poor performance.  Consider joining all columns at once using pd.concat(axis=1) instead. To get a de-fragmented frame, use `newframe = frame.copy()`\n",
      "  features_by_date[day,'7_days_ago_10_00']=num_people_by_date.loc[day-time_delta,'num_people_at_10_00']\n",
      "C:\\Users\\mefl\\AppData\\Local\\Temp\\ipykernel_11736\\735385191.py:17: PerformanceWarning: DataFrame is highly fragmented.  This is usually the result of calling `frame.insert` many times, which has poor performance.  Consider joining all columns at once using pd.concat(axis=1) instead. To get a de-fragmented frame, use `newframe = frame.copy()`\n",
      "  features_by_date[day,'7_days_ago_10_00']=num_people_by_date.loc[day-time_delta,'num_people_at_10_00']\n",
      "C:\\Users\\mefl\\AppData\\Local\\Temp\\ipykernel_11736\\735385191.py:17: PerformanceWarning: DataFrame is highly fragmented.  This is usually the result of calling `frame.insert` many times, which has poor performance.  Consider joining all columns at once using pd.concat(axis=1) instead. To get a de-fragmented frame, use `newframe = frame.copy()`\n",
      "  features_by_date[day,'7_days_ago_10_00']=num_people_by_date.loc[day-time_delta,'num_people_at_10_00']\n",
      "C:\\Users\\mefl\\AppData\\Local\\Temp\\ipykernel_11736\\735385191.py:17: PerformanceWarning: DataFrame is highly fragmented.  This is usually the result of calling `frame.insert` many times, which has poor performance.  Consider joining all columns at once using pd.concat(axis=1) instead. To get a de-fragmented frame, use `newframe = frame.copy()`\n",
      "  features_by_date[day,'7_days_ago_10_00']=num_people_by_date.loc[day-time_delta,'num_people_at_10_00']\n",
      "C:\\Users\\mefl\\AppData\\Local\\Temp\\ipykernel_11736\\735385191.py:17: PerformanceWarning: DataFrame is highly fragmented.  This is usually the result of calling `frame.insert` many times, which has poor performance.  Consider joining all columns at once using pd.concat(axis=1) instead. To get a de-fragmented frame, use `newframe = frame.copy()`\n",
      "  features_by_date[day,'7_days_ago_10_00']=num_people_by_date.loc[day-time_delta,'num_people_at_10_00']\n",
      "C:\\Users\\mefl\\AppData\\Local\\Temp\\ipykernel_11736\\735385191.py:17: PerformanceWarning: DataFrame is highly fragmented.  This is usually the result of calling `frame.insert` many times, which has poor performance.  Consider joining all columns at once using pd.concat(axis=1) instead. To get a de-fragmented frame, use `newframe = frame.copy()`\n",
      "  features_by_date[day,'7_days_ago_10_00']=num_people_by_date.loc[day-time_delta,'num_people_at_10_00']\n",
      "C:\\Users\\mefl\\AppData\\Local\\Temp\\ipykernel_11736\\735385191.py:17: PerformanceWarning: DataFrame is highly fragmented.  This is usually the result of calling `frame.insert` many times, which has poor performance.  Consider joining all columns at once using pd.concat(axis=1) instead. To get a de-fragmented frame, use `newframe = frame.copy()`\n",
      "  features_by_date[day,'7_days_ago_10_00']=num_people_by_date.loc[day-time_delta,'num_people_at_10_00']\n",
      "C:\\Users\\mefl\\AppData\\Local\\Temp\\ipykernel_11736\\735385191.py:17: PerformanceWarning: DataFrame is highly fragmented.  This is usually the result of calling `frame.insert` many times, which has poor performance.  Consider joining all columns at once using pd.concat(axis=1) instead. To get a de-fragmented frame, use `newframe = frame.copy()`\n",
      "  features_by_date[day,'7_days_ago_10_00']=num_people_by_date.loc[day-time_delta,'num_people_at_10_00']\n",
      "C:\\Users\\mefl\\AppData\\Local\\Temp\\ipykernel_11736\\735385191.py:17: PerformanceWarning: DataFrame is highly fragmented.  This is usually the result of calling `frame.insert` many times, which has poor performance.  Consider joining all columns at once using pd.concat(axis=1) instead. To get a de-fragmented frame, use `newframe = frame.copy()`\n",
      "  features_by_date[day,'7_days_ago_10_00']=num_people_by_date.loc[day-time_delta,'num_people_at_10_00']\n",
      "C:\\Users\\mefl\\AppData\\Local\\Temp\\ipykernel_11736\\735385191.py:17: PerformanceWarning: DataFrame is highly fragmented.  This is usually the result of calling `frame.insert` many times, which has poor performance.  Consider joining all columns at once using pd.concat(axis=1) instead. To get a de-fragmented frame, use `newframe = frame.copy()`\n",
      "  features_by_date[day,'7_days_ago_10_00']=num_people_by_date.loc[day-time_delta,'num_people_at_10_00']\n",
      "C:\\Users\\mefl\\AppData\\Local\\Temp\\ipykernel_11736\\735385191.py:17: PerformanceWarning: DataFrame is highly fragmented.  This is usually the result of calling `frame.insert` many times, which has poor performance.  Consider joining all columns at once using pd.concat(axis=1) instead. To get a de-fragmented frame, use `newframe = frame.copy()`\n",
      "  features_by_date[day,'7_days_ago_10_00']=num_people_by_date.loc[day-time_delta,'num_people_at_10_00']\n",
      "C:\\Users\\mefl\\AppData\\Local\\Temp\\ipykernel_11736\\735385191.py:17: PerformanceWarning: DataFrame is highly fragmented.  This is usually the result of calling `frame.insert` many times, which has poor performance.  Consider joining all columns at once using pd.concat(axis=1) instead. To get a de-fragmented frame, use `newframe = frame.copy()`\n",
      "  features_by_date[day,'7_days_ago_10_00']=num_people_by_date.loc[day-time_delta,'num_people_at_10_00']\n",
      "C:\\Users\\mefl\\AppData\\Local\\Temp\\ipykernel_11736\\735385191.py:17: PerformanceWarning: DataFrame is highly fragmented.  This is usually the result of calling `frame.insert` many times, which has poor performance.  Consider joining all columns at once using pd.concat(axis=1) instead. To get a de-fragmented frame, use `newframe = frame.copy()`\n",
      "  features_by_date[day,'7_days_ago_10_00']=num_people_by_date.loc[day-time_delta,'num_people_at_10_00']\n",
      "C:\\Users\\mefl\\AppData\\Local\\Temp\\ipykernel_11736\\735385191.py:17: PerformanceWarning: DataFrame is highly fragmented.  This is usually the result of calling `frame.insert` many times, which has poor performance.  Consider joining all columns at once using pd.concat(axis=1) instead. To get a de-fragmented frame, use `newframe = frame.copy()`\n",
      "  features_by_date[day,'7_days_ago_10_00']=num_people_by_date.loc[day-time_delta,'num_people_at_10_00']\n",
      "C:\\Users\\mefl\\AppData\\Local\\Temp\\ipykernel_11736\\735385191.py:17: PerformanceWarning: DataFrame is highly fragmented.  This is usually the result of calling `frame.insert` many times, which has poor performance.  Consider joining all columns at once using pd.concat(axis=1) instead. To get a de-fragmented frame, use `newframe = frame.copy()`\n",
      "  features_by_date[day,'7_days_ago_10_00']=num_people_by_date.loc[day-time_delta,'num_people_at_10_00']\n",
      "C:\\Users\\mefl\\AppData\\Local\\Temp\\ipykernel_11736\\735385191.py:17: PerformanceWarning: DataFrame is highly fragmented.  This is usually the result of calling `frame.insert` many times, which has poor performance.  Consider joining all columns at once using pd.concat(axis=1) instead. To get a de-fragmented frame, use `newframe = frame.copy()`\n",
      "  features_by_date[day,'7_days_ago_10_00']=num_people_by_date.loc[day-time_delta,'num_people_at_10_00']\n",
      "C:\\Users\\mefl\\AppData\\Local\\Temp\\ipykernel_11736\\735385191.py:17: PerformanceWarning: DataFrame is highly fragmented.  This is usually the result of calling `frame.insert` many times, which has poor performance.  Consider joining all columns at once using pd.concat(axis=1) instead. To get a de-fragmented frame, use `newframe = frame.copy()`\n",
      "  features_by_date[day,'7_days_ago_10_00']=num_people_by_date.loc[day-time_delta,'num_people_at_10_00']\n",
      "C:\\Users\\mefl\\AppData\\Local\\Temp\\ipykernel_11736\\735385191.py:17: PerformanceWarning: DataFrame is highly fragmented.  This is usually the result of calling `frame.insert` many times, which has poor performance.  Consider joining all columns at once using pd.concat(axis=1) instead. To get a de-fragmented frame, use `newframe = frame.copy()`\n",
      "  features_by_date[day,'7_days_ago_10_00']=num_people_by_date.loc[day-time_delta,'num_people_at_10_00']\n",
      "C:\\Users\\mefl\\AppData\\Local\\Temp\\ipykernel_11736\\735385191.py:17: PerformanceWarning: DataFrame is highly fragmented.  This is usually the result of calling `frame.insert` many times, which has poor performance.  Consider joining all columns at once using pd.concat(axis=1) instead. To get a de-fragmented frame, use `newframe = frame.copy()`\n",
      "  features_by_date[day,'7_days_ago_10_00']=num_people_by_date.loc[day-time_delta,'num_people_at_10_00']\n",
      "C:\\Users\\mefl\\AppData\\Local\\Temp\\ipykernel_11736\\735385191.py:17: PerformanceWarning: DataFrame is highly fragmented.  This is usually the result of calling `frame.insert` many times, which has poor performance.  Consider joining all columns at once using pd.concat(axis=1) instead. To get a de-fragmented frame, use `newframe = frame.copy()`\n",
      "  features_by_date[day,'7_days_ago_10_00']=num_people_by_date.loc[day-time_delta,'num_people_at_10_00']\n",
      "C:\\Users\\mefl\\AppData\\Local\\Temp\\ipykernel_11736\\735385191.py:17: PerformanceWarning: DataFrame is highly fragmented.  This is usually the result of calling `frame.insert` many times, which has poor performance.  Consider joining all columns at once using pd.concat(axis=1) instead. To get a de-fragmented frame, use `newframe = frame.copy()`\n",
      "  features_by_date[day,'7_days_ago_10_00']=num_people_by_date.loc[day-time_delta,'num_people_at_10_00']\n",
      "C:\\Users\\mefl\\AppData\\Local\\Temp\\ipykernel_11736\\735385191.py:17: PerformanceWarning: DataFrame is highly fragmented.  This is usually the result of calling `frame.insert` many times, which has poor performance.  Consider joining all columns at once using pd.concat(axis=1) instead. To get a de-fragmented frame, use `newframe = frame.copy()`\n",
      "  features_by_date[day,'7_days_ago_10_00']=num_people_by_date.loc[day-time_delta,'num_people_at_10_00']\n",
      "C:\\Users\\mefl\\AppData\\Local\\Temp\\ipykernel_11736\\735385191.py:17: PerformanceWarning: DataFrame is highly fragmented.  This is usually the result of calling `frame.insert` many times, which has poor performance.  Consider joining all columns at once using pd.concat(axis=1) instead. To get a de-fragmented frame, use `newframe = frame.copy()`\n",
      "  features_by_date[day,'7_days_ago_10_00']=num_people_by_date.loc[day-time_delta,'num_people_at_10_00']\n",
      "C:\\Users\\mefl\\AppData\\Local\\Temp\\ipykernel_11736\\735385191.py:17: PerformanceWarning: DataFrame is highly fragmented.  This is usually the result of calling `frame.insert` many times, which has poor performance.  Consider joining all columns at once using pd.concat(axis=1) instead. To get a de-fragmented frame, use `newframe = frame.copy()`\n",
      "  features_by_date[day,'7_days_ago_10_00']=num_people_by_date.loc[day-time_delta,'num_people_at_10_00']\n",
      "C:\\Users\\mefl\\AppData\\Local\\Temp\\ipykernel_11736\\735385191.py:17: PerformanceWarning: DataFrame is highly fragmented.  This is usually the result of calling `frame.insert` many times, which has poor performance.  Consider joining all columns at once using pd.concat(axis=1) instead. To get a de-fragmented frame, use `newframe = frame.copy()`\n",
      "  features_by_date[day,'7_days_ago_10_00']=num_people_by_date.loc[day-time_delta,'num_people_at_10_00']\n",
      "C:\\Users\\mefl\\AppData\\Local\\Temp\\ipykernel_11736\\735385191.py:17: PerformanceWarning: DataFrame is highly fragmented.  This is usually the result of calling `frame.insert` many times, which has poor performance.  Consider joining all columns at once using pd.concat(axis=1) instead. To get a de-fragmented frame, use `newframe = frame.copy()`\n",
      "  features_by_date[day,'7_days_ago_10_00']=num_people_by_date.loc[day-time_delta,'num_people_at_10_00']\n",
      "C:\\Users\\mefl\\AppData\\Local\\Temp\\ipykernel_11736\\735385191.py:17: PerformanceWarning: DataFrame is highly fragmented.  This is usually the result of calling `frame.insert` many times, which has poor performance.  Consider joining all columns at once using pd.concat(axis=1) instead. To get a de-fragmented frame, use `newframe = frame.copy()`\n",
      "  features_by_date[day,'7_days_ago_10_00']=num_people_by_date.loc[day-time_delta,'num_people_at_10_00']\n",
      "C:\\Users\\mefl\\AppData\\Local\\Temp\\ipykernel_11736\\735385191.py:17: PerformanceWarning: DataFrame is highly fragmented.  This is usually the result of calling `frame.insert` many times, which has poor performance.  Consider joining all columns at once using pd.concat(axis=1) instead. To get a de-fragmented frame, use `newframe = frame.copy()`\n",
      "  features_by_date[day,'7_days_ago_10_00']=num_people_by_date.loc[day-time_delta,'num_people_at_10_00']\n",
      "C:\\Users\\mefl\\AppData\\Local\\Temp\\ipykernel_11736\\735385191.py:17: PerformanceWarning: DataFrame is highly fragmented.  This is usually the result of calling `frame.insert` many times, which has poor performance.  Consider joining all columns at once using pd.concat(axis=1) instead. To get a de-fragmented frame, use `newframe = frame.copy()`\n",
      "  features_by_date[day,'7_days_ago_10_00']=num_people_by_date.loc[day-time_delta,'num_people_at_10_00']\n",
      "C:\\Users\\mefl\\AppData\\Local\\Temp\\ipykernel_11736\\735385191.py:17: PerformanceWarning: DataFrame is highly fragmented.  This is usually the result of calling `frame.insert` many times, which has poor performance.  Consider joining all columns at once using pd.concat(axis=1) instead. To get a de-fragmented frame, use `newframe = frame.copy()`\n",
      "  features_by_date[day,'7_days_ago_10_00']=num_people_by_date.loc[day-time_delta,'num_people_at_10_00']\n",
      "C:\\Users\\mefl\\AppData\\Local\\Temp\\ipykernel_11736\\735385191.py:17: PerformanceWarning: DataFrame is highly fragmented.  This is usually the result of calling `frame.insert` many times, which has poor performance.  Consider joining all columns at once using pd.concat(axis=1) instead. To get a de-fragmented frame, use `newframe = frame.copy()`\n",
      "  features_by_date[day,'7_days_ago_10_00']=num_people_by_date.loc[day-time_delta,'num_people_at_10_00']\n",
      "C:\\Users\\mefl\\AppData\\Local\\Temp\\ipykernel_11736\\735385191.py:17: PerformanceWarning: DataFrame is highly fragmented.  This is usually the result of calling `frame.insert` many times, which has poor performance.  Consider joining all columns at once using pd.concat(axis=1) instead. To get a de-fragmented frame, use `newframe = frame.copy()`\n",
      "  features_by_date[day,'7_days_ago_10_00']=num_people_by_date.loc[day-time_delta,'num_people_at_10_00']\n",
      "C:\\Users\\mefl\\AppData\\Local\\Temp\\ipykernel_11736\\735385191.py:17: PerformanceWarning: DataFrame is highly fragmented.  This is usually the result of calling `frame.insert` many times, which has poor performance.  Consider joining all columns at once using pd.concat(axis=1) instead. To get a de-fragmented frame, use `newframe = frame.copy()`\n",
      "  features_by_date[day,'7_days_ago_10_00']=num_people_by_date.loc[day-time_delta,'num_people_at_10_00']\n",
      "C:\\Users\\mefl\\AppData\\Local\\Temp\\ipykernel_11736\\735385191.py:17: PerformanceWarning: DataFrame is highly fragmented.  This is usually the result of calling `frame.insert` many times, which has poor performance.  Consider joining all columns at once using pd.concat(axis=1) instead. To get a de-fragmented frame, use `newframe = frame.copy()`\n",
      "  features_by_date[day,'7_days_ago_10_00']=num_people_by_date.loc[day-time_delta,'num_people_at_10_00']\n",
      "C:\\Users\\mefl\\AppData\\Local\\Temp\\ipykernel_11736\\735385191.py:17: PerformanceWarning: DataFrame is highly fragmented.  This is usually the result of calling `frame.insert` many times, which has poor performance.  Consider joining all columns at once using pd.concat(axis=1) instead. To get a de-fragmented frame, use `newframe = frame.copy()`\n",
      "  features_by_date[day,'7_days_ago_10_00']=num_people_by_date.loc[day-time_delta,'num_people_at_10_00']\n",
      "C:\\Users\\mefl\\AppData\\Local\\Temp\\ipykernel_11736\\735385191.py:17: PerformanceWarning: DataFrame is highly fragmented.  This is usually the result of calling `frame.insert` many times, which has poor performance.  Consider joining all columns at once using pd.concat(axis=1) instead. To get a de-fragmented frame, use `newframe = frame.copy()`\n",
      "  features_by_date[day,'7_days_ago_10_00']=num_people_by_date.loc[day-time_delta,'num_people_at_10_00']\n",
      "C:\\Users\\mefl\\AppData\\Local\\Temp\\ipykernel_11736\\735385191.py:17: PerformanceWarning: DataFrame is highly fragmented.  This is usually the result of calling `frame.insert` many times, which has poor performance.  Consider joining all columns at once using pd.concat(axis=1) instead. To get a de-fragmented frame, use `newframe = frame.copy()`\n",
      "  features_by_date[day,'7_days_ago_10_00']=num_people_by_date.loc[day-time_delta,'num_people_at_10_00']\n",
      "C:\\Users\\mefl\\AppData\\Local\\Temp\\ipykernel_11736\\735385191.py:17: PerformanceWarning: DataFrame is highly fragmented.  This is usually the result of calling `frame.insert` many times, which has poor performance.  Consider joining all columns at once using pd.concat(axis=1) instead. To get a de-fragmented frame, use `newframe = frame.copy()`\n",
      "  features_by_date[day,'7_days_ago_10_00']=num_people_by_date.loc[day-time_delta,'num_people_at_10_00']\n",
      "C:\\Users\\mefl\\AppData\\Local\\Temp\\ipykernel_11736\\735385191.py:17: PerformanceWarning: DataFrame is highly fragmented.  This is usually the result of calling `frame.insert` many times, which has poor performance.  Consider joining all columns at once using pd.concat(axis=1) instead. To get a de-fragmented frame, use `newframe = frame.copy()`\n",
      "  features_by_date[day,'7_days_ago_10_00']=num_people_by_date.loc[day-time_delta,'num_people_at_10_00']\n",
      "C:\\Users\\mefl\\AppData\\Local\\Temp\\ipykernel_11736\\735385191.py:17: PerformanceWarning: DataFrame is highly fragmented.  This is usually the result of calling `frame.insert` many times, which has poor performance.  Consider joining all columns at once using pd.concat(axis=1) instead. To get a de-fragmented frame, use `newframe = frame.copy()`\n",
      "  features_by_date[day,'7_days_ago_10_00']=num_people_by_date.loc[day-time_delta,'num_people_at_10_00']\n",
      "C:\\Users\\mefl\\AppData\\Local\\Temp\\ipykernel_11736\\735385191.py:17: PerformanceWarning: DataFrame is highly fragmented.  This is usually the result of calling `frame.insert` many times, which has poor performance.  Consider joining all columns at once using pd.concat(axis=1) instead. To get a de-fragmented frame, use `newframe = frame.copy()`\n",
      "  features_by_date[day,'7_days_ago_10_00']=num_people_by_date.loc[day-time_delta,'num_people_at_10_00']\n",
      "C:\\Users\\mefl\\AppData\\Local\\Temp\\ipykernel_11736\\735385191.py:17: PerformanceWarning: DataFrame is highly fragmented.  This is usually the result of calling `frame.insert` many times, which has poor performance.  Consider joining all columns at once using pd.concat(axis=1) instead. To get a de-fragmented frame, use `newframe = frame.copy()`\n",
      "  features_by_date[day,'7_days_ago_10_00']=num_people_by_date.loc[day-time_delta,'num_people_at_10_00']\n",
      "C:\\Users\\mefl\\AppData\\Local\\Temp\\ipykernel_11736\\735385191.py:17: PerformanceWarning: DataFrame is highly fragmented.  This is usually the result of calling `frame.insert` many times, which has poor performance.  Consider joining all columns at once using pd.concat(axis=1) instead. To get a de-fragmented frame, use `newframe = frame.copy()`\n",
      "  features_by_date[day,'7_days_ago_10_00']=num_people_by_date.loc[day-time_delta,'num_people_at_10_00']\n",
      "C:\\Users\\mefl\\AppData\\Local\\Temp\\ipykernel_11736\\735385191.py:17: PerformanceWarning: DataFrame is highly fragmented.  This is usually the result of calling `frame.insert` many times, which has poor performance.  Consider joining all columns at once using pd.concat(axis=1) instead. To get a de-fragmented frame, use `newframe = frame.copy()`\n",
      "  features_by_date[day,'7_days_ago_10_00']=num_people_by_date.loc[day-time_delta,'num_people_at_10_00']\n",
      "C:\\Users\\mefl\\AppData\\Local\\Temp\\ipykernel_11736\\735385191.py:17: PerformanceWarning: DataFrame is highly fragmented.  This is usually the result of calling `frame.insert` many times, which has poor performance.  Consider joining all columns at once using pd.concat(axis=1) instead. To get a de-fragmented frame, use `newframe = frame.copy()`\n",
      "  features_by_date[day,'7_days_ago_10_00']=num_people_by_date.loc[day-time_delta,'num_people_at_10_00']\n",
      "C:\\Users\\mefl\\AppData\\Local\\Temp\\ipykernel_11736\\735385191.py:17: PerformanceWarning: DataFrame is highly fragmented.  This is usually the result of calling `frame.insert` many times, which has poor performance.  Consider joining all columns at once using pd.concat(axis=1) instead. To get a de-fragmented frame, use `newframe = frame.copy()`\n",
      "  features_by_date[day,'7_days_ago_10_00']=num_people_by_date.loc[day-time_delta,'num_people_at_10_00']\n",
      "C:\\Users\\mefl\\AppData\\Local\\Temp\\ipykernel_11736\\735385191.py:17: PerformanceWarning: DataFrame is highly fragmented.  This is usually the result of calling `frame.insert` many times, which has poor performance.  Consider joining all columns at once using pd.concat(axis=1) instead. To get a de-fragmented frame, use `newframe = frame.copy()`\n",
      "  features_by_date[day,'7_days_ago_10_00']=num_people_by_date.loc[day-time_delta,'num_people_at_10_00']\n",
      "C:\\Users\\mefl\\AppData\\Local\\Temp\\ipykernel_11736\\735385191.py:17: PerformanceWarning: DataFrame is highly fragmented.  This is usually the result of calling `frame.insert` many times, which has poor performance.  Consider joining all columns at once using pd.concat(axis=1) instead. To get a de-fragmented frame, use `newframe = frame.copy()`\n",
      "  features_by_date[day,'7_days_ago_10_00']=num_people_by_date.loc[day-time_delta,'num_people_at_10_00']\n",
      "C:\\Users\\mefl\\AppData\\Local\\Temp\\ipykernel_11736\\735385191.py:17: PerformanceWarning: DataFrame is highly fragmented.  This is usually the result of calling `frame.insert` many times, which has poor performance.  Consider joining all columns at once using pd.concat(axis=1) instead. To get a de-fragmented frame, use `newframe = frame.copy()`\n",
      "  features_by_date[day,'7_days_ago_10_00']=num_people_by_date.loc[day-time_delta,'num_people_at_10_00']\n",
      "C:\\Users\\mefl\\AppData\\Local\\Temp\\ipykernel_11736\\735385191.py:17: PerformanceWarning: DataFrame is highly fragmented.  This is usually the result of calling `frame.insert` many times, which has poor performance.  Consider joining all columns at once using pd.concat(axis=1) instead. To get a de-fragmented frame, use `newframe = frame.copy()`\n",
      "  features_by_date[day,'7_days_ago_10_00']=num_people_by_date.loc[day-time_delta,'num_people_at_10_00']\n",
      "C:\\Users\\mefl\\AppData\\Local\\Temp\\ipykernel_11736\\735385191.py:17: PerformanceWarning: DataFrame is highly fragmented.  This is usually the result of calling `frame.insert` many times, which has poor performance.  Consider joining all columns at once using pd.concat(axis=1) instead. To get a de-fragmented frame, use `newframe = frame.copy()`\n",
      "  features_by_date[day,'7_days_ago_10_00']=num_people_by_date.loc[day-time_delta,'num_people_at_10_00']\n",
      "C:\\Users\\mefl\\AppData\\Local\\Temp\\ipykernel_11736\\735385191.py:17: PerformanceWarning: DataFrame is highly fragmented.  This is usually the result of calling `frame.insert` many times, which has poor performance.  Consider joining all columns at once using pd.concat(axis=1) instead. To get a de-fragmented frame, use `newframe = frame.copy()`\n",
      "  features_by_date[day,'7_days_ago_10_00']=num_people_by_date.loc[day-time_delta,'num_people_at_10_00']\n",
      "C:\\Users\\mefl\\AppData\\Local\\Temp\\ipykernel_11736\\735385191.py:17: PerformanceWarning: DataFrame is highly fragmented.  This is usually the result of calling `frame.insert` many times, which has poor performance.  Consider joining all columns at once using pd.concat(axis=1) instead. To get a de-fragmented frame, use `newframe = frame.copy()`\n",
      "  features_by_date[day,'7_days_ago_10_00']=num_people_by_date.loc[day-time_delta,'num_people_at_10_00']\n",
      "C:\\Users\\mefl\\AppData\\Local\\Temp\\ipykernel_11736\\735385191.py:17: PerformanceWarning: DataFrame is highly fragmented.  This is usually the result of calling `frame.insert` many times, which has poor performance.  Consider joining all columns at once using pd.concat(axis=1) instead. To get a de-fragmented frame, use `newframe = frame.copy()`\n",
      "  features_by_date[day,'7_days_ago_10_00']=num_people_by_date.loc[day-time_delta,'num_people_at_10_00']\n",
      "C:\\Users\\mefl\\AppData\\Local\\Temp\\ipykernel_11736\\735385191.py:17: PerformanceWarning: DataFrame is highly fragmented.  This is usually the result of calling `frame.insert` many times, which has poor performance.  Consider joining all columns at once using pd.concat(axis=1) instead. To get a de-fragmented frame, use `newframe = frame.copy()`\n",
      "  features_by_date[day,'7_days_ago_10_00']=num_people_by_date.loc[day-time_delta,'num_people_at_10_00']\n",
      "C:\\Users\\mefl\\AppData\\Local\\Temp\\ipykernel_11736\\735385191.py:17: PerformanceWarning: DataFrame is highly fragmented.  This is usually the result of calling `frame.insert` many times, which has poor performance.  Consider joining all columns at once using pd.concat(axis=1) instead. To get a de-fragmented frame, use `newframe = frame.copy()`\n",
      "  features_by_date[day,'7_days_ago_10_00']=num_people_by_date.loc[day-time_delta,'num_people_at_10_00']\n",
      "C:\\Users\\mefl\\AppData\\Local\\Temp\\ipykernel_11736\\735385191.py:17: PerformanceWarning: DataFrame is highly fragmented.  This is usually the result of calling `frame.insert` many times, which has poor performance.  Consider joining all columns at once using pd.concat(axis=1) instead. To get a de-fragmented frame, use `newframe = frame.copy()`\n",
      "  features_by_date[day,'7_days_ago_10_00']=num_people_by_date.loc[day-time_delta,'num_people_at_10_00']\n",
      "C:\\Users\\mefl\\AppData\\Local\\Temp\\ipykernel_11736\\735385191.py:17: PerformanceWarning: DataFrame is highly fragmented.  This is usually the result of calling `frame.insert` many times, which has poor performance.  Consider joining all columns at once using pd.concat(axis=1) instead. To get a de-fragmented frame, use `newframe = frame.copy()`\n",
      "  features_by_date[day,'7_days_ago_10_00']=num_people_by_date.loc[day-time_delta,'num_people_at_10_00']\n",
      "C:\\Users\\mefl\\AppData\\Local\\Temp\\ipykernel_11736\\735385191.py:17: PerformanceWarning: DataFrame is highly fragmented.  This is usually the result of calling `frame.insert` many times, which has poor performance.  Consider joining all columns at once using pd.concat(axis=1) instead. To get a de-fragmented frame, use `newframe = frame.copy()`\n",
      "  features_by_date[day,'7_days_ago_10_00']=num_people_by_date.loc[day-time_delta,'num_people_at_10_00']\n",
      "C:\\Users\\mefl\\AppData\\Local\\Temp\\ipykernel_11736\\735385191.py:17: PerformanceWarning: DataFrame is highly fragmented.  This is usually the result of calling `frame.insert` many times, which has poor performance.  Consider joining all columns at once using pd.concat(axis=1) instead. To get a de-fragmented frame, use `newframe = frame.copy()`\n",
      "  features_by_date[day,'7_days_ago_10_00']=num_people_by_date.loc[day-time_delta,'num_people_at_10_00']\n",
      "C:\\Users\\mefl\\AppData\\Local\\Temp\\ipykernel_11736\\735385191.py:17: PerformanceWarning: DataFrame is highly fragmented.  This is usually the result of calling `frame.insert` many times, which has poor performance.  Consider joining all columns at once using pd.concat(axis=1) instead. To get a de-fragmented frame, use `newframe = frame.copy()`\n",
      "  features_by_date[day,'7_days_ago_10_00']=num_people_by_date.loc[day-time_delta,'num_people_at_10_00']\n",
      "C:\\Users\\mefl\\AppData\\Local\\Temp\\ipykernel_11736\\735385191.py:17: PerformanceWarning: DataFrame is highly fragmented.  This is usually the result of calling `frame.insert` many times, which has poor performance.  Consider joining all columns at once using pd.concat(axis=1) instead. To get a de-fragmented frame, use `newframe = frame.copy()`\n",
      "  features_by_date[day,'7_days_ago_10_00']=num_people_by_date.loc[day-time_delta,'num_people_at_10_00']\n",
      "C:\\Users\\mefl\\AppData\\Local\\Temp\\ipykernel_11736\\735385191.py:17: PerformanceWarning: DataFrame is highly fragmented.  This is usually the result of calling `frame.insert` many times, which has poor performance.  Consider joining all columns at once using pd.concat(axis=1) instead. To get a de-fragmented frame, use `newframe = frame.copy()`\n",
      "  features_by_date[day,'7_days_ago_10_00']=num_people_by_date.loc[day-time_delta,'num_people_at_10_00']\n",
      "C:\\Users\\mefl\\AppData\\Local\\Temp\\ipykernel_11736\\735385191.py:17: PerformanceWarning: DataFrame is highly fragmented.  This is usually the result of calling `frame.insert` many times, which has poor performance.  Consider joining all columns at once using pd.concat(axis=1) instead. To get a de-fragmented frame, use `newframe = frame.copy()`\n",
      "  features_by_date[day,'7_days_ago_10_00']=num_people_by_date.loc[day-time_delta,'num_people_at_10_00']\n",
      "C:\\Users\\mefl\\AppData\\Local\\Temp\\ipykernel_11736\\735385191.py:17: PerformanceWarning: DataFrame is highly fragmented.  This is usually the result of calling `frame.insert` many times, which has poor performance.  Consider joining all columns at once using pd.concat(axis=1) instead. To get a de-fragmented frame, use `newframe = frame.copy()`\n",
      "  features_by_date[day,'7_days_ago_10_00']=num_people_by_date.loc[day-time_delta,'num_people_at_10_00']\n",
      "C:\\Users\\mefl\\AppData\\Local\\Temp\\ipykernel_11736\\735385191.py:17: PerformanceWarning: DataFrame is highly fragmented.  This is usually the result of calling `frame.insert` many times, which has poor performance.  Consider joining all columns at once using pd.concat(axis=1) instead. To get a de-fragmented frame, use `newframe = frame.copy()`\n",
      "  features_by_date[day,'7_days_ago_10_00']=num_people_by_date.loc[day-time_delta,'num_people_at_10_00']\n",
      "C:\\Users\\mefl\\AppData\\Local\\Temp\\ipykernel_11736\\735385191.py:17: PerformanceWarning: DataFrame is highly fragmented.  This is usually the result of calling `frame.insert` many times, which has poor performance.  Consider joining all columns at once using pd.concat(axis=1) instead. To get a de-fragmented frame, use `newframe = frame.copy()`\n",
      "  features_by_date[day,'7_days_ago_10_00']=num_people_by_date.loc[day-time_delta,'num_people_at_10_00']\n",
      "C:\\Users\\mefl\\AppData\\Local\\Temp\\ipykernel_11736\\735385191.py:17: PerformanceWarning: DataFrame is highly fragmented.  This is usually the result of calling `frame.insert` many times, which has poor performance.  Consider joining all columns at once using pd.concat(axis=1) instead. To get a de-fragmented frame, use `newframe = frame.copy()`\n",
      "  features_by_date[day,'7_days_ago_10_00']=num_people_by_date.loc[day-time_delta,'num_people_at_10_00']\n",
      "C:\\Users\\mefl\\AppData\\Local\\Temp\\ipykernel_11736\\735385191.py:17: PerformanceWarning: DataFrame is highly fragmented.  This is usually the result of calling `frame.insert` many times, which has poor performance.  Consider joining all columns at once using pd.concat(axis=1) instead. To get a de-fragmented frame, use `newframe = frame.copy()`\n",
      "  features_by_date[day,'7_days_ago_10_00']=num_people_by_date.loc[day-time_delta,'num_people_at_10_00']\n",
      "C:\\Users\\mefl\\AppData\\Local\\Temp\\ipykernel_11736\\735385191.py:17: PerformanceWarning: DataFrame is highly fragmented.  This is usually the result of calling `frame.insert` many times, which has poor performance.  Consider joining all columns at once using pd.concat(axis=1) instead. To get a de-fragmented frame, use `newframe = frame.copy()`\n",
      "  features_by_date[day,'7_days_ago_10_00']=num_people_by_date.loc[day-time_delta,'num_people_at_10_00']\n"
     ]
    },
    {
     "ename": "ValueError",
     "evalue": "No axis named 2022-05-23 for object type DataFrame",
     "output_type": "error",
     "traceback": [
      "\u001B[1;31m---------------------------------------------------------------------------\u001B[0m",
      "\u001B[1;31mKeyError\u001B[0m                                  Traceback (most recent call last)",
      "File \u001B[1;32m~\\AppData\\Local\\pypoetry\\Cache\\virtualenvs\\food-saving-showcase-ocOVEVjy-py3.10\\lib\\site-packages\\pandas\\core\\generic.py:554\u001B[0m, in \u001B[0;36mNDFrame._get_axis_number\u001B[1;34m(cls, axis)\u001B[0m\n\u001B[0;32m    553\u001B[0m \u001B[38;5;28;01mtry\u001B[39;00m:\n\u001B[1;32m--> 554\u001B[0m     \u001B[38;5;28;01mreturn\u001B[39;00m \u001B[38;5;28;43mcls\u001B[39;49m\u001B[38;5;241;43m.\u001B[39;49m\u001B[43m_AXIS_TO_AXIS_NUMBER\u001B[49m\u001B[43m[\u001B[49m\u001B[43maxis\u001B[49m\u001B[43m]\u001B[49m\n\u001B[0;32m    555\u001B[0m \u001B[38;5;28;01mexcept\u001B[39;00m \u001B[38;5;167;01mKeyError\u001B[39;00m:\n",
      "\u001B[1;31mKeyError\u001B[0m: datetime.date(2022, 5, 23)",
      "\nDuring handling of the above exception, another exception occurred:\n",
      "\u001B[1;31mValueError\u001B[0m                                Traceback (most recent call last)",
      "Cell \u001B[1;32mIn[6], line 20\u001B[0m\n\u001B[0;32m     18\u001B[0m     \u001B[38;5;28;01mexcept\u001B[39;00m \u001B[38;5;167;01mKeyError\u001B[39;00m:\n\u001B[0;32m     19\u001B[0m         features_by_date[day,\u001B[38;5;124m'\u001B[39m\u001B[38;5;124m7_days_ago_10_00\u001B[39m\u001B[38;5;124m'\u001B[39m]\u001B[38;5;241m=\u001B[39m\u001B[38;5;28mfloat\u001B[39m(\u001B[38;5;124m'\u001B[39m\u001B[38;5;124mnan\u001B[39m\u001B[38;5;124m'\u001B[39m)\n\u001B[1;32m---> 20\u001B[0m \u001B[43mfeatures_by_date\u001B[49m\u001B[38;5;241;43m.\u001B[39;49m\u001B[43miloc\u001B[49m\u001B[43m(\u001B[49m\u001B[43mexample_date\u001B[49m\u001B[43m)\u001B[49m\n",
      "File \u001B[1;32m~\\AppData\\Local\\pypoetry\\Cache\\virtualenvs\\food-saving-showcase-ocOVEVjy-py3.10\\lib\\site-packages\\pandas\\core\\indexing.py:668\u001B[0m, in \u001B[0;36m_LocationIndexer.__call__\u001B[1;34m(self, axis)\u001B[0m\n\u001B[0;32m    665\u001B[0m new_self \u001B[38;5;241m=\u001B[39m \u001B[38;5;28mtype\u001B[39m(\u001B[38;5;28mself\u001B[39m)(\u001B[38;5;28mself\u001B[39m\u001B[38;5;241m.\u001B[39mname, \u001B[38;5;28mself\u001B[39m\u001B[38;5;241m.\u001B[39mobj)\n\u001B[0;32m    667\u001B[0m \u001B[38;5;28;01mif\u001B[39;00m axis \u001B[38;5;129;01mis\u001B[39;00m \u001B[38;5;129;01mnot\u001B[39;00m \u001B[38;5;28;01mNone\u001B[39;00m:\n\u001B[1;32m--> 668\u001B[0m     axis \u001B[38;5;241m=\u001B[39m \u001B[38;5;28;43mself\u001B[39;49m\u001B[38;5;241;43m.\u001B[39;49m\u001B[43mobj\u001B[49m\u001B[38;5;241;43m.\u001B[39;49m\u001B[43m_get_axis_number\u001B[49m\u001B[43m(\u001B[49m\u001B[43maxis\u001B[49m\u001B[43m)\u001B[49m\n\u001B[0;32m    669\u001B[0m new_self\u001B[38;5;241m.\u001B[39maxis \u001B[38;5;241m=\u001B[39m axis\n\u001B[0;32m    670\u001B[0m \u001B[38;5;28;01mreturn\u001B[39;00m new_self\n",
      "File \u001B[1;32m~\\AppData\\Local\\pypoetry\\Cache\\virtualenvs\\food-saving-showcase-ocOVEVjy-py3.10\\lib\\site-packages\\pandas\\core\\generic.py:556\u001B[0m, in \u001B[0;36mNDFrame._get_axis_number\u001B[1;34m(cls, axis)\u001B[0m\n\u001B[0;32m    554\u001B[0m     \u001B[38;5;28;01mreturn\u001B[39;00m \u001B[38;5;28mcls\u001B[39m\u001B[38;5;241m.\u001B[39m_AXIS_TO_AXIS_NUMBER[axis]\n\u001B[0;32m    555\u001B[0m \u001B[38;5;28;01mexcept\u001B[39;00m \u001B[38;5;167;01mKeyError\u001B[39;00m:\n\u001B[1;32m--> 556\u001B[0m     \u001B[38;5;28;01mraise\u001B[39;00m \u001B[38;5;167;01mValueError\u001B[39;00m(\u001B[38;5;124mf\u001B[39m\u001B[38;5;124m\"\u001B[39m\u001B[38;5;124mNo axis named \u001B[39m\u001B[38;5;132;01m{\u001B[39;00maxis\u001B[38;5;132;01m}\u001B[39;00m\u001B[38;5;124m for object type \u001B[39m\u001B[38;5;132;01m{\u001B[39;00m\u001B[38;5;28mcls\u001B[39m\u001B[38;5;241m.\u001B[39m\u001B[38;5;18m__name__\u001B[39m\u001B[38;5;132;01m}\u001B[39;00m\u001B[38;5;124m\"\u001B[39m)\n",
      "\u001B[1;31mValueError\u001B[0m: No axis named 2022-05-23 for object type DataFrame"
     ]
    }
   ],
   "source": [
    "numeric_time=12.33\n",
    "num_people_by_date=pd.DataFrame(index=date_list_all)\n",
    "num_people_by_date['num_people_at_12_33']=df.loc[df['time_numeric']==12.33][['num_people_inside','date']].set_index('date')\n",
    "#num_people_by_date.rename({'num_people_inside':'num_people_inside_0_12_33'}, axis=1)\n",
    "example_date=date(year=2022, month=5, day=23)\n",
    "num_people_by_date.loc[example_date][0]\n",
    "num_people_by_date['num_people_at_10_00']=df.loc[df['time_numeric']==10.00][['num_people_inside','date']].set_index('date')\n",
    "num_people_by_date['difference_10_and_12']=num_people_by_date.apply(lambda row: row['num_people_at_10_00']-row['num_people_at_12_33'], axis=1)\n",
    "num_people_by_date['normalized_difference_10_and_12']=num_people_by_date.apply(lambda row: row['difference_10_and_12']/ row['num_people_at_10_00'], axis=1)\n",
    "labels_by_date=num_people_by_date['num_people_at_12_33']\n",
    "features_by_date=pd.DataFrame(index=date_list_all, columns=['num_people_0_10_00', '7_days_ago_10_00', '7_days_ago_norm_dif'])\n",
    "features_by_date['num_people_0_10_00']= num_people_by_date['num_people_at_10_00']\n",
    "\n",
    "for day in date_list_all:\n",
    "    time_delta=timedelta(days=7)\n",
    "    try:\n",
    "        features_by_date[day,'7_days_ago_10_00']=num_people_by_date.loc[day-time_delta,'num_people_at_10_00']\n",
    "    except KeyError:\n",
    "        features_by_date[day,'7_days_ago_10_00']=float('nan')\n",
    "features_by_date.iloc(example_date)"
   ],
   "metadata": {
    "collapsed": false
   }
  },
  {
   "cell_type": "code",
   "execution_count": null,
   "outputs": [],
   "source": [
    "features_by_date.loc[example_date,'num_people_7_10_00']"
   ],
   "metadata": {
    "collapsed": false
   }
  },
  {
   "cell_type": "code",
   "execution_count": 5,
   "outputs": [
    {
     "data": {
      "text/plain": "float"
     },
     "execution_count": 5,
     "metadata": {},
     "output_type": "execute_result"
    }
   ],
   "source": [
    "type(float('nan'))"
   ],
   "metadata": {
    "collapsed": false
   }
  },
  {
   "cell_type": "code",
   "execution_count": 11,
   "outputs": [
    {
     "ename": "AttributeError",
     "evalue": "'str' object has no attribute 'append'",
     "output_type": "error",
     "traceback": [
      "\u001B[1;31m---------------------------------------------------------------------------\u001B[0m",
      "\u001B[1;31mAttributeError\u001B[0m                            Traceback (most recent call last)",
      "Cell \u001B[1;32mIn[11], line 1\u001B[0m\n\u001B[1;32m----> 1\u001B[0m \u001B[38;5;28;43mstr\u001B[39;49m\u001B[43m(\u001B[49m\u001B[38;5;241;43m4\u001B[39;49m\u001B[43m)\u001B[49m\u001B[38;5;241;43m.\u001B[39;49m\u001B[43mappend\u001B[49m(\u001B[38;5;124m'\u001B[39m\u001B[38;5;124masdfa\u001B[39m\u001B[38;5;124m'\u001B[39m)\n",
      "\u001B[1;31mAttributeError\u001B[0m: 'str' object has no attribute 'append'"
     ]
    }
   ],
   "source": [],
   "metadata": {
    "collapsed": false
   }
  },
  {
   "cell_type": "code",
   "execution_count": null,
   "outputs": [],
   "source": [
    "ex_frame=pd.DataFrame({'a':[0,3,4], 'b':[7,4,4]})\n",
    "ex_frame.rename({'a':'c', 'b':'e'}, axis=1)"
   ],
   "metadata": {
    "collapsed": false
   }
  },
  {
   "cell_type": "code",
   "execution_count": null,
   "outputs": [],
   "source": [
    "{'a':1,'b':2}"
   ],
   "metadata": {
    "collapsed": false
   }
  },
  {
   "cell_type": "code",
   "execution_count": null,
   "outputs": [],
   "source": [
    "for group, frame in df.groupby('date'):\n",
    "    if group==date(year=2022,month=3,day=5):\n",
    "        example_frame=frame\n",
    "#example_frame[example_frame['time_numeric']==12.33]['num_people_inside'].iloc[0]\n",
    "\n",
    "\n",
    "def get_function_num_people_inside_at(numeric_time):\n",
    "    def func(dataframe):\n",
    "        print(dataframe)\n",
    "        return dataframe[dataframe['time_numeric']==numeric_time]['num_people_inside'].iloc[0]\n",
    "    return func\n",
    "\n",
    "# test function\n",
    "func=get_function_num_people_inside_at(10.00)\n",
    "assert func(example_frame) == 0\n",
    "\n",
    "df.groupby('date').aggregate(func=get_function_num_people_inside_at(10.00))"
   ],
   "metadata": {
    "collapsed": false
   }
  },
  {
   "cell_type": "code",
   "execution_count": null,
   "outputs": [],
   "source": [
    "#create a dataframe for monday"
   ],
   "metadata": {
    "collapsed": false
   }
  },
  {
   "cell_type": "code",
   "execution_count": null,
   "outputs": [],
   "source": [
    "df_monday=df[(df['time_numeric']==12.33)&(df['num_people_inside']>20)&(df['weekday']=='Monday')][['date', 'zurich_datetime', 'num_people_inside', 'weekday']].copy"
   ],
   "metadata": {
    "collapsed": false
   }
  },
  {
   "cell_type": "code",
   "execution_count": null,
   "outputs": [],
   "source": [
    "ex_date=date(year=2022,month=9,day=23)\n",
    "num_past_days_to_consider=4\n",
    "[ex_date- timedelta(days=7*i) for i in list(range(1,num_past_days_to_consider+1))]\n",
    "df[df['date'].isin([ex_date- timedelta(days=7*i) for i in list(range(1,num_past_days_to_consider+1))])]"
   ],
   "metadata": {
    "collapsed": false
   }
  },
  {
   "cell_type": "code",
   "execution_count": null,
   "outputs": [],
   "source": [
    "#create date list\n"
   ],
   "metadata": {
    "collapsed": false
   }
  },
  {
   "cell_type": "code",
   "execution_count": null,
   "outputs": [],
   "source": [
    "df.groupby(['weekday','time'])['num_people_inside'].aggregate([np.mean, np.std])"
   ],
   "metadata": {
    "collapsed": false
   }
  },
  {
   "cell_type": "code",
   "execution_count": null,
   "outputs": [],
   "source": [
    "df[df['weekday'].isin(['Monday'])].groupby('time')['num_people_inside'].aggregate([np.mean, np.std])"
   ],
   "metadata": {
    "collapsed": false
   }
  },
  {
   "cell_type": "code",
   "execution_count": null,
   "outputs": [],
   "source": [
    "weekday='Monday'\n",
    "mean_values=df[df['weekday'].isin([weekday])].groupby('time')['num_people_inside'].aggregate([np.mean])\n",
    "std_values=df[df['weekday'].isin([weekday])].groupby('time')['num_people_inside'].aggregate([np.std])\n",
    "quantile_90=df[df['weekday'].isin([weekday])].groupby('time')['num_people_inside'].aggregate(np.percentile,q=90)\n",
    "quantile_10=df[df['weekday'].isin([weekday])].groupby('time')['num_people_inside'].aggregate(np.percentile,q=10)\n",
    "quantile_75=df[df['weekday'].isin([weekday])].groupby('time')['num_people_inside'].aggregate(np.percentile,q=75)\n",
    "quantile_25=df[df['weekday'].isin([weekday])].groupby('time')['num_people_inside'].aggregate(np.percentile,q=25)\n"
   ],
   "metadata": {
    "collapsed": false
   }
  },
  {
   "cell_type": "code",
   "execution_count": null,
   "outputs": [],
   "source": [
    "import matplotlib.pyplot as plt\n",
    "\n",
    "plt.plot(mean_values)\n",
    "plt.plot(quantile_90)\n",
    "plt.plot(quantile_10)\n",
    "plt.plot(quantile_75)\n",
    "plt.plot(quantile_25)\n",
    "plt.legend(['mean_values', 'quantile_90', 'quantile_10', 'quantile_75', 'quantile_25'])"
   ],
   "metadata": {
    "collapsed": false
   }
  },
  {
   "cell_type": "code",
   "execution_count": null,
   "outputs": [],
   "source": [
    "std_values"
   ],
   "metadata": {
    "collapsed": false
   }
  },
  {
   "cell_type": "code",
   "execution_count": null,
   "outputs": [],
   "source": [
    "mean_values"
   ],
   "metadata": {
    "collapsed": false
   }
  },
  {
   "cell_type": "code",
   "execution_count": null,
   "outputs": [],
   "source": [
    "type(mean_values['mean'])"
   ],
   "metadata": {
    "collapsed": false
   }
  },
  {
   "cell_type": "code",
   "execution_count": null,
   "outputs": [],
   "source": [],
   "metadata": {
    "collapsed": false
   }
  }
 ],
 "metadata": {
  "kernelspec": {
   "display_name": "Python 3",
   "language": "python",
   "name": "python3"
  },
  "language_info": {
   "codemirror_mode": {
    "name": "ipython",
    "version": 2
   },
   "file_extension": ".py",
   "mimetype": "text/x-python",
   "name": "python",
   "nbconvert_exporter": "python",
   "pygments_lexer": "ipython2",
   "version": "2.7.6"
  }
 },
 "nbformat": 4,
 "nbformat_minor": 0
}
