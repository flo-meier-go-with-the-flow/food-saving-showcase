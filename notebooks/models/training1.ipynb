{
 "cells": [
  {
   "cell_type": "code",
   "execution_count": 30,
   "metadata": {
    "collapsed": true
   },
   "outputs": [],
   "source": [
    "import pandas as pd\n",
    "import numpy as np\n",
    "import os\n",
    "import matplotlib as mpl\n",
    "import matplotlib.pyplot as plt\n",
    "from datetime import date, timedelta\n",
    "from sklearn.metrics import mean_squared_error, mean_absolute_error, r2_score\n",
    "from sklearn.model_selection import train_test_split\n",
    "from sklearn.linear_model import ElasticNet\n",
    "import mlflow.sklearn\n",
    "from sklearn.pipeline import Pipeline\n",
    "from sklearn.preprocessing import StandardScaler\n",
    "from hyperopt import fmin, hp, tpe, Trials, space_eval, STATUS_OK\n",
    "from sklearn.impute import SimpleImputer\n",
    "from sklearn.compose import ColumnTransformer\n",
    "from sklearn.preprocessing import OneHotEncoder\n",
    "from sklearn.compose import ColumnTransformer\n",
    "\n",
    "def eval_metrics(actual, pred):\n",
    "    rmse = np.sqrt(mean_squared_error(actual, pred))\n",
    "    mae = mean_absolute_error(actual, pred)\n",
    "    r2 = r2_score(actual, pred)\n",
    "    return rmse, mae, r2\n",
    "\n",
    "\n",
    "def objective(params):\n",
    "    #alpha=params[0]\n",
    "    #l1_ratio=params[1]\n",
    "    (rmse, mae, r2) = train_model(**params)\n",
    "    return {'loss': rmse, 'status': STATUS_OK}\n",
    "\n",
    "def train_model(alpha,l1_ratio):\n",
    "    num_pipe = Pipeline([\n",
    "        ('imputer', SimpleImputer(strategy=\"median\")),\n",
    "        ('scaler', StandardScaler())\n",
    "    ])\n",
    "    full_pipeline = ColumnTransformer([\n",
    "        (\"num\", num_pipe, num_attribs),\n",
    "        (\"cat\", OneHotEncoder(), cat_attribs),\n",
    "    ])\n",
    "    pipe_estimator=Pipeline([\n",
    "        ('transformer',full_pipeline()),\n",
    "        ('estimator',ElasticNet(alpha=alpha, l1_ratio=l1_ratio, random_state=42))\n",
    "    ])\n",
    "    # lr = ElasticNet(alpha=alpha, l1_ratio=l1_ratio, random_state=42)\n",
    "    pipe_estimator.fit(train_x, train_y)\n",
    "    predicted_qualities = pipe.predict(test_x)\n",
    "    return eval_metrics(test_y, predicted_qualities)\n"
   ]
  },
  {
   "cell_type": "code",
   "execution_count": 34,
   "outputs": [
    {
     "data": {
      "text/plain": "Index(['date', 'num_people_10_00', 'label_num_people_12_33',\n       'label_num_menus_sold', 'label_difference_12_normalized',\n       'label_difference_10_and_sold_normalized', 'zurich_vacation', 'weekday',\n       'zuehlke_day', 'Temperature', 'Rain Duration'],\n      dtype='object')"
     },
     "execution_count": 34,
     "metadata": {},
     "output_type": "execute_result"
    }
   ],
   "source": [
    "features_by_date.columns"
   ],
   "metadata": {
    "collapsed": false
   }
  },
  {
   "cell_type": "code",
   "execution_count": 72,
   "outputs": [],
   "source": [
    "pickle_path = os.path.join('..', '..', 'data', 'features_by_date')\n",
    "features_by_date = pd.read_pickle(pickle_path)\n",
    "num_features=['num_people_10_00','Temperature','Rain Duration']\n",
    "cat_features=['weekday']\n",
    "bin_features=['zurich_vacation']\n",
    "label=['label_num_menus_sold']\n",
    "all_columns=num_features+cat_features+bin_features+label\n",
    "num_pipe = Pipeline([\n",
    "    ('imputer', SimpleImputer(strategy=\"median\")),\n",
    "    ('scaler', StandardScaler())\n",
    "])\n",
    "num_pipe.fit(features_by_date[num_features])\n",
    "\n",
    "\n",
    "\n",
    "full_pipeline = ColumnTransformer([\n",
    "    (\"num\", num_pipe, num_features),\n",
    "    (\"cat\", OneHotEncoder(), cat_features),\n",
    "])\n",
    "alpha=0.5\n",
    "l1_ratio=0.5\n",
    "pipe_estimator=Pipeline([\n",
    "    ('transformer',full_pipeline),\n",
    "    ('estimator',ElasticNet(alpha=alpha, l1_ratio=l1_ratio, random_state=42))\n",
    "])\n",
    "# lr = ElasticNet(alpha=alpha, l1_ratio=l1_ratio, random_state=42)\n"
   ],
   "metadata": {
    "collapsed": false
   }
  },
  {
   "cell_type": "code",
   "execution_count": 73,
   "outputs": [],
   "source": [
    "train, test = train_test_split(features_by_date[all_columns])\n",
    "train_x = train.drop(label, axis=1)\n",
    "test_x = test.drop(label, axis=1)\n",
    "train_y = train[label]\n",
    "test_y = test[label]\n",
    "\n",
    "pipe_estimator.fit(train_x, train_y)\n",
    "predicted_qualities = pipe_estimator.predict(test_x)"
   ],
   "metadata": {
    "collapsed": false
   }
  },
  {
   "cell_type": "code",
   "execution_count": 74,
   "outputs": [
    {
     "data": {
      "text/plain": "array([23.05915794, -0.26921951,  0.07504832,  0.12404613,  0.71525202,\n        2.30135732,  0.34622184, -6.48615102])"
     },
     "execution_count": 74,
     "metadata": {},
     "output_type": "execute_result"
    }
   ],
   "source": [
    "clf=pipe_estimator.named_steps['estimator'].coef_\n"
   ],
   "metadata": {
    "collapsed": false
   }
  },
  {
   "cell_type": "code",
   "execution_count": 45,
   "outputs": [
    {
     "name": "stdout",
     "output_type": "stream",
     "text": [
      "a\n",
      "b\n",
      "c\n"
     ]
    }
   ],
   "source": [
    "for key, values in {'a':1,'b':2,'c':3}.items():\n",
    "    print(key)"
   ],
   "metadata": {
    "collapsed": false
   }
  },
  {
   "cell_type": "code",
   "execution_count": null,
   "outputs": [],
   "source": [],
   "metadata": {
    "collapsed": false
   }
  },
  {
   "cell_type": "code",
   "execution_count": 48,
   "outputs": [
    {
     "data": {
      "text/plain": "                  date  num_people_10_00  label_num_people_12_33  \\\n2022-03-09  2022-03-09               131                     126   \n2022-03-10  2022-03-10               125                     107   \n2022-03-11  2022-03-11                55                      50   \n2022-03-14  2022-03-14               129                     133   \n2022-03-15  2022-03-15               144                     139   \n...                ...               ...                     ...   \n2022-11-21  2022-11-21               191                     190   \n2022-11-22  2022-11-22               235                     222   \n2022-11-23  2022-11-23               245                     222   \n2022-11-24  2022-11-24               219                     213   \n2022-11-25  2022-11-25               194                     207   \n\n            label_num_menus_sold  label_difference_12_normalized  \\\n2022-03-09                 103.0                        0.038168   \n2022-03-10                  81.0                        0.144000   \n2022-03-11                  30.0                        0.090909   \n2022-03-14                 102.0                       -0.031008   \n2022-03-15                 114.0                        0.034722   \n...                          ...                             ...   \n2022-11-21                 154.0                        0.005236   \n2022-11-22                 187.0                        0.055319   \n2022-11-23                 176.0                        0.093878   \n2022-11-24                 174.0                        0.027397   \n2022-11-25                 197.0                       -0.067010   \n\n            label_difference_10_and_sold_normalized  zurich_vacation  weekday  \\\n2022-03-09                                 0.213740                0        2   \n2022-03-10                                 0.352000                0        3   \n2022-03-11                                 0.454545                0        4   \n2022-03-14                                 0.209302                0        0   \n2022-03-15                                 0.208333                0        1   \n...                                             ...              ...      ...   \n2022-11-21                                 0.193717                0        0   \n2022-11-22                                 0.204255                0        1   \n2022-11-23                                 0.281633                0        2   \n2022-11-24                                 0.205479                0        3   \n2022-11-25                                -0.015464                0        4   \n\n            zuehlke_day  Temperature  Rain Duration  \n2022-03-09        False         8.73           0.00  \n2022-03-10        False         9.32           0.00  \n2022-03-11        False        10.03           0.00  \n2022-03-14        False        11.88           0.00  \n2022-03-15        False         7.99           0.00  \n...                 ...          ...            ...  \n2022-11-21        False         9.08           0.00  \n2022-11-22        False         7.79           0.00  \n2022-11-23        False         7.84           0.00  \n2022-11-24        False         9.11          33.63  \n2022-11-25        False         8.37           3.98  \n\n[180 rows x 11 columns]",
      "text/html": "<div>\n<style scoped>\n    .dataframe tbody tr th:only-of-type {\n        vertical-align: middle;\n    }\n\n    .dataframe tbody tr th {\n        vertical-align: top;\n    }\n\n    .dataframe thead th {\n        text-align: right;\n    }\n</style>\n<table border=\"1\" class=\"dataframe\">\n  <thead>\n    <tr style=\"text-align: right;\">\n      <th></th>\n      <th>date</th>\n      <th>num_people_10_00</th>\n      <th>label_num_people_12_33</th>\n      <th>label_num_menus_sold</th>\n      <th>label_difference_12_normalized</th>\n      <th>label_difference_10_and_sold_normalized</th>\n      <th>zurich_vacation</th>\n      <th>weekday</th>\n      <th>zuehlke_day</th>\n      <th>Temperature</th>\n      <th>Rain Duration</th>\n    </tr>\n  </thead>\n  <tbody>\n    <tr>\n      <th>2022-03-09</th>\n      <td>2022-03-09</td>\n      <td>131</td>\n      <td>126</td>\n      <td>103.0</td>\n      <td>0.038168</td>\n      <td>0.213740</td>\n      <td>0</td>\n      <td>2</td>\n      <td>False</td>\n      <td>8.73</td>\n      <td>0.00</td>\n    </tr>\n    <tr>\n      <th>2022-03-10</th>\n      <td>2022-03-10</td>\n      <td>125</td>\n      <td>107</td>\n      <td>81.0</td>\n      <td>0.144000</td>\n      <td>0.352000</td>\n      <td>0</td>\n      <td>3</td>\n      <td>False</td>\n      <td>9.32</td>\n      <td>0.00</td>\n    </tr>\n    <tr>\n      <th>2022-03-11</th>\n      <td>2022-03-11</td>\n      <td>55</td>\n      <td>50</td>\n      <td>30.0</td>\n      <td>0.090909</td>\n      <td>0.454545</td>\n      <td>0</td>\n      <td>4</td>\n      <td>False</td>\n      <td>10.03</td>\n      <td>0.00</td>\n    </tr>\n    <tr>\n      <th>2022-03-14</th>\n      <td>2022-03-14</td>\n      <td>129</td>\n      <td>133</td>\n      <td>102.0</td>\n      <td>-0.031008</td>\n      <td>0.209302</td>\n      <td>0</td>\n      <td>0</td>\n      <td>False</td>\n      <td>11.88</td>\n      <td>0.00</td>\n    </tr>\n    <tr>\n      <th>2022-03-15</th>\n      <td>2022-03-15</td>\n      <td>144</td>\n      <td>139</td>\n      <td>114.0</td>\n      <td>0.034722</td>\n      <td>0.208333</td>\n      <td>0</td>\n      <td>1</td>\n      <td>False</td>\n      <td>7.99</td>\n      <td>0.00</td>\n    </tr>\n    <tr>\n      <th>...</th>\n      <td>...</td>\n      <td>...</td>\n      <td>...</td>\n      <td>...</td>\n      <td>...</td>\n      <td>...</td>\n      <td>...</td>\n      <td>...</td>\n      <td>...</td>\n      <td>...</td>\n      <td>...</td>\n    </tr>\n    <tr>\n      <th>2022-11-21</th>\n      <td>2022-11-21</td>\n      <td>191</td>\n      <td>190</td>\n      <td>154.0</td>\n      <td>0.005236</td>\n      <td>0.193717</td>\n      <td>0</td>\n      <td>0</td>\n      <td>False</td>\n      <td>9.08</td>\n      <td>0.00</td>\n    </tr>\n    <tr>\n      <th>2022-11-22</th>\n      <td>2022-11-22</td>\n      <td>235</td>\n      <td>222</td>\n      <td>187.0</td>\n      <td>0.055319</td>\n      <td>0.204255</td>\n      <td>0</td>\n      <td>1</td>\n      <td>False</td>\n      <td>7.79</td>\n      <td>0.00</td>\n    </tr>\n    <tr>\n      <th>2022-11-23</th>\n      <td>2022-11-23</td>\n      <td>245</td>\n      <td>222</td>\n      <td>176.0</td>\n      <td>0.093878</td>\n      <td>0.281633</td>\n      <td>0</td>\n      <td>2</td>\n      <td>False</td>\n      <td>7.84</td>\n      <td>0.00</td>\n    </tr>\n    <tr>\n      <th>2022-11-24</th>\n      <td>2022-11-24</td>\n      <td>219</td>\n      <td>213</td>\n      <td>174.0</td>\n      <td>0.027397</td>\n      <td>0.205479</td>\n      <td>0</td>\n      <td>3</td>\n      <td>False</td>\n      <td>9.11</td>\n      <td>33.63</td>\n    </tr>\n    <tr>\n      <th>2022-11-25</th>\n      <td>2022-11-25</td>\n      <td>194</td>\n      <td>207</td>\n      <td>197.0</td>\n      <td>-0.067010</td>\n      <td>-0.015464</td>\n      <td>0</td>\n      <td>4</td>\n      <td>False</td>\n      <td>8.37</td>\n      <td>3.98</td>\n    </tr>\n  </tbody>\n</table>\n<p>180 rows × 11 columns</p>\n</div>"
     },
     "execution_count": 48,
     "metadata": {},
     "output_type": "execute_result"
    }
   ],
   "source": [
    "features_by_date\n"
   ],
   "metadata": {
    "collapsed": false
   }
  },
  {
   "cell_type": "code",
   "execution_count": 49,
   "outputs": [
    {
     "data": {
      "text/plain": "Index(['date', 'num_people_10_00', 'label_num_people_12_33',\n       'label_num_menus_sold', 'label_difference_12_normalized',\n       'label_difference_10_and_sold_normalized', 'zurich_vacation', 'weekday',\n       'zuehlke_day', 'Temperature', 'Rain Duration'],\n      dtype='object')"
     },
     "execution_count": 49,
     "metadata": {},
     "output_type": "execute_result"
    }
   ],
   "source": [
    "features_by_date.columns\n"
   ],
   "metadata": {
    "collapsed": false
   }
  },
  {
   "cell_type": "code",
   "execution_count": 75,
   "outputs": [
    {
     "data": {
      "text/plain": "1.6666666666666667"
     },
     "execution_count": 75,
     "metadata": {},
     "output_type": "execute_result"
    }
   ],
   "source": [
    "mean_absolute_error([0,3,2],[0,0,0])"
   ],
   "metadata": {
    "collapsed": false
   }
  },
  {
   "cell_type": "code",
   "execution_count": 76,
   "outputs": [
    {
     "data": {
      "text/plain": "{0: 4, 1: 5, 2: 6, 3: 7}"
     },
     "execution_count": 76,
     "metadata": {},
     "output_type": "execute_result"
    }
   ],
   "source": [
    "{key: value for key, value in zip([0,1,2,3],[4,5,6,7])}"
   ],
   "metadata": {
    "collapsed": false
   }
  },
  {
   "cell_type": "code",
   "execution_count": null,
   "outputs": [],
   "source": [],
   "metadata": {
    "collapsed": false
   }
  }
 ],
 "metadata": {
  "kernelspec": {
   "display_name": "Python 3",
   "language": "python",
   "name": "python3"
  },
  "language_info": {
   "codemirror_mode": {
    "name": "ipython",
    "version": 2
   },
   "file_extension": ".py",
   "mimetype": "text/x-python",
   "name": "python",
   "nbconvert_exporter": "python",
   "pygments_lexer": "ipython2",
   "version": "2.7.6"
  }
 },
 "nbformat": 4,
 "nbformat_minor": 0
}
