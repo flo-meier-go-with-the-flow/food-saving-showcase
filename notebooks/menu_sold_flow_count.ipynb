{
 "cells": [
  {
   "cell_type": "code",
   "execution_count": 69,
   "metadata": {
    "collapsed": true
   },
   "outputs": [
    {
     "data": {
      "text/plain": "       location_name            datetime  visitor_count_fw  \\\n0  Zürich, Schlieren 2022-02-28 23:00:00                 0   \n1  Zürich, Schlieren 2022-02-28 23:05:00                 0   \n2  Zürich, Schlieren 2022-02-28 23:10:00                 0   \n3  Zürich, Schlieren 2022-02-28 23:15:00                 0   \n4  Zürich, Schlieren 2022-02-28 23:20:00                 0   \n\n   visitor_count_fw_male  visitor_count_fw_female  visitor_count_bw  \\\n0                      0                        0                 0   \n1                      0                        0                 0   \n2                      0                        0                 0   \n3                      0                        0                 0   \n4                      0                        0                 0   \n\n   visitor_count_bw_male  visitor_count_bw_female     zurich_datetime  \\\n0                      0                        0 2022-03-01 00:00:00   \n1                      0                        0 2022-03-01 00:05:00   \n2                      0                        0 2022-03-01 00:10:00   \n3                      0                        0 2022-03-01 00:15:00   \n4                      0                        0 2022-03-01 00:20:00   \n\n   smooth_visitor_count_fw  smooth_visitor_count_bw        date      time  \\\n0                      0.0                      0.0  2022-03-01  00:00:00   \n1                      0.0                      0.0  2022-03-01  00:05:00   \n2                      0.0                      0.0  2022-03-01  00:10:00   \n3                      0.0                      0.0  2022-03-01  00:15:00   \n4                      0.0                      0.0  2022-03-01  00:20:00   \n\n   time_numeric  cum_sum_visitor_count_fw  cum_sum_visitor_count_bw  \\\n0          0.00                         0                         0   \n1          0.08                         0                         0   \n2          0.17                         0                         0   \n3          0.25                         0                         0   \n4          0.33                         0                         0   \n\n   num_people_inside  weekday  weekday_num  \n0                  0  Tuesday            1  \n1                  0  Tuesday            1  \n2                  0  Tuesday            1  \n3                  0  Tuesday            1  \n4                  0  Tuesday            1  ",
      "text/html": "<div>\n<style scoped>\n    .dataframe tbody tr th:only-of-type {\n        vertical-align: middle;\n    }\n\n    .dataframe tbody tr th {\n        vertical-align: top;\n    }\n\n    .dataframe thead th {\n        text-align: right;\n    }\n</style>\n<table border=\"1\" class=\"dataframe\">\n  <thead>\n    <tr style=\"text-align: right;\">\n      <th></th>\n      <th>location_name</th>\n      <th>datetime</th>\n      <th>visitor_count_fw</th>\n      <th>visitor_count_fw_male</th>\n      <th>visitor_count_fw_female</th>\n      <th>visitor_count_bw</th>\n      <th>visitor_count_bw_male</th>\n      <th>visitor_count_bw_female</th>\n      <th>zurich_datetime</th>\n      <th>smooth_visitor_count_fw</th>\n      <th>smooth_visitor_count_bw</th>\n      <th>date</th>\n      <th>time</th>\n      <th>time_numeric</th>\n      <th>cum_sum_visitor_count_fw</th>\n      <th>cum_sum_visitor_count_bw</th>\n      <th>num_people_inside</th>\n      <th>weekday</th>\n      <th>weekday_num</th>\n    </tr>\n  </thead>\n  <tbody>\n    <tr>\n      <th>0</th>\n      <td>Zürich, Schlieren</td>\n      <td>2022-02-28 23:00:00</td>\n      <td>0</td>\n      <td>0</td>\n      <td>0</td>\n      <td>0</td>\n      <td>0</td>\n      <td>0</td>\n      <td>2022-03-01 00:00:00</td>\n      <td>0.0</td>\n      <td>0.0</td>\n      <td>2022-03-01</td>\n      <td>00:00:00</td>\n      <td>0.00</td>\n      <td>0</td>\n      <td>0</td>\n      <td>0</td>\n      <td>Tuesday</td>\n      <td>1</td>\n    </tr>\n    <tr>\n      <th>1</th>\n      <td>Zürich, Schlieren</td>\n      <td>2022-02-28 23:05:00</td>\n      <td>0</td>\n      <td>0</td>\n      <td>0</td>\n      <td>0</td>\n      <td>0</td>\n      <td>0</td>\n      <td>2022-03-01 00:05:00</td>\n      <td>0.0</td>\n      <td>0.0</td>\n      <td>2022-03-01</td>\n      <td>00:05:00</td>\n      <td>0.08</td>\n      <td>0</td>\n      <td>0</td>\n      <td>0</td>\n      <td>Tuesday</td>\n      <td>1</td>\n    </tr>\n    <tr>\n      <th>2</th>\n      <td>Zürich, Schlieren</td>\n      <td>2022-02-28 23:10:00</td>\n      <td>0</td>\n      <td>0</td>\n      <td>0</td>\n      <td>0</td>\n      <td>0</td>\n      <td>0</td>\n      <td>2022-03-01 00:10:00</td>\n      <td>0.0</td>\n      <td>0.0</td>\n      <td>2022-03-01</td>\n      <td>00:10:00</td>\n      <td>0.17</td>\n      <td>0</td>\n      <td>0</td>\n      <td>0</td>\n      <td>Tuesday</td>\n      <td>1</td>\n    </tr>\n    <tr>\n      <th>3</th>\n      <td>Zürich, Schlieren</td>\n      <td>2022-02-28 23:15:00</td>\n      <td>0</td>\n      <td>0</td>\n      <td>0</td>\n      <td>0</td>\n      <td>0</td>\n      <td>0</td>\n      <td>2022-03-01 00:15:00</td>\n      <td>0.0</td>\n      <td>0.0</td>\n      <td>2022-03-01</td>\n      <td>00:15:00</td>\n      <td>0.25</td>\n      <td>0</td>\n      <td>0</td>\n      <td>0</td>\n      <td>Tuesday</td>\n      <td>1</td>\n    </tr>\n    <tr>\n      <th>4</th>\n      <td>Zürich, Schlieren</td>\n      <td>2022-02-28 23:20:00</td>\n      <td>0</td>\n      <td>0</td>\n      <td>0</td>\n      <td>0</td>\n      <td>0</td>\n      <td>0</td>\n      <td>2022-03-01 00:20:00</td>\n      <td>0.0</td>\n      <td>0.0</td>\n      <td>2022-03-01</td>\n      <td>00:20:00</td>\n      <td>0.33</td>\n      <td>0</td>\n      <td>0</td>\n      <td>0</td>\n      <td>Tuesday</td>\n      <td>1</td>\n    </tr>\n  </tbody>\n</table>\n</div>"
     },
     "execution_count": 69,
     "metadata": {},
     "output_type": "execute_result"
    }
   ],
   "source": [
    "import pandas as pd\n",
    "import numpy as np\n",
    "import os\n",
    "import matplotlib as mpl\n",
    "import matplotlib.pyplot as plt\n",
    "from datetime import date, timedelta\n",
    "\n",
    "\n",
    "\n",
    "pickle_path=os.path.join('..', 'data', 'flow_counts_preprocessed')\n",
    "flow_counts_preprocessed=pd.read_pickle(pickle_path)\n",
    "flow_counts_preprocessed.head()"
   ]
  },
  {
   "cell_type": "code",
   "execution_count": 64,
   "outputs": [
    {
     "data": {
      "text/plain": "            num_people_at_12_33  num_people_at_10_00  difference_10_and_12  \\\n2022-03-01                  152                  144                    -8   \n2022-03-02                  154                  153                    -1   \n2022-03-03                  119                  122                     3   \n2022-03-04                   62                   86                    24   \n2022-03-05                    0                    0                     0   \n2022-03-06                    0                    0                     0   \n2022-03-07                  136                  128                    -8   \n2022-03-08                  136                  148                    12   \n2022-03-09                  126                  131                     5   \n2022-03-10                  107                  125                    18   \n2022-03-11                   50                   55                     5   \n2022-03-12                    0                    0                     0   \n2022-03-13                    0                    1                     1   \n2022-03-14                  133                  129                    -4   \n2022-03-15                  139                  144                     5   \n2022-03-16                  138                  151                    13   \n2022-03-17                  134                  137                     3   \n2022-03-18                   60                   58                    -2   \n2022-03-19                    6                    6                     0   \n2022-03-20                    1                    0                    -1   \n\n            normalized_difference_10_and_12  sold_menus  \\\n2022-03-01                        -0.055556         NaN   \n2022-03-02                        -0.006536         NaN   \n2022-03-03                         0.024590         NaN   \n2022-03-04                         0.279070         NaN   \n2022-03-05                              NaN         NaN   \n2022-03-06                              NaN         NaN   \n2022-03-07                        -0.062500         NaN   \n2022-03-08                         0.081081         NaN   \n2022-03-09                         0.038168       103.0   \n2022-03-10                         0.144000        81.0   \n2022-03-11                         0.090909        30.0   \n2022-03-12                              NaN         NaN   \n2022-03-13                         1.000000         NaN   \n2022-03-14                        -0.031008       102.0   \n2022-03-15                         0.034722       114.0   \n2022-03-16                         0.086093       105.0   \n2022-03-17                         0.021898       102.0   \n2022-03-18                        -0.034483        43.0   \n2022-03-19                         0.000000         NaN   \n2022-03-20                             -inf         NaN   \n\n            difference_10_and_sold_menus  \\\n2022-03-01                           NaN   \n2022-03-02                           NaN   \n2022-03-03                           NaN   \n2022-03-04                           NaN   \n2022-03-05                           NaN   \n2022-03-06                           NaN   \n2022-03-07                           NaN   \n2022-03-08                           NaN   \n2022-03-09                          28.0   \n2022-03-10                          44.0   \n2022-03-11                          25.0   \n2022-03-12                           NaN   \n2022-03-13                           NaN   \n2022-03-14                          27.0   \n2022-03-15                          30.0   \n2022-03-16                          46.0   \n2022-03-17                          35.0   \n2022-03-18                          15.0   \n2022-03-19                           NaN   \n2022-03-20                           NaN   \n\n            normalized_difference_10_and_sold_menus  \n2022-03-01                                      NaN  \n2022-03-02                                      NaN  \n2022-03-03                                      NaN  \n2022-03-04                                      NaN  \n2022-03-05                                      NaN  \n2022-03-06                                      NaN  \n2022-03-07                                      NaN  \n2022-03-08                                      NaN  \n2022-03-09                                 0.213740  \n2022-03-10                                 0.352000  \n2022-03-11                                 0.454545  \n2022-03-12                                      NaN  \n2022-03-13                                      NaN  \n2022-03-14                                 0.209302  \n2022-03-15                                 0.208333  \n2022-03-16                                 0.304636  \n2022-03-17                                 0.255474  \n2022-03-18                                 0.258621  \n2022-03-19                                      NaN  \n2022-03-20                                      NaN  ",
      "text/html": "<div>\n<style scoped>\n    .dataframe tbody tr th:only-of-type {\n        vertical-align: middle;\n    }\n\n    .dataframe tbody tr th {\n        vertical-align: top;\n    }\n\n    .dataframe thead th {\n        text-align: right;\n    }\n</style>\n<table border=\"1\" class=\"dataframe\">\n  <thead>\n    <tr style=\"text-align: right;\">\n      <th></th>\n      <th>num_people_at_12_33</th>\n      <th>num_people_at_10_00</th>\n      <th>difference_10_and_12</th>\n      <th>normalized_difference_10_and_12</th>\n      <th>sold_menus</th>\n      <th>difference_10_and_sold_menus</th>\n      <th>normalized_difference_10_and_sold_menus</th>\n    </tr>\n  </thead>\n  <tbody>\n    <tr>\n      <th>2022-03-01</th>\n      <td>152</td>\n      <td>144</td>\n      <td>-8</td>\n      <td>-0.055556</td>\n      <td>NaN</td>\n      <td>NaN</td>\n      <td>NaN</td>\n    </tr>\n    <tr>\n      <th>2022-03-02</th>\n      <td>154</td>\n      <td>153</td>\n      <td>-1</td>\n      <td>-0.006536</td>\n      <td>NaN</td>\n      <td>NaN</td>\n      <td>NaN</td>\n    </tr>\n    <tr>\n      <th>2022-03-03</th>\n      <td>119</td>\n      <td>122</td>\n      <td>3</td>\n      <td>0.024590</td>\n      <td>NaN</td>\n      <td>NaN</td>\n      <td>NaN</td>\n    </tr>\n    <tr>\n      <th>2022-03-04</th>\n      <td>62</td>\n      <td>86</td>\n      <td>24</td>\n      <td>0.279070</td>\n      <td>NaN</td>\n      <td>NaN</td>\n      <td>NaN</td>\n    </tr>\n    <tr>\n      <th>2022-03-05</th>\n      <td>0</td>\n      <td>0</td>\n      <td>0</td>\n      <td>NaN</td>\n      <td>NaN</td>\n      <td>NaN</td>\n      <td>NaN</td>\n    </tr>\n    <tr>\n      <th>2022-03-06</th>\n      <td>0</td>\n      <td>0</td>\n      <td>0</td>\n      <td>NaN</td>\n      <td>NaN</td>\n      <td>NaN</td>\n      <td>NaN</td>\n    </tr>\n    <tr>\n      <th>2022-03-07</th>\n      <td>136</td>\n      <td>128</td>\n      <td>-8</td>\n      <td>-0.062500</td>\n      <td>NaN</td>\n      <td>NaN</td>\n      <td>NaN</td>\n    </tr>\n    <tr>\n      <th>2022-03-08</th>\n      <td>136</td>\n      <td>148</td>\n      <td>12</td>\n      <td>0.081081</td>\n      <td>NaN</td>\n      <td>NaN</td>\n      <td>NaN</td>\n    </tr>\n    <tr>\n      <th>2022-03-09</th>\n      <td>126</td>\n      <td>131</td>\n      <td>5</td>\n      <td>0.038168</td>\n      <td>103.0</td>\n      <td>28.0</td>\n      <td>0.213740</td>\n    </tr>\n    <tr>\n      <th>2022-03-10</th>\n      <td>107</td>\n      <td>125</td>\n      <td>18</td>\n      <td>0.144000</td>\n      <td>81.0</td>\n      <td>44.0</td>\n      <td>0.352000</td>\n    </tr>\n    <tr>\n      <th>2022-03-11</th>\n      <td>50</td>\n      <td>55</td>\n      <td>5</td>\n      <td>0.090909</td>\n      <td>30.0</td>\n      <td>25.0</td>\n      <td>0.454545</td>\n    </tr>\n    <tr>\n      <th>2022-03-12</th>\n      <td>0</td>\n      <td>0</td>\n      <td>0</td>\n      <td>NaN</td>\n      <td>NaN</td>\n      <td>NaN</td>\n      <td>NaN</td>\n    </tr>\n    <tr>\n      <th>2022-03-13</th>\n      <td>0</td>\n      <td>1</td>\n      <td>1</td>\n      <td>1.000000</td>\n      <td>NaN</td>\n      <td>NaN</td>\n      <td>NaN</td>\n    </tr>\n    <tr>\n      <th>2022-03-14</th>\n      <td>133</td>\n      <td>129</td>\n      <td>-4</td>\n      <td>-0.031008</td>\n      <td>102.0</td>\n      <td>27.0</td>\n      <td>0.209302</td>\n    </tr>\n    <tr>\n      <th>2022-03-15</th>\n      <td>139</td>\n      <td>144</td>\n      <td>5</td>\n      <td>0.034722</td>\n      <td>114.0</td>\n      <td>30.0</td>\n      <td>0.208333</td>\n    </tr>\n    <tr>\n      <th>2022-03-16</th>\n      <td>138</td>\n      <td>151</td>\n      <td>13</td>\n      <td>0.086093</td>\n      <td>105.0</td>\n      <td>46.0</td>\n      <td>0.304636</td>\n    </tr>\n    <tr>\n      <th>2022-03-17</th>\n      <td>134</td>\n      <td>137</td>\n      <td>3</td>\n      <td>0.021898</td>\n      <td>102.0</td>\n      <td>35.0</td>\n      <td>0.255474</td>\n    </tr>\n    <tr>\n      <th>2022-03-18</th>\n      <td>60</td>\n      <td>58</td>\n      <td>-2</td>\n      <td>-0.034483</td>\n      <td>43.0</td>\n      <td>15.0</td>\n      <td>0.258621</td>\n    </tr>\n    <tr>\n      <th>2022-03-19</th>\n      <td>6</td>\n      <td>6</td>\n      <td>0</td>\n      <td>0.000000</td>\n      <td>NaN</td>\n      <td>NaN</td>\n      <td>NaN</td>\n    </tr>\n    <tr>\n      <th>2022-03-20</th>\n      <td>1</td>\n      <td>0</td>\n      <td>-1</td>\n      <td>-inf</td>\n      <td>NaN</td>\n      <td>NaN</td>\n      <td>NaN</td>\n    </tr>\n  </tbody>\n</table>\n</div>"
     },
     "execution_count": 64,
     "metadata": {},
     "output_type": "execute_result"
    }
   ],
   "source": [
    "pickle_path=os.path.join('..', 'data', 'num_people_by_date')\n",
    "num_people_by_date=pd.read_pickle(pickle_path)\n",
    "num_people_by_date.head(20)"
   ],
   "metadata": {
    "collapsed": false
   }
  },
  {
   "cell_type": "code",
   "execution_count": 105,
   "outputs": [
    {
     "data": {
      "text/plain": "            label_num_people_12_33  label_num_menus_sold  num_people_10_00  \\\n2022-03-01                     152                   NaN               144   \n2022-03-02                     154                   NaN               153   \n2022-03-03                     119                   NaN               122   \n2022-03-04                      62                   NaN                86   \n2022-03-05                       0                   NaN                 0   \n...                            ...                   ...               ...   \n2022-11-24                     213                 174.0               219   \n2022-11-25                     207                 197.0               194   \n2022-11-26                      -5                   NaN                -5   \n2022-11-27                      -1                   NaN                 0   \n2022-11-28                     170                   NaN               195   \n\n                  date  label_difference_12_normalized  \\\n2022-03-01  2022-03-01                       -0.055556   \n2022-03-02  2022-03-02                       -0.006536   \n2022-03-03  2022-03-03                        0.024590   \n2022-03-04  2022-03-04                        0.279070   \n2022-03-05  2022-03-05                             NaN   \n...                ...                             ...   \n2022-11-24  2022-11-24                        0.027397   \n2022-11-25  2022-11-25                       -0.067010   \n2022-11-26  2022-11-26                       -0.000000   \n2022-11-27  2022-11-27                             NaN   \n2022-11-28  2022-11-28                        0.128205   \n\n            label_difference_sold_normalized  zurich_vacation  Temperature  \\\n2022-03-01                               NaN            False         4.89   \n2022-03-02                               NaN            False         7.89   \n2022-03-03                               NaN            False         9.45   \n2022-03-04                               NaN            False         6.94   \n2022-03-05                               NaN            False         4.29   \n...                                      ...              ...          ...   \n2022-11-24                          0.205479            False         9.11   \n2022-11-25                         -0.015464            False         8.37   \n2022-11-26                               NaN            False         7.80   \n2022-11-27                               NaN            False         5.38   \n2022-11-28                               NaN            False         9.06   \n\n            Rain Duration  \n2022-03-01           0.00  \n2022-03-02           0.00  \n2022-03-03           0.00  \n2022-03-04           0.00  \n2022-03-05           0.00  \n...                   ...  \n2022-11-24          33.63  \n2022-11-25           3.98  \n2022-11-26           0.00  \n2022-11-27           0.00  \n2022-11-28           0.00  \n\n[273 rows x 9 columns]",
      "text/html": "<div>\n<style scoped>\n    .dataframe tbody tr th:only-of-type {\n        vertical-align: middle;\n    }\n\n    .dataframe tbody tr th {\n        vertical-align: top;\n    }\n\n    .dataframe thead th {\n        text-align: right;\n    }\n</style>\n<table border=\"1\" class=\"dataframe\">\n  <thead>\n    <tr style=\"text-align: right;\">\n      <th></th>\n      <th>label_num_people_12_33</th>\n      <th>label_num_menus_sold</th>\n      <th>num_people_10_00</th>\n      <th>date</th>\n      <th>label_difference_12_normalized</th>\n      <th>label_difference_sold_normalized</th>\n      <th>zurich_vacation</th>\n      <th>Temperature</th>\n      <th>Rain Duration</th>\n    </tr>\n  </thead>\n  <tbody>\n    <tr>\n      <th>2022-03-01</th>\n      <td>152</td>\n      <td>NaN</td>\n      <td>144</td>\n      <td>2022-03-01</td>\n      <td>-0.055556</td>\n      <td>NaN</td>\n      <td>False</td>\n      <td>4.89</td>\n      <td>0.00</td>\n    </tr>\n    <tr>\n      <th>2022-03-02</th>\n      <td>154</td>\n      <td>NaN</td>\n      <td>153</td>\n      <td>2022-03-02</td>\n      <td>-0.006536</td>\n      <td>NaN</td>\n      <td>False</td>\n      <td>7.89</td>\n      <td>0.00</td>\n    </tr>\n    <tr>\n      <th>2022-03-03</th>\n      <td>119</td>\n      <td>NaN</td>\n      <td>122</td>\n      <td>2022-03-03</td>\n      <td>0.024590</td>\n      <td>NaN</td>\n      <td>False</td>\n      <td>9.45</td>\n      <td>0.00</td>\n    </tr>\n    <tr>\n      <th>2022-03-04</th>\n      <td>62</td>\n      <td>NaN</td>\n      <td>86</td>\n      <td>2022-03-04</td>\n      <td>0.279070</td>\n      <td>NaN</td>\n      <td>False</td>\n      <td>6.94</td>\n      <td>0.00</td>\n    </tr>\n    <tr>\n      <th>2022-03-05</th>\n      <td>0</td>\n      <td>NaN</td>\n      <td>0</td>\n      <td>2022-03-05</td>\n      <td>NaN</td>\n      <td>NaN</td>\n      <td>False</td>\n      <td>4.29</td>\n      <td>0.00</td>\n    </tr>\n    <tr>\n      <th>...</th>\n      <td>...</td>\n      <td>...</td>\n      <td>...</td>\n      <td>...</td>\n      <td>...</td>\n      <td>...</td>\n      <td>...</td>\n      <td>...</td>\n      <td>...</td>\n    </tr>\n    <tr>\n      <th>2022-11-24</th>\n      <td>213</td>\n      <td>174.0</td>\n      <td>219</td>\n      <td>2022-11-24</td>\n      <td>0.027397</td>\n      <td>0.205479</td>\n      <td>False</td>\n      <td>9.11</td>\n      <td>33.63</td>\n    </tr>\n    <tr>\n      <th>2022-11-25</th>\n      <td>207</td>\n      <td>197.0</td>\n      <td>194</td>\n      <td>2022-11-25</td>\n      <td>-0.067010</td>\n      <td>-0.015464</td>\n      <td>False</td>\n      <td>8.37</td>\n      <td>3.98</td>\n    </tr>\n    <tr>\n      <th>2022-11-26</th>\n      <td>-5</td>\n      <td>NaN</td>\n      <td>-5</td>\n      <td>2022-11-26</td>\n      <td>-0.000000</td>\n      <td>NaN</td>\n      <td>False</td>\n      <td>7.80</td>\n      <td>0.00</td>\n    </tr>\n    <tr>\n      <th>2022-11-27</th>\n      <td>-1</td>\n      <td>NaN</td>\n      <td>0</td>\n      <td>2022-11-27</td>\n      <td>NaN</td>\n      <td>NaN</td>\n      <td>False</td>\n      <td>5.38</td>\n      <td>0.00</td>\n    </tr>\n    <tr>\n      <th>2022-11-28</th>\n      <td>170</td>\n      <td>NaN</td>\n      <td>195</td>\n      <td>2022-11-28</td>\n      <td>0.128205</td>\n      <td>NaN</td>\n      <td>False</td>\n      <td>9.06</td>\n      <td>0.00</td>\n    </tr>\n  </tbody>\n</table>\n<p>273 rows × 9 columns</p>\n</div>"
     },
     "execution_count": 105,
     "metadata": {},
     "output_type": "execute_result"
    }
   ],
   "source": [
    "pickle_path=os.path.join('..', 'data', 'features_by_date')\n",
    "features_by_date=pd.read_pickle(pickle_path)\n",
    "features_by_date.head(1000)"
   ],
   "metadata": {
    "collapsed": false
   }
  },
  {
   "cell_type": "code",
   "execution_count": 50,
   "outputs": [
    {
     "data": {
      "text/plain": "        Datum  sold_menus\n0  09.03.2022       103.0\n1  10.03.2022        81.0\n2  11.03.2022        30.0\n3  14.03.2022       102.0\n4  15.03.2022       114.0",
      "text/html": "<div>\n<style scoped>\n    .dataframe tbody tr th:only-of-type {\n        vertical-align: middle;\n    }\n\n    .dataframe tbody tr th {\n        vertical-align: top;\n    }\n\n    .dataframe thead th {\n        text-align: right;\n    }\n</style>\n<table border=\"1\" class=\"dataframe\">\n  <thead>\n    <tr style=\"text-align: right;\">\n      <th></th>\n      <th>Datum</th>\n      <th>sold_menus</th>\n    </tr>\n  </thead>\n  <tbody>\n    <tr>\n      <th>0</th>\n      <td>09.03.2022</td>\n      <td>103.0</td>\n    </tr>\n    <tr>\n      <th>1</th>\n      <td>10.03.2022</td>\n      <td>81.0</td>\n    </tr>\n    <tr>\n      <th>2</th>\n      <td>11.03.2022</td>\n      <td>30.0</td>\n    </tr>\n    <tr>\n      <th>3</th>\n      <td>14.03.2022</td>\n      <td>102.0</td>\n    </tr>\n    <tr>\n      <th>4</th>\n      <td>15.03.2022</td>\n      <td>114.0</td>\n    </tr>\n  </tbody>\n</table>\n</div>"
     },
     "execution_count": 50,
     "metadata": {},
     "output_type": "execute_result"
    }
   ],
   "source": [
    "csv_path=os.path.join('..', 'data', 'sold_menus.csv')\n",
    "\n",
    "\n",
    "sold_menus= pd.read_csv(csv_path, delimiter=';')\n",
    "sold_menus.head()"
   ],
   "metadata": {
    "collapsed": false
   }
  },
  {
   "cell_type": "code",
   "execution_count": 51,
   "outputs": [],
   "source": [
    "def convert_str_point_date_to_date(string_date):\n",
    "    date_values=string_date.split('.')\n",
    "    return date(year=int(date_values[2]),month=int(date_values[1]),day=int(date_values[0]))\n",
    "\n",
    "sold_menus['Datum']=sold_menus['Datum'].apply(convert_str_point_date_to_date)\n"
   ],
   "metadata": {
    "collapsed": false
   }
  },
  {
   "cell_type": "code",
   "execution_count": 52,
   "outputs": [
    {
     "data": {
      "text/plain": "            sold_menus\ndate                  \n2022-03-09       103.0\n2022-03-10        81.0\n2022-03-11        30.0\n2022-03-14       102.0\n2022-03-15       114.0\n...                ...\n2022-11-21       154.0\n2022-11-22       187.0\n2022-11-23       176.0\n2022-11-24       174.0\n2022-11-25       197.0\n\n[186 rows x 1 columns]",
      "text/html": "<div>\n<style scoped>\n    .dataframe tbody tr th:only-of-type {\n        vertical-align: middle;\n    }\n\n    .dataframe tbody tr th {\n        vertical-align: top;\n    }\n\n    .dataframe thead th {\n        text-align: right;\n    }\n</style>\n<table border=\"1\" class=\"dataframe\">\n  <thead>\n    <tr style=\"text-align: right;\">\n      <th></th>\n      <th>sold_menus</th>\n    </tr>\n    <tr>\n      <th>date</th>\n      <th></th>\n    </tr>\n  </thead>\n  <tbody>\n    <tr>\n      <th>2022-03-09</th>\n      <td>103.0</td>\n    </tr>\n    <tr>\n      <th>2022-03-10</th>\n      <td>81.0</td>\n    </tr>\n    <tr>\n      <th>2022-03-11</th>\n      <td>30.0</td>\n    </tr>\n    <tr>\n      <th>2022-03-14</th>\n      <td>102.0</td>\n    </tr>\n    <tr>\n      <th>2022-03-15</th>\n      <td>114.0</td>\n    </tr>\n    <tr>\n      <th>...</th>\n      <td>...</td>\n    </tr>\n    <tr>\n      <th>2022-11-21</th>\n      <td>154.0</td>\n    </tr>\n    <tr>\n      <th>2022-11-22</th>\n      <td>187.0</td>\n    </tr>\n    <tr>\n      <th>2022-11-23</th>\n      <td>176.0</td>\n    </tr>\n    <tr>\n      <th>2022-11-24</th>\n      <td>174.0</td>\n    </tr>\n    <tr>\n      <th>2022-11-25</th>\n      <td>197.0</td>\n    </tr>\n  </tbody>\n</table>\n<p>186 rows × 1 columns</p>\n</div>"
     },
     "execution_count": 52,
     "metadata": {},
     "output_type": "execute_result"
    }
   ],
   "source": [
    "sold_menus.rename(columns={'Datum':'date'}, inplace=True)\n",
    "sold_menus.set_index(keys=['date'], inplace=True)\n",
    "sold_menus"
   ],
   "metadata": {
    "collapsed": false
   }
  },
  {
   "cell_type": "code",
   "execution_count": 59,
   "outputs": [],
   "source": [
    "num_people_by_date= num_people_by_date.join(sold_menus)"
   ],
   "metadata": {
    "collapsed": false
   }
  },
  {
   "cell_type": "code",
   "execution_count": 61,
   "outputs": [],
   "source": [
    "    num_people_by_date['difference_10_and_sold_menus'] = num_people_by_date.apply(\n",
    "        lambda row: row['num_people_at_10_00'] - row['sold_menus'], axis=1)\n",
    "    num_people_by_date['normalized_difference_10_and_sold_menus'] = num_people_by_date.apply(\n",
    "        lambda row: row['difference_10_and_sold_menus'] / row['num_people_at_10_00'], axis=1)"
   ],
   "metadata": {
    "collapsed": false
   }
  },
  {
   "cell_type": "code",
   "execution_count": 103,
   "outputs": [
    {
     "ename": "KeyError",
     "evalue": "\"None of [Index(['num_people_by_date', 'num_menus_sold'], dtype='object')] are in the [columns]\"",
     "output_type": "error",
     "traceback": [
      "\u001B[1;31m---------------------------------------------------------------------------\u001B[0m",
      "\u001B[1;31mKeyError\u001B[0m                                  Traceback (most recent call last)",
      "Cell \u001B[1;32mIn[103], line 1\u001B[0m\n\u001B[1;32m----> 1\u001B[0m \u001B[43mnum_people_by_date\u001B[49m\u001B[43m[\u001B[49m\u001B[43m[\u001B[49m\u001B[38;5;124;43m'\u001B[39;49m\u001B[38;5;124;43mnum_people_by_date\u001B[39;49m\u001B[38;5;124;43m'\u001B[39;49m\u001B[43m,\u001B[49m\u001B[38;5;124;43m'\u001B[39;49m\u001B[38;5;124;43mnum_menus_sold\u001B[39;49m\u001B[38;5;124;43m'\u001B[39;49m\u001B[43m]\u001B[49m\u001B[43m]\u001B[49m\n",
      "File \u001B[1;32m~\\AppData\\Local\\pypoetry\\Cache\\virtualenvs\\food-saving-showcase-ocOVEVjy-py3.10\\lib\\site-packages\\pandas\\core\\frame.py:3811\u001B[0m, in \u001B[0;36mDataFrame.__getitem__\u001B[1;34m(self, key)\u001B[0m\n\u001B[0;32m   3809\u001B[0m     \u001B[38;5;28;01mif\u001B[39;00m is_iterator(key):\n\u001B[0;32m   3810\u001B[0m         key \u001B[38;5;241m=\u001B[39m \u001B[38;5;28mlist\u001B[39m(key)\n\u001B[1;32m-> 3811\u001B[0m     indexer \u001B[38;5;241m=\u001B[39m \u001B[38;5;28;43mself\u001B[39;49m\u001B[38;5;241;43m.\u001B[39;49m\u001B[43mcolumns\u001B[49m\u001B[38;5;241;43m.\u001B[39;49m\u001B[43m_get_indexer_strict\u001B[49m\u001B[43m(\u001B[49m\u001B[43mkey\u001B[49m\u001B[43m,\u001B[49m\u001B[43m \u001B[49m\u001B[38;5;124;43m\"\u001B[39;49m\u001B[38;5;124;43mcolumns\u001B[39;49m\u001B[38;5;124;43m\"\u001B[39;49m\u001B[43m)\u001B[49m[\u001B[38;5;241m1\u001B[39m]\n\u001B[0;32m   3813\u001B[0m \u001B[38;5;66;03m# take() does not accept boolean indexers\u001B[39;00m\n\u001B[0;32m   3814\u001B[0m \u001B[38;5;28;01mif\u001B[39;00m \u001B[38;5;28mgetattr\u001B[39m(indexer, \u001B[38;5;124m\"\u001B[39m\u001B[38;5;124mdtype\u001B[39m\u001B[38;5;124m\"\u001B[39m, \u001B[38;5;28;01mNone\u001B[39;00m) \u001B[38;5;241m==\u001B[39m \u001B[38;5;28mbool\u001B[39m:\n",
      "File \u001B[1;32m~\\AppData\\Local\\pypoetry\\Cache\\virtualenvs\\food-saving-showcase-ocOVEVjy-py3.10\\lib\\site-packages\\pandas\\core\\indexes\\base.py:6113\u001B[0m, in \u001B[0;36mIndex._get_indexer_strict\u001B[1;34m(self, key, axis_name)\u001B[0m\n\u001B[0;32m   6110\u001B[0m \u001B[38;5;28;01melse\u001B[39;00m:\n\u001B[0;32m   6111\u001B[0m     keyarr, indexer, new_indexer \u001B[38;5;241m=\u001B[39m \u001B[38;5;28mself\u001B[39m\u001B[38;5;241m.\u001B[39m_reindex_non_unique(keyarr)\n\u001B[1;32m-> 6113\u001B[0m \u001B[38;5;28;43mself\u001B[39;49m\u001B[38;5;241;43m.\u001B[39;49m\u001B[43m_raise_if_missing\u001B[49m\u001B[43m(\u001B[49m\u001B[43mkeyarr\u001B[49m\u001B[43m,\u001B[49m\u001B[43m \u001B[49m\u001B[43mindexer\u001B[49m\u001B[43m,\u001B[49m\u001B[43m \u001B[49m\u001B[43maxis_name\u001B[49m\u001B[43m)\u001B[49m\n\u001B[0;32m   6115\u001B[0m keyarr \u001B[38;5;241m=\u001B[39m \u001B[38;5;28mself\u001B[39m\u001B[38;5;241m.\u001B[39mtake(indexer)\n\u001B[0;32m   6116\u001B[0m \u001B[38;5;28;01mif\u001B[39;00m \u001B[38;5;28misinstance\u001B[39m(key, Index):\n\u001B[0;32m   6117\u001B[0m     \u001B[38;5;66;03m# GH 42790 - Preserve name from an Index\u001B[39;00m\n",
      "File \u001B[1;32m~\\AppData\\Local\\pypoetry\\Cache\\virtualenvs\\food-saving-showcase-ocOVEVjy-py3.10\\lib\\site-packages\\pandas\\core\\indexes\\base.py:6173\u001B[0m, in \u001B[0;36mIndex._raise_if_missing\u001B[1;34m(self, key, indexer, axis_name)\u001B[0m\n\u001B[0;32m   6171\u001B[0m     \u001B[38;5;28;01mif\u001B[39;00m use_interval_msg:\n\u001B[0;32m   6172\u001B[0m         key \u001B[38;5;241m=\u001B[39m \u001B[38;5;28mlist\u001B[39m(key)\n\u001B[1;32m-> 6173\u001B[0m     \u001B[38;5;28;01mraise\u001B[39;00m \u001B[38;5;167;01mKeyError\u001B[39;00m(\u001B[38;5;124mf\u001B[39m\u001B[38;5;124m\"\u001B[39m\u001B[38;5;124mNone of [\u001B[39m\u001B[38;5;132;01m{\u001B[39;00mkey\u001B[38;5;132;01m}\u001B[39;00m\u001B[38;5;124m] are in the [\u001B[39m\u001B[38;5;132;01m{\u001B[39;00maxis_name\u001B[38;5;132;01m}\u001B[39;00m\u001B[38;5;124m]\u001B[39m\u001B[38;5;124m\"\u001B[39m)\n\u001B[0;32m   6175\u001B[0m not_found \u001B[38;5;241m=\u001B[39m \u001B[38;5;28mlist\u001B[39m(ensure_index(key)[missing_mask\u001B[38;5;241m.\u001B[39mnonzero()[\u001B[38;5;241m0\u001B[39m]]\u001B[38;5;241m.\u001B[39munique())\n\u001B[0;32m   6176\u001B[0m \u001B[38;5;28;01mraise\u001B[39;00m \u001B[38;5;167;01mKeyError\u001B[39;00m(\u001B[38;5;124mf\u001B[39m\u001B[38;5;124m\"\u001B[39m\u001B[38;5;132;01m{\u001B[39;00mnot_found\u001B[38;5;132;01m}\u001B[39;00m\u001B[38;5;124m not in index\u001B[39m\u001B[38;5;124m\"\u001B[39m)\n",
      "\u001B[1;31mKeyError\u001B[0m: \"None of [Index(['num_people_by_date', 'num_menus_sold'], dtype='object')] are in the [columns]\""
     ]
    }
   ],
   "source": [
    "num_people_by_date[['num_people_by_date','num_menus_sold']]"
   ],
   "metadata": {
    "collapsed": false
   }
  },
  {
   "cell_type": "code",
   "execution_count": 99,
   "outputs": [
    {
     "data": {
      "text/plain": "[[datetime.date(2022, 4, 14),\n  datetime.date(2022, 4, 15),\n  datetime.date(2022, 4, 16),\n  datetime.date(2022, 4, 17),\n  datetime.date(2022, 4, 18),\n  datetime.date(2022, 4, 19),\n  datetime.date(2022, 4, 20),\n  datetime.date(2022, 4, 21),\n  datetime.date(2022, 4, 22),\n  datetime.date(2022, 4, 23),\n  datetime.date(2022, 4, 24),\n  datetime.date(2022, 4, 25),\n  datetime.date(2022, 4, 26),\n  datetime.date(2022, 4, 27),\n  datetime.date(2022, 4, 28),\n  datetime.date(2022, 4, 29)],\n [datetime.date(2022, 7, 18),\n  datetime.date(2022, 7, 19),\n  datetime.date(2022, 7, 20),\n  datetime.date(2022, 7, 21),\n  datetime.date(2022, 7, 22),\n  datetime.date(2022, 7, 23),\n  datetime.date(2022, 7, 24),\n  datetime.date(2022, 7, 25),\n  datetime.date(2022, 7, 26),\n  datetime.date(2022, 7, 27),\n  datetime.date(2022, 7, 28),\n  datetime.date(2022, 7, 29),\n  datetime.date(2022, 7, 30),\n  datetime.date(2022, 7, 31),\n  datetime.date(2022, 8, 1),\n  datetime.date(2022, 8, 2),\n  datetime.date(2022, 8, 3),\n  datetime.date(2022, 8, 4),\n  datetime.date(2022, 8, 5),\n  datetime.date(2022, 8, 6),\n  datetime.date(2022, 8, 7),\n  datetime.date(2022, 8, 8),\n  datetime.date(2022, 8, 9),\n  datetime.date(2022, 8, 10),\n  datetime.date(2022, 8, 11),\n  datetime.date(2022, 8, 12),\n  datetime.date(2022, 8, 13),\n  datetime.date(2022, 8, 14),\n  datetime.date(2022, 8, 15),\n  datetime.date(2022, 8, 16),\n  datetime.date(2022, 8, 17),\n  datetime.date(2022, 8, 18),\n  datetime.date(2022, 8, 19)],\n [datetime.date(2022, 10, 10),\n  datetime.date(2022, 10, 11),\n  datetime.date(2022, 10, 12),\n  datetime.date(2022, 10, 13),\n  datetime.date(2022, 10, 14),\n  datetime.date(2022, 10, 15),\n  datetime.date(2022, 10, 16),\n  datetime.date(2022, 10, 17),\n  datetime.date(2022, 10, 18),\n  datetime.date(2022, 10, 19),\n  datetime.date(2022, 10, 20),\n  datetime.date(2022, 10, 21)]]"
     },
     "execution_count": 99,
     "metadata": {},
     "output_type": "execute_result"
    }
   ],
   "source": [
    "ex_date=date(year=2022,month=3,day=1)\n",
    "\n",
    "def create_vacation_date_list(start,end):\n",
    "    vacation_list=[]\n",
    "    while start <=end:\n",
    "        vacation_list.append(start)\n",
    "        start+= timedelta(days=1)\n",
    "    return vacation_list\n",
    "\n",
    "vacation_list_zurich=[]\n",
    "#easter\n",
    "vacation_list_zurich.append(create_vacation_date_list(start=date(year=2022,month=4,day=14),end= date(year=2022, month=4,day=29)))\n",
    "#summer\n",
    "vacation_list_zurich.append(create_vacation_date_list(start=date(year=2022,month=7,day=18),end= date(year=2022, month=8,day=19)))\n",
    "#autumn\n",
    "vacation_list_zurich.append(create_vacation_date_list(start=date(year=2022,month=10,day=10),end= date(year=2022, month=10,day=21)))\n",
    "\n",
    "vacation_list_zurich"
   ],
   "metadata": {
    "collapsed": false
   }
  },
  {
   "cell_type": "code",
   "execution_count": 102,
   "outputs": [
    {
     "data": {
      "text/plain": "2022-03-01    False\n2022-03-02    False\n2022-03-03    False\n2022-03-04    False\n2022-03-05    False\n              ...  \n2022-11-24    False\n2022-11-25    False\n2022-11-26    False\n2022-11-27    False\n2022-11-28    False\nName: date, Length: 273, dtype: bool"
     },
     "execution_count": 102,
     "metadata": {},
     "output_type": "execute_result"
    }
   ],
   "source": [
    "num_people_by_date['date'].isin(vacation_list_zurich)"
   ],
   "metadata": {
    "collapsed": false
   }
  },
  {
   "cell_type": "code",
   "execution_count": 79,
   "outputs": [
    {
     "data": {
      "text/plain": "            num_people_at_12_33  num_people_at_10_00  difference_10_and_12  \\\n2022-03-01                  152                  144                    -8   \n2022-03-02                  154                  153                    -1   \n2022-03-03                  119                  122                     3   \n2022-03-04                   62                   86                    24   \n2022-03-05                    0                    0                     0   \n...                         ...                  ...                   ...   \n2022-11-24                  213                  219                     6   \n2022-11-25                  207                  194                   -13   \n2022-11-26                   -5                   -5                     0   \n2022-11-27                   -1                    0                     1   \n2022-11-28                  170                  195                    25   \n\n            normalized_difference_10_and_12  sold_menus  \\\n2022-03-01                        -0.055556         NaN   \n2022-03-02                        -0.006536         NaN   \n2022-03-03                         0.024590         NaN   \n2022-03-04                         0.279070         NaN   \n2022-03-05                              NaN         NaN   \n...                                     ...         ...   \n2022-11-24                         0.027397       174.0   \n2022-11-25                        -0.067010       197.0   \n2022-11-26                        -0.000000         NaN   \n2022-11-27                              inf         NaN   \n2022-11-28                         0.128205         NaN   \n\n            difference_10_and_sold_menus  \\\n2022-03-01                           NaN   \n2022-03-02                           NaN   \n2022-03-03                           NaN   \n2022-03-04                           NaN   \n2022-03-05                           NaN   \n...                                  ...   \n2022-11-24                          45.0   \n2022-11-25                          -3.0   \n2022-11-26                           NaN   \n2022-11-27                           NaN   \n2022-11-28                           NaN   \n\n            normalized_difference_10_and_sold_menus        date  \n2022-03-01                                      NaN  2022-03-01  \n2022-03-02                                      NaN  2022-03-02  \n2022-03-03                                      NaN  2022-03-03  \n2022-03-04                                      NaN  2022-03-04  \n2022-03-05                                      NaN  2022-03-05  \n...                                             ...         ...  \n2022-11-24                                 0.205479  2022-11-24  \n2022-11-25                                -0.015464  2022-11-25  \n2022-11-26                                      NaN  2022-11-26  \n2022-11-27                                      NaN  2022-11-27  \n2022-11-28                                      NaN  2022-11-28  \n\n[273 rows x 8 columns]",
      "text/html": "<div>\n<style scoped>\n    .dataframe tbody tr th:only-of-type {\n        vertical-align: middle;\n    }\n\n    .dataframe tbody tr th {\n        vertical-align: top;\n    }\n\n    .dataframe thead th {\n        text-align: right;\n    }\n</style>\n<table border=\"1\" class=\"dataframe\">\n  <thead>\n    <tr style=\"text-align: right;\">\n      <th></th>\n      <th>num_people_at_12_33</th>\n      <th>num_people_at_10_00</th>\n      <th>difference_10_and_12</th>\n      <th>normalized_difference_10_and_12</th>\n      <th>sold_menus</th>\n      <th>difference_10_and_sold_menus</th>\n      <th>normalized_difference_10_and_sold_menus</th>\n      <th>date</th>\n    </tr>\n  </thead>\n  <tbody>\n    <tr>\n      <th>2022-03-01</th>\n      <td>152</td>\n      <td>144</td>\n      <td>-8</td>\n      <td>-0.055556</td>\n      <td>NaN</td>\n      <td>NaN</td>\n      <td>NaN</td>\n      <td>2022-03-01</td>\n    </tr>\n    <tr>\n      <th>2022-03-02</th>\n      <td>154</td>\n      <td>153</td>\n      <td>-1</td>\n      <td>-0.006536</td>\n      <td>NaN</td>\n      <td>NaN</td>\n      <td>NaN</td>\n      <td>2022-03-02</td>\n    </tr>\n    <tr>\n      <th>2022-03-03</th>\n      <td>119</td>\n      <td>122</td>\n      <td>3</td>\n      <td>0.024590</td>\n      <td>NaN</td>\n      <td>NaN</td>\n      <td>NaN</td>\n      <td>2022-03-03</td>\n    </tr>\n    <tr>\n      <th>2022-03-04</th>\n      <td>62</td>\n      <td>86</td>\n      <td>24</td>\n      <td>0.279070</td>\n      <td>NaN</td>\n      <td>NaN</td>\n      <td>NaN</td>\n      <td>2022-03-04</td>\n    </tr>\n    <tr>\n      <th>2022-03-05</th>\n      <td>0</td>\n      <td>0</td>\n      <td>0</td>\n      <td>NaN</td>\n      <td>NaN</td>\n      <td>NaN</td>\n      <td>NaN</td>\n      <td>2022-03-05</td>\n    </tr>\n    <tr>\n      <th>...</th>\n      <td>...</td>\n      <td>...</td>\n      <td>...</td>\n      <td>...</td>\n      <td>...</td>\n      <td>...</td>\n      <td>...</td>\n      <td>...</td>\n    </tr>\n    <tr>\n      <th>2022-11-24</th>\n      <td>213</td>\n      <td>219</td>\n      <td>6</td>\n      <td>0.027397</td>\n      <td>174.0</td>\n      <td>45.0</td>\n      <td>0.205479</td>\n      <td>2022-11-24</td>\n    </tr>\n    <tr>\n      <th>2022-11-25</th>\n      <td>207</td>\n      <td>194</td>\n      <td>-13</td>\n      <td>-0.067010</td>\n      <td>197.0</td>\n      <td>-3.0</td>\n      <td>-0.015464</td>\n      <td>2022-11-25</td>\n    </tr>\n    <tr>\n      <th>2022-11-26</th>\n      <td>-5</td>\n      <td>-5</td>\n      <td>0</td>\n      <td>-0.000000</td>\n      <td>NaN</td>\n      <td>NaN</td>\n      <td>NaN</td>\n      <td>2022-11-26</td>\n    </tr>\n    <tr>\n      <th>2022-11-27</th>\n      <td>-1</td>\n      <td>0</td>\n      <td>1</td>\n      <td>inf</td>\n      <td>NaN</td>\n      <td>NaN</td>\n      <td>NaN</td>\n      <td>2022-11-27</td>\n    </tr>\n    <tr>\n      <th>2022-11-28</th>\n      <td>170</td>\n      <td>195</td>\n      <td>25</td>\n      <td>0.128205</td>\n      <td>NaN</td>\n      <td>NaN</td>\n      <td>NaN</td>\n      <td>2022-11-28</td>\n    </tr>\n  </tbody>\n</table>\n<p>273 rows × 8 columns</p>\n</div>"
     },
     "execution_count": 79,
     "metadata": {},
     "output_type": "execute_result"
    }
   ],
   "source": [
    "num_people_by_date"
   ],
   "metadata": {
    "collapsed": false
   }
  },
  {
   "cell_type": "code",
   "execution_count": 111,
   "outputs": [],
   "source": [
    "features_by_date['weekday']=features_by_date['date'].apply(date.weekday)"
   ],
   "metadata": {
    "collapsed": false
   }
  },
  {
   "cell_type": "code",
   "execution_count": 112,
   "outputs": [
    {
     "data": {
      "text/plain": "            label_num_people_12_33  label_num_menus_sold  num_people_10_00  \\\n2022-03-01                     152                   NaN               144   \n2022-03-02                     154                   NaN               153   \n2022-03-03                     119                   NaN               122   \n2022-03-04                      62                   NaN                86   \n2022-03-05                       0                   NaN                 0   \n...                            ...                   ...               ...   \n2022-11-24                     213                 174.0               219   \n2022-11-25                     207                 197.0               194   \n2022-11-26                      -5                   NaN                -5   \n2022-11-27                      -1                   NaN                 0   \n2022-11-28                     170                   NaN               195   \n\n                  date  label_difference_12_normalized  \\\n2022-03-01  2022-03-01                       -0.055556   \n2022-03-02  2022-03-02                       -0.006536   \n2022-03-03  2022-03-03                        0.024590   \n2022-03-04  2022-03-04                        0.279070   \n2022-03-05  2022-03-05                             NaN   \n...                ...                             ...   \n2022-11-24  2022-11-24                        0.027397   \n2022-11-25  2022-11-25                       -0.067010   \n2022-11-26  2022-11-26                       -0.000000   \n2022-11-27  2022-11-27                             NaN   \n2022-11-28  2022-11-28                        0.128205   \n\n            label_difference_sold_normalized  zurich_vacation  Temperature  \\\n2022-03-01                               NaN            False         4.89   \n2022-03-02                               NaN            False         7.89   \n2022-03-03                               NaN            False         9.45   \n2022-03-04                               NaN            False         6.94   \n2022-03-05                               NaN            False         4.29   \n...                                      ...              ...          ...   \n2022-11-24                          0.205479            False         9.11   \n2022-11-25                         -0.015464            False         8.37   \n2022-11-26                               NaN            False         7.80   \n2022-11-27                               NaN            False         5.38   \n2022-11-28                               NaN            False         9.06   \n\n            Rain Duration  weekday  \n2022-03-01           0.00        1  \n2022-03-02           0.00        2  \n2022-03-03           0.00        3  \n2022-03-04           0.00        4  \n2022-03-05           0.00        5  \n...                   ...      ...  \n2022-11-24          33.63        3  \n2022-11-25           3.98        4  \n2022-11-26           0.00        5  \n2022-11-27           0.00        6  \n2022-11-28           0.00        0  \n\n[273 rows x 10 columns]",
      "text/html": "<div>\n<style scoped>\n    .dataframe tbody tr th:only-of-type {\n        vertical-align: middle;\n    }\n\n    .dataframe tbody tr th {\n        vertical-align: top;\n    }\n\n    .dataframe thead th {\n        text-align: right;\n    }\n</style>\n<table border=\"1\" class=\"dataframe\">\n  <thead>\n    <tr style=\"text-align: right;\">\n      <th></th>\n      <th>label_num_people_12_33</th>\n      <th>label_num_menus_sold</th>\n      <th>num_people_10_00</th>\n      <th>date</th>\n      <th>label_difference_12_normalized</th>\n      <th>label_difference_sold_normalized</th>\n      <th>zurich_vacation</th>\n      <th>Temperature</th>\n      <th>Rain Duration</th>\n      <th>weekday</th>\n    </tr>\n  </thead>\n  <tbody>\n    <tr>\n      <th>2022-03-01</th>\n      <td>152</td>\n      <td>NaN</td>\n      <td>144</td>\n      <td>2022-03-01</td>\n      <td>-0.055556</td>\n      <td>NaN</td>\n      <td>False</td>\n      <td>4.89</td>\n      <td>0.00</td>\n      <td>1</td>\n    </tr>\n    <tr>\n      <th>2022-03-02</th>\n      <td>154</td>\n      <td>NaN</td>\n      <td>153</td>\n      <td>2022-03-02</td>\n      <td>-0.006536</td>\n      <td>NaN</td>\n      <td>False</td>\n      <td>7.89</td>\n      <td>0.00</td>\n      <td>2</td>\n    </tr>\n    <tr>\n      <th>2022-03-03</th>\n      <td>119</td>\n      <td>NaN</td>\n      <td>122</td>\n      <td>2022-03-03</td>\n      <td>0.024590</td>\n      <td>NaN</td>\n      <td>False</td>\n      <td>9.45</td>\n      <td>0.00</td>\n      <td>3</td>\n    </tr>\n    <tr>\n      <th>2022-03-04</th>\n      <td>62</td>\n      <td>NaN</td>\n      <td>86</td>\n      <td>2022-03-04</td>\n      <td>0.279070</td>\n      <td>NaN</td>\n      <td>False</td>\n      <td>6.94</td>\n      <td>0.00</td>\n      <td>4</td>\n    </tr>\n    <tr>\n      <th>2022-03-05</th>\n      <td>0</td>\n      <td>NaN</td>\n      <td>0</td>\n      <td>2022-03-05</td>\n      <td>NaN</td>\n      <td>NaN</td>\n      <td>False</td>\n      <td>4.29</td>\n      <td>0.00</td>\n      <td>5</td>\n    </tr>\n    <tr>\n      <th>...</th>\n      <td>...</td>\n      <td>...</td>\n      <td>...</td>\n      <td>...</td>\n      <td>...</td>\n      <td>...</td>\n      <td>...</td>\n      <td>...</td>\n      <td>...</td>\n      <td>...</td>\n    </tr>\n    <tr>\n      <th>2022-11-24</th>\n      <td>213</td>\n      <td>174.0</td>\n      <td>219</td>\n      <td>2022-11-24</td>\n      <td>0.027397</td>\n      <td>0.205479</td>\n      <td>False</td>\n      <td>9.11</td>\n      <td>33.63</td>\n      <td>3</td>\n    </tr>\n    <tr>\n      <th>2022-11-25</th>\n      <td>207</td>\n      <td>197.0</td>\n      <td>194</td>\n      <td>2022-11-25</td>\n      <td>-0.067010</td>\n      <td>-0.015464</td>\n      <td>False</td>\n      <td>8.37</td>\n      <td>3.98</td>\n      <td>4</td>\n    </tr>\n    <tr>\n      <th>2022-11-26</th>\n      <td>-5</td>\n      <td>NaN</td>\n      <td>-5</td>\n      <td>2022-11-26</td>\n      <td>-0.000000</td>\n      <td>NaN</td>\n      <td>False</td>\n      <td>7.80</td>\n      <td>0.00</td>\n      <td>5</td>\n    </tr>\n    <tr>\n      <th>2022-11-27</th>\n      <td>-1</td>\n      <td>NaN</td>\n      <td>0</td>\n      <td>2022-11-27</td>\n      <td>NaN</td>\n      <td>NaN</td>\n      <td>False</td>\n      <td>5.38</td>\n      <td>0.00</td>\n      <td>6</td>\n    </tr>\n    <tr>\n      <th>2022-11-28</th>\n      <td>170</td>\n      <td>NaN</td>\n      <td>195</td>\n      <td>2022-11-28</td>\n      <td>0.128205</td>\n      <td>NaN</td>\n      <td>False</td>\n      <td>9.06</td>\n      <td>0.00</td>\n      <td>0</td>\n    </tr>\n  </tbody>\n</table>\n<p>273 rows × 10 columns</p>\n</div>"
     },
     "execution_count": 112,
     "metadata": {},
     "output_type": "execute_result"
    }
   ],
   "source": [
    "features_by_date"
   ],
   "metadata": {
    "collapsed": false
   }
  },
  {
   "cell_type": "code",
   "execution_count": 113,
   "outputs": [],
   "source": [
    "zuehlke_days=[\n",
    "    date(year=2022,month=11,day=30),\n",
    "    date(year=2022,month=10,day=27),\n",
    "    date(year=2022,month=9,day=28),\n",
    "    date(year=2022,month=6,day=30),\n",
    "    date(year=2022,month=8,day=31),\n",
    "    date(year=2022,month=5,day=31),\n",
    "    date(year=2022,month=5,day=3),\n",
    "    date(year=2022,month=3,day=30)\n",
    "]\n"
   ],
   "metadata": {
    "collapsed": false
   }
  },
  {
   "cell_type": "code",
   "execution_count": 115,
   "outputs": [],
   "source": [
    "features_by_date['zuehlke_day']=features_by_date['date'].isin(zuehlke_days)"
   ],
   "metadata": {
    "collapsed": false
   }
  },
  {
   "cell_type": "code",
   "execution_count": 116,
   "outputs": [
    {
     "data": {
      "text/plain": "            label_num_people_12_33  label_num_menus_sold  num_people_10_00  \\\n2022-03-01                     152                   NaN               144   \n2022-03-02                     154                   NaN               153   \n2022-03-03                     119                   NaN               122   \n2022-03-04                      62                   NaN                86   \n2022-03-05                       0                   NaN                 0   \n...                            ...                   ...               ...   \n2022-11-24                     213                 174.0               219   \n2022-11-25                     207                 197.0               194   \n2022-11-26                      -5                   NaN                -5   \n2022-11-27                      -1                   NaN                 0   \n2022-11-28                     170                   NaN               195   \n\n                  date  label_difference_12_normalized  \\\n2022-03-01  2022-03-01                       -0.055556   \n2022-03-02  2022-03-02                       -0.006536   \n2022-03-03  2022-03-03                        0.024590   \n2022-03-04  2022-03-04                        0.279070   \n2022-03-05  2022-03-05                             NaN   \n...                ...                             ...   \n2022-11-24  2022-11-24                        0.027397   \n2022-11-25  2022-11-25                       -0.067010   \n2022-11-26  2022-11-26                       -0.000000   \n2022-11-27  2022-11-27                             NaN   \n2022-11-28  2022-11-28                        0.128205   \n\n            label_difference_sold_normalized  zurich_vacation  Temperature  \\\n2022-03-01                               NaN            False         4.89   \n2022-03-02                               NaN            False         7.89   \n2022-03-03                               NaN            False         9.45   \n2022-03-04                               NaN            False         6.94   \n2022-03-05                               NaN            False         4.29   \n...                                      ...              ...          ...   \n2022-11-24                          0.205479            False         9.11   \n2022-11-25                         -0.015464            False         8.37   \n2022-11-26                               NaN            False         7.80   \n2022-11-27                               NaN            False         5.38   \n2022-11-28                               NaN            False         9.06   \n\n            Rain Duration  weekday  zuehlke_day  \n2022-03-01           0.00        1        False  \n2022-03-02           0.00        2        False  \n2022-03-03           0.00        3        False  \n2022-03-04           0.00        4        False  \n2022-03-05           0.00        5        False  \n...                   ...      ...          ...  \n2022-11-24          33.63        3        False  \n2022-11-25           3.98        4        False  \n2022-11-26           0.00        5        False  \n2022-11-27           0.00        6        False  \n2022-11-28           0.00        0        False  \n\n[273 rows x 11 columns]",
      "text/html": "<div>\n<style scoped>\n    .dataframe tbody tr th:only-of-type {\n        vertical-align: middle;\n    }\n\n    .dataframe tbody tr th {\n        vertical-align: top;\n    }\n\n    .dataframe thead th {\n        text-align: right;\n    }\n</style>\n<table border=\"1\" class=\"dataframe\">\n  <thead>\n    <tr style=\"text-align: right;\">\n      <th></th>\n      <th>label_num_people_12_33</th>\n      <th>label_num_menus_sold</th>\n      <th>num_people_10_00</th>\n      <th>date</th>\n      <th>label_difference_12_normalized</th>\n      <th>label_difference_sold_normalized</th>\n      <th>zurich_vacation</th>\n      <th>Temperature</th>\n      <th>Rain Duration</th>\n      <th>weekday</th>\n      <th>zuehlke_day</th>\n    </tr>\n  </thead>\n  <tbody>\n    <tr>\n      <th>2022-03-01</th>\n      <td>152</td>\n      <td>NaN</td>\n      <td>144</td>\n      <td>2022-03-01</td>\n      <td>-0.055556</td>\n      <td>NaN</td>\n      <td>False</td>\n      <td>4.89</td>\n      <td>0.00</td>\n      <td>1</td>\n      <td>False</td>\n    </tr>\n    <tr>\n      <th>2022-03-02</th>\n      <td>154</td>\n      <td>NaN</td>\n      <td>153</td>\n      <td>2022-03-02</td>\n      <td>-0.006536</td>\n      <td>NaN</td>\n      <td>False</td>\n      <td>7.89</td>\n      <td>0.00</td>\n      <td>2</td>\n      <td>False</td>\n    </tr>\n    <tr>\n      <th>2022-03-03</th>\n      <td>119</td>\n      <td>NaN</td>\n      <td>122</td>\n      <td>2022-03-03</td>\n      <td>0.024590</td>\n      <td>NaN</td>\n      <td>False</td>\n      <td>9.45</td>\n      <td>0.00</td>\n      <td>3</td>\n      <td>False</td>\n    </tr>\n    <tr>\n      <th>2022-03-04</th>\n      <td>62</td>\n      <td>NaN</td>\n      <td>86</td>\n      <td>2022-03-04</td>\n      <td>0.279070</td>\n      <td>NaN</td>\n      <td>False</td>\n      <td>6.94</td>\n      <td>0.00</td>\n      <td>4</td>\n      <td>False</td>\n    </tr>\n    <tr>\n      <th>2022-03-05</th>\n      <td>0</td>\n      <td>NaN</td>\n      <td>0</td>\n      <td>2022-03-05</td>\n      <td>NaN</td>\n      <td>NaN</td>\n      <td>False</td>\n      <td>4.29</td>\n      <td>0.00</td>\n      <td>5</td>\n      <td>False</td>\n    </tr>\n    <tr>\n      <th>...</th>\n      <td>...</td>\n      <td>...</td>\n      <td>...</td>\n      <td>...</td>\n      <td>...</td>\n      <td>...</td>\n      <td>...</td>\n      <td>...</td>\n      <td>...</td>\n      <td>...</td>\n      <td>...</td>\n    </tr>\n    <tr>\n      <th>2022-11-24</th>\n      <td>213</td>\n      <td>174.0</td>\n      <td>219</td>\n      <td>2022-11-24</td>\n      <td>0.027397</td>\n      <td>0.205479</td>\n      <td>False</td>\n      <td>9.11</td>\n      <td>33.63</td>\n      <td>3</td>\n      <td>False</td>\n    </tr>\n    <tr>\n      <th>2022-11-25</th>\n      <td>207</td>\n      <td>197.0</td>\n      <td>194</td>\n      <td>2022-11-25</td>\n      <td>-0.067010</td>\n      <td>-0.015464</td>\n      <td>False</td>\n      <td>8.37</td>\n      <td>3.98</td>\n      <td>4</td>\n      <td>False</td>\n    </tr>\n    <tr>\n      <th>2022-11-26</th>\n      <td>-5</td>\n      <td>NaN</td>\n      <td>-5</td>\n      <td>2022-11-26</td>\n      <td>-0.000000</td>\n      <td>NaN</td>\n      <td>False</td>\n      <td>7.80</td>\n      <td>0.00</td>\n      <td>5</td>\n      <td>False</td>\n    </tr>\n    <tr>\n      <th>2022-11-27</th>\n      <td>-1</td>\n      <td>NaN</td>\n      <td>0</td>\n      <td>2022-11-27</td>\n      <td>NaN</td>\n      <td>NaN</td>\n      <td>False</td>\n      <td>5.38</td>\n      <td>0.00</td>\n      <td>6</td>\n      <td>False</td>\n    </tr>\n    <tr>\n      <th>2022-11-28</th>\n      <td>170</td>\n      <td>NaN</td>\n      <td>195</td>\n      <td>2022-11-28</td>\n      <td>0.128205</td>\n      <td>NaN</td>\n      <td>False</td>\n      <td>9.06</td>\n      <td>0.00</td>\n      <td>0</td>\n      <td>False</td>\n    </tr>\n  </tbody>\n</table>\n<p>273 rows × 11 columns</p>\n</div>"
     },
     "execution_count": 116,
     "metadata": {},
     "output_type": "execute_result"
    }
   ],
   "source": [
    "features_by_date"
   ],
   "metadata": {
    "collapsed": false
   }
  },
  {
   "cell_type": "code",
   "execution_count": null,
   "outputs": [],
   "source": [],
   "metadata": {
    "collapsed": false
   }
  }
 ],
 "metadata": {
  "kernelspec": {
   "display_name": "Python 3",
   "language": "python",
   "name": "python3"
  },
  "language_info": {
   "codemirror_mode": {
    "name": "ipython",
    "version": 2
   },
   "file_extension": ".py",
   "mimetype": "text/x-python",
   "name": "python",
   "nbconvert_exporter": "python",
   "pygments_lexer": "ipython2",
   "version": "2.7.6"
  }
 },
 "nbformat": 4,
 "nbformat_minor": 0
}
