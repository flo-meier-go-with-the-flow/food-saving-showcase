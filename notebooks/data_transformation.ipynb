{
 "cells": [
  {
   "cell_type": "code",
   "execution_count": 1,
   "metadata": {
    "collapsed": true
   },
   "outputs": [],
   "source": [
    "import pandas as pd\n",
    "import numpy as np\n",
    "import os\n",
    "import matplotlib as mpl\n",
    "import matplotlib.pyplot as plt\n",
    "\n",
    "csv_path=os.path.join('..', 'data', 'flow_counts.csv')\n",
    "df= pd.read_csv(csv_path)\n"
   ]
  },
  {
   "cell_type": "code",
   "execution_count": 2,
   "outputs": [
    {
     "data": {
      "text/plain": "       location_name           datetime  visitor_count_fw  \\\n0  Zürich, Schlieren  2022-02-28T23:00Z                 0   \n1  Zürich, Schlieren  2022-02-28T23:05Z                 0   \n2  Zürich, Schlieren  2022-02-28T23:10Z                 0   \n3  Zürich, Schlieren  2022-02-28T23:15Z                 0   \n4  Zürich, Schlieren  2022-02-28T23:20Z                 0   \n\n   visitor_count_fw_male  visitor_count_fw_female  visitor_count_bw  \\\n0                      0                        0                 0   \n1                      0                        0                 0   \n2                      0                        0                 0   \n3                      0                        0                 0   \n4                      0                        0                 0   \n\n   visitor_count_bw_male  visitor_count_bw_female  \n0                      0                        0  \n1                      0                        0  \n2                      0                        0  \n3                      0                        0  \n4                      0                        0  ",
      "text/html": "<div>\n<style scoped>\n    .dataframe tbody tr th:only-of-type {\n        vertical-align: middle;\n    }\n\n    .dataframe tbody tr th {\n        vertical-align: top;\n    }\n\n    .dataframe thead th {\n        text-align: right;\n    }\n</style>\n<table border=\"1\" class=\"dataframe\">\n  <thead>\n    <tr style=\"text-align: right;\">\n      <th></th>\n      <th>location_name</th>\n      <th>datetime</th>\n      <th>visitor_count_fw</th>\n      <th>visitor_count_fw_male</th>\n      <th>visitor_count_fw_female</th>\n      <th>visitor_count_bw</th>\n      <th>visitor_count_bw_male</th>\n      <th>visitor_count_bw_female</th>\n    </tr>\n  </thead>\n  <tbody>\n    <tr>\n      <th>0</th>\n      <td>Zürich, Schlieren</td>\n      <td>2022-02-28T23:00Z</td>\n      <td>0</td>\n      <td>0</td>\n      <td>0</td>\n      <td>0</td>\n      <td>0</td>\n      <td>0</td>\n    </tr>\n    <tr>\n      <th>1</th>\n      <td>Zürich, Schlieren</td>\n      <td>2022-02-28T23:05Z</td>\n      <td>0</td>\n      <td>0</td>\n      <td>0</td>\n      <td>0</td>\n      <td>0</td>\n      <td>0</td>\n    </tr>\n    <tr>\n      <th>2</th>\n      <td>Zürich, Schlieren</td>\n      <td>2022-02-28T23:10Z</td>\n      <td>0</td>\n      <td>0</td>\n      <td>0</td>\n      <td>0</td>\n      <td>0</td>\n      <td>0</td>\n    </tr>\n    <tr>\n      <th>3</th>\n      <td>Zürich, Schlieren</td>\n      <td>2022-02-28T23:15Z</td>\n      <td>0</td>\n      <td>0</td>\n      <td>0</td>\n      <td>0</td>\n      <td>0</td>\n      <td>0</td>\n    </tr>\n    <tr>\n      <th>4</th>\n      <td>Zürich, Schlieren</td>\n      <td>2022-02-28T23:20Z</td>\n      <td>0</td>\n      <td>0</td>\n      <td>0</td>\n      <td>0</td>\n      <td>0</td>\n      <td>0</td>\n    </tr>\n  </tbody>\n</table>\n</div>"
     },
     "execution_count": 2,
     "metadata": {},
     "output_type": "execute_result"
    }
   ],
   "source": [
    "df.head()"
   ],
   "metadata": {
    "collapsed": false
   }
  },
  {
   "cell_type": "code",
   "execution_count": null,
   "outputs": [],
   "source": [],
   "metadata": {
    "collapsed": false
   }
  }
 ],
 "metadata": {
  "kernelspec": {
   "display_name": "Python 3",
   "language": "python",
   "name": "python3"
  },
  "language_info": {
   "codemirror_mode": {
    "name": "ipython",
    "version": 2
   },
   "file_extension": ".py",
   "mimetype": "text/x-python",
   "name": "python",
   "nbconvert_exporter": "python",
   "pygments_lexer": "ipython2",
   "version": "2.7.6"
  }
 },
 "nbformat": 4,
 "nbformat_minor": 0
}
