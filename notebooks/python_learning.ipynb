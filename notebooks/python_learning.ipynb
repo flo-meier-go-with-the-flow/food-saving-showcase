{
 "cells": [
  {
   "cell_type": "code",
   "execution_count": 2,
   "metadata": {
    "collapsed": true
   },
   "outputs": [
    {
     "data": {
      "text/plain": "124"
     },
     "execution_count": 2,
     "metadata": {},
     "output_type": "execute_result"
    }
   ],
   "source": [
    "from datetime import date\n",
    "import os\n",
    "import pandas as pd\n",
    "import numpy as np\n",
    "day1=date(year=2022,month=5,day=23)\n",
    "day2=date(year=2022, month=9,day=24)\n",
    "(day2-day1).days\n",
    "\n",
    "\n"
   ]
  },
  {
   "cell_type": "code",
   "execution_count": 21,
   "outputs": [
    {
     "data": {
      "text/plain": "array([0., 0., 0., 0., 0., 0., 0., 0., 0., 0., 0., 0., 0., 0., 0., 0., 0.,\n       0., 0.])"
     },
     "execution_count": 21,
     "metadata": {},
     "output_type": "execute_result"
    }
   ],
   "source": [
    "a=[]\n",
    "a.append((1,2))\n",
    "a.append((2,3))\n",
    "c,d=np.mean(a,axis=0)\n",
    "a.append(np.zeros(19))\n",
    "a[2].shape\n",
    "np.zeros(19)"
   ],
   "metadata": {
    "collapsed": false
   }
  },
  {
   "cell_type": "code",
   "execution_count": 17,
   "outputs": [
    {
     "data": {
      "text/plain": "                  date  num_people_at_12_33  num_people_at_10_00  \\\n2022-03-01  2022-03-01                  152                  144   \n2022-03-02  2022-03-02                  154                  153   \n2022-03-03  2022-03-03                  119                  122   \n2022-03-04  2022-03-04                   62                   86   \n2022-03-05  2022-03-05                    0                    0   \n...                ...                  ...                  ...   \n2022-11-24  2022-11-24                  213                  219   \n2022-11-25  2022-11-25                  207                  194   \n2022-11-26  2022-11-26                   -5                   -5   \n2022-11-27  2022-11-27                   -1                    0   \n2022-11-28  2022-11-28                  170                  195   \n\n            num_people_at_11_30  normalized_difference_10_and_12  sold_menus  \\\n2022-03-01                  159                        -0.055556         NaN   \n2022-03-02                  160                        -0.006536         NaN   \n2022-03-03                  132                         0.024590         NaN   \n2022-03-04                   87                         0.279070         NaN   \n2022-03-05                    0                              NaN         NaN   \n...                         ...                              ...         ...   \n2022-11-24                  229                         0.027397       174.0   \n2022-11-25                  206                        -0.067010       197.0   \n2022-11-26                   -5                        -0.000000         NaN   \n2022-11-27                   -1                              NaN         NaN   \n2022-11-28                  191                         0.128205         NaN   \n\n            normalized_difference_10_and_sold_menus  \n2022-03-01                                      NaN  \n2022-03-02                                      NaN  \n2022-03-03                                      NaN  \n2022-03-04                                      NaN  \n2022-03-05                                      NaN  \n...                                             ...  \n2022-11-24                                 0.205479  \n2022-11-25                                -0.015464  \n2022-11-26                                      NaN  \n2022-11-27                                      NaN  \n2022-11-28                                      NaN  \n\n[273 rows x 7 columns]",
      "text/html": "<div>\n<style scoped>\n    .dataframe tbody tr th:only-of-type {\n        vertical-align: middle;\n    }\n\n    .dataframe tbody tr th {\n        vertical-align: top;\n    }\n\n    .dataframe thead th {\n        text-align: right;\n    }\n</style>\n<table border=\"1\" class=\"dataframe\">\n  <thead>\n    <tr style=\"text-align: right;\">\n      <th></th>\n      <th>date</th>\n      <th>num_people_at_12_33</th>\n      <th>num_people_at_10_00</th>\n      <th>num_people_at_11_30</th>\n      <th>normalized_difference_10_and_12</th>\n      <th>sold_menus</th>\n      <th>normalized_difference_10_and_sold_menus</th>\n    </tr>\n  </thead>\n  <tbody>\n    <tr>\n      <th>2022-03-01</th>\n      <td>2022-03-01</td>\n      <td>152</td>\n      <td>144</td>\n      <td>159</td>\n      <td>-0.055556</td>\n      <td>NaN</td>\n      <td>NaN</td>\n    </tr>\n    <tr>\n      <th>2022-03-02</th>\n      <td>2022-03-02</td>\n      <td>154</td>\n      <td>153</td>\n      <td>160</td>\n      <td>-0.006536</td>\n      <td>NaN</td>\n      <td>NaN</td>\n    </tr>\n    <tr>\n      <th>2022-03-03</th>\n      <td>2022-03-03</td>\n      <td>119</td>\n      <td>122</td>\n      <td>132</td>\n      <td>0.024590</td>\n      <td>NaN</td>\n      <td>NaN</td>\n    </tr>\n    <tr>\n      <th>2022-03-04</th>\n      <td>2022-03-04</td>\n      <td>62</td>\n      <td>86</td>\n      <td>87</td>\n      <td>0.279070</td>\n      <td>NaN</td>\n      <td>NaN</td>\n    </tr>\n    <tr>\n      <th>2022-03-05</th>\n      <td>2022-03-05</td>\n      <td>0</td>\n      <td>0</td>\n      <td>0</td>\n      <td>NaN</td>\n      <td>NaN</td>\n      <td>NaN</td>\n    </tr>\n    <tr>\n      <th>...</th>\n      <td>...</td>\n      <td>...</td>\n      <td>...</td>\n      <td>...</td>\n      <td>...</td>\n      <td>...</td>\n      <td>...</td>\n    </tr>\n    <tr>\n      <th>2022-11-24</th>\n      <td>2022-11-24</td>\n      <td>213</td>\n      <td>219</td>\n      <td>229</td>\n      <td>0.027397</td>\n      <td>174.0</td>\n      <td>0.205479</td>\n    </tr>\n    <tr>\n      <th>2022-11-25</th>\n      <td>2022-11-25</td>\n      <td>207</td>\n      <td>194</td>\n      <td>206</td>\n      <td>-0.067010</td>\n      <td>197.0</td>\n      <td>-0.015464</td>\n    </tr>\n    <tr>\n      <th>2022-11-26</th>\n      <td>2022-11-26</td>\n      <td>-5</td>\n      <td>-5</td>\n      <td>-5</td>\n      <td>-0.000000</td>\n      <td>NaN</td>\n      <td>NaN</td>\n    </tr>\n    <tr>\n      <th>2022-11-27</th>\n      <td>2022-11-27</td>\n      <td>-1</td>\n      <td>0</td>\n      <td>-1</td>\n      <td>NaN</td>\n      <td>NaN</td>\n      <td>NaN</td>\n    </tr>\n    <tr>\n      <th>2022-11-28</th>\n      <td>2022-11-28</td>\n      <td>170</td>\n      <td>195</td>\n      <td>191</td>\n      <td>0.128205</td>\n      <td>NaN</td>\n      <td>NaN</td>\n    </tr>\n  </tbody>\n</table>\n<p>273 rows × 7 columns</p>\n</div>"
     },
     "execution_count": 17,
     "metadata": {},
     "output_type": "execute_result"
    }
   ],
   "source": [
    "    pickle_path = os.path.join('..', 'data', 'num_people_by_date')\n",
    "    num_people_by_date = pd.read_pickle(pickle_path)\n",
    "    num_people_by_date"
   ],
   "metadata": {
    "collapsed": false
   }
  },
  {
   "cell_type": "code",
   "execution_count": 31,
   "outputs": [
    {
     "data": {
      "text/plain": "datetime.date(2022, 5, 23)"
     },
     "execution_count": 31,
     "metadata": {},
     "output_type": "execute_result"
    }
   ],
   "source": [
    "np.zeros(19)\n",
    "pickle_path = os.path.join('..', 'data', 'features_by_date')\n",
    "features_by_date = pd.read_pickle(pickle_path)\n",
    "features_by_date.loc[day1,'date']"
   ],
   "metadata": {
    "collapsed": false
   }
  },
  {
   "cell_type": "code",
   "execution_count": 23,
   "outputs": [],
   "source": [
    "import pickle\n",
    "with open(os.path.join('blabla', 'features.pkl'), 'wb') as file:\n",
    "    pickle.dump(features_by_date, file)"
   ],
   "metadata": {
    "collapsed": false
   }
  },
  {
   "cell_type": "code",
   "execution_count": 24,
   "outputs": [],
   "source": [
    "with open(os.path.join('blabla', 'features.pkl'), 'rb') as file:\n",
    "    # Call load method to deserialze\n",
    "    myvar = pickle.load(file)"
   ],
   "metadata": {
    "collapsed": false
   }
  },
  {
   "cell_type": "markdown",
   "source": [],
   "metadata": {
    "collapsed": false
   }
  },
  {
   "cell_type": "code",
   "execution_count": 25,
   "outputs": [
    {
     "data": {
      "text/plain": "                  date  num_people_10_00  label_num_people_12_33  \\\n2022-03-09  2022-03-09               131                     126   \n2022-03-10  2022-03-10               125                     107   \n2022-03-11  2022-03-11                55                      50   \n2022-03-14  2022-03-14               129                     133   \n2022-03-15  2022-03-15               144                     139   \n...                ...               ...                     ...   \n2022-11-21  2022-11-21               191                     190   \n2022-11-22  2022-11-22               235                     222   \n2022-11-23  2022-11-23               245                     222   \n2022-11-24  2022-11-24               219                     213   \n2022-11-25  2022-11-25               194                     207   \n\n            label_num_people_11_30  label_num_menus_sold  \\\n2022-03-09                     130                 103.0   \n2022-03-10                     128                  81.0   \n2022-03-11                      50                  30.0   \n2022-03-14                     137                 102.0   \n2022-03-15                     138                 114.0   \n...                            ...                   ...   \n2022-11-21                     198                 154.0   \n2022-11-22                     239                 187.0   \n2022-11-23                     246                 176.0   \n2022-11-24                     229                 174.0   \n2022-11-25                     206                 197.0   \n\n            label_difference_12_normalized  \\\n2022-03-09                        0.038168   \n2022-03-10                        0.144000   \n2022-03-11                        0.090909   \n2022-03-14                       -0.031008   \n2022-03-15                        0.034722   \n...                                    ...   \n2022-11-21                        0.005236   \n2022-11-22                        0.055319   \n2022-11-23                        0.093878   \n2022-11-24                        0.027397   \n2022-11-25                       -0.067010   \n\n            label_difference_10_and_sold_normalized  zurich_vacation  weekday  \\\n2022-03-09                                 0.213740                0        2   \n2022-03-10                                 0.352000                0        3   \n2022-03-11                                 0.454545                0        4   \n2022-03-14                                 0.209302                0        0   \n2022-03-15                                 0.208333                0        1   \n...                                             ...              ...      ...   \n2022-11-21                                 0.193717                0        0   \n2022-11-22                                 0.204255                0        1   \n2022-11-23                                 0.281633                0        2   \n2022-11-24                                 0.205479                0        3   \n2022-11-25                                -0.015464                0        4   \n\n            Monday  ...  Friday  Spring/Autumn  Summer  Winter  zuehlke_day  \\\n2022-03-09       0  ...       0              0       0       1            0   \n2022-03-10       0  ...       0              0       0       1            0   \n2022-03-11       0  ...       1              0       0       1            0   \n2022-03-14       1  ...       0              0       0       1            0   \n2022-03-15       0  ...       0              0       0       1            0   \n...            ...  ...     ...            ...     ...     ...          ...   \n2022-11-21       1  ...       0              0       0       1            0   \n2022-11-22       0  ...       0              0       0       1            0   \n2022-11-23       0  ...       0              0       0       1            0   \n2022-11-24       0  ...       0              0       0       1            0   \n2022-11-25       0  ...       1              0       0       1            0   \n\n            Temperature  temp_deviation  Rain Duration  Rain_half_discrete  \\\n2022-03-09         8.73           3.052           0.00           -2.590325   \n2022-03-10         9.32           3.217           0.00           -2.590325   \n2022-03-11        10.03           3.413           0.00           -2.590325   \n2022-03-14        11.88           3.938           0.00           -2.590325   \n2022-03-15         7.99          -0.322           0.00           16.043333   \n...                 ...             ...            ...                 ...   \n2022-11-21         9.08          -0.739           0.00           -2.590325   \n2022-11-22         7.79          -1.878           0.00           -2.590325   \n2022-11-23         7.84          -1.920           0.00           -2.590325   \n2022-11-24         9.11          -0.535          33.63           20.450000   \n2022-11-25         8.37          -1.077           3.98           12.633333   \n\n            Rain_binary  \n2022-03-09          0.0  \n2022-03-10          0.0  \n2022-03-11          0.0  \n2022-03-14          0.0  \n2022-03-15          1.0  \n...                 ...  \n2022-11-21          0.0  \n2022-11-22          0.0  \n2022-11-23          0.0  \n2022-11-24          1.0  \n2022-11-25          1.0  \n\n[180 rows x 23 columns]",
      "text/html": "<div>\n<style scoped>\n    .dataframe tbody tr th:only-of-type {\n        vertical-align: middle;\n    }\n\n    .dataframe tbody tr th {\n        vertical-align: top;\n    }\n\n    .dataframe thead th {\n        text-align: right;\n    }\n</style>\n<table border=\"1\" class=\"dataframe\">\n  <thead>\n    <tr style=\"text-align: right;\">\n      <th></th>\n      <th>date</th>\n      <th>num_people_10_00</th>\n      <th>label_num_people_12_33</th>\n      <th>label_num_people_11_30</th>\n      <th>label_num_menus_sold</th>\n      <th>label_difference_12_normalized</th>\n      <th>label_difference_10_and_sold_normalized</th>\n      <th>zurich_vacation</th>\n      <th>weekday</th>\n      <th>Monday</th>\n      <th>...</th>\n      <th>Friday</th>\n      <th>Spring/Autumn</th>\n      <th>Summer</th>\n      <th>Winter</th>\n      <th>zuehlke_day</th>\n      <th>Temperature</th>\n      <th>temp_deviation</th>\n      <th>Rain Duration</th>\n      <th>Rain_half_discrete</th>\n      <th>Rain_binary</th>\n    </tr>\n  </thead>\n  <tbody>\n    <tr>\n      <th>2022-03-09</th>\n      <td>2022-03-09</td>\n      <td>131</td>\n      <td>126</td>\n      <td>130</td>\n      <td>103.0</td>\n      <td>0.038168</td>\n      <td>0.213740</td>\n      <td>0</td>\n      <td>2</td>\n      <td>0</td>\n      <td>...</td>\n      <td>0</td>\n      <td>0</td>\n      <td>0</td>\n      <td>1</td>\n      <td>0</td>\n      <td>8.73</td>\n      <td>3.052</td>\n      <td>0.00</td>\n      <td>-2.590325</td>\n      <td>0.0</td>\n    </tr>\n    <tr>\n      <th>2022-03-10</th>\n      <td>2022-03-10</td>\n      <td>125</td>\n      <td>107</td>\n      <td>128</td>\n      <td>81.0</td>\n      <td>0.144000</td>\n      <td>0.352000</td>\n      <td>0</td>\n      <td>3</td>\n      <td>0</td>\n      <td>...</td>\n      <td>0</td>\n      <td>0</td>\n      <td>0</td>\n      <td>1</td>\n      <td>0</td>\n      <td>9.32</td>\n      <td>3.217</td>\n      <td>0.00</td>\n      <td>-2.590325</td>\n      <td>0.0</td>\n    </tr>\n    <tr>\n      <th>2022-03-11</th>\n      <td>2022-03-11</td>\n      <td>55</td>\n      <td>50</td>\n      <td>50</td>\n      <td>30.0</td>\n      <td>0.090909</td>\n      <td>0.454545</td>\n      <td>0</td>\n      <td>4</td>\n      <td>0</td>\n      <td>...</td>\n      <td>1</td>\n      <td>0</td>\n      <td>0</td>\n      <td>1</td>\n      <td>0</td>\n      <td>10.03</td>\n      <td>3.413</td>\n      <td>0.00</td>\n      <td>-2.590325</td>\n      <td>0.0</td>\n    </tr>\n    <tr>\n      <th>2022-03-14</th>\n      <td>2022-03-14</td>\n      <td>129</td>\n      <td>133</td>\n      <td>137</td>\n      <td>102.0</td>\n      <td>-0.031008</td>\n      <td>0.209302</td>\n      <td>0</td>\n      <td>0</td>\n      <td>1</td>\n      <td>...</td>\n      <td>0</td>\n      <td>0</td>\n      <td>0</td>\n      <td>1</td>\n      <td>0</td>\n      <td>11.88</td>\n      <td>3.938</td>\n      <td>0.00</td>\n      <td>-2.590325</td>\n      <td>0.0</td>\n    </tr>\n    <tr>\n      <th>2022-03-15</th>\n      <td>2022-03-15</td>\n      <td>144</td>\n      <td>139</td>\n      <td>138</td>\n      <td>114.0</td>\n      <td>0.034722</td>\n      <td>0.208333</td>\n      <td>0</td>\n      <td>1</td>\n      <td>0</td>\n      <td>...</td>\n      <td>0</td>\n      <td>0</td>\n      <td>0</td>\n      <td>1</td>\n      <td>0</td>\n      <td>7.99</td>\n      <td>-0.322</td>\n      <td>0.00</td>\n      <td>16.043333</td>\n      <td>1.0</td>\n    </tr>\n    <tr>\n      <th>...</th>\n      <td>...</td>\n      <td>...</td>\n      <td>...</td>\n      <td>...</td>\n      <td>...</td>\n      <td>...</td>\n      <td>...</td>\n      <td>...</td>\n      <td>...</td>\n      <td>...</td>\n      <td>...</td>\n      <td>...</td>\n      <td>...</td>\n      <td>...</td>\n      <td>...</td>\n      <td>...</td>\n      <td>...</td>\n      <td>...</td>\n      <td>...</td>\n      <td>...</td>\n      <td>...</td>\n    </tr>\n    <tr>\n      <th>2022-11-21</th>\n      <td>2022-11-21</td>\n      <td>191</td>\n      <td>190</td>\n      <td>198</td>\n      <td>154.0</td>\n      <td>0.005236</td>\n      <td>0.193717</td>\n      <td>0</td>\n      <td>0</td>\n      <td>1</td>\n      <td>...</td>\n      <td>0</td>\n      <td>0</td>\n      <td>0</td>\n      <td>1</td>\n      <td>0</td>\n      <td>9.08</td>\n      <td>-0.739</td>\n      <td>0.00</td>\n      <td>-2.590325</td>\n      <td>0.0</td>\n    </tr>\n    <tr>\n      <th>2022-11-22</th>\n      <td>2022-11-22</td>\n      <td>235</td>\n      <td>222</td>\n      <td>239</td>\n      <td>187.0</td>\n      <td>0.055319</td>\n      <td>0.204255</td>\n      <td>0</td>\n      <td>1</td>\n      <td>0</td>\n      <td>...</td>\n      <td>0</td>\n      <td>0</td>\n      <td>0</td>\n      <td>1</td>\n      <td>0</td>\n      <td>7.79</td>\n      <td>-1.878</td>\n      <td>0.00</td>\n      <td>-2.590325</td>\n      <td>0.0</td>\n    </tr>\n    <tr>\n      <th>2022-11-23</th>\n      <td>2022-11-23</td>\n      <td>245</td>\n      <td>222</td>\n      <td>246</td>\n      <td>176.0</td>\n      <td>0.093878</td>\n      <td>0.281633</td>\n      <td>0</td>\n      <td>2</td>\n      <td>0</td>\n      <td>...</td>\n      <td>0</td>\n      <td>0</td>\n      <td>0</td>\n      <td>1</td>\n      <td>0</td>\n      <td>7.84</td>\n      <td>-1.920</td>\n      <td>0.00</td>\n      <td>-2.590325</td>\n      <td>0.0</td>\n    </tr>\n    <tr>\n      <th>2022-11-24</th>\n      <td>2022-11-24</td>\n      <td>219</td>\n      <td>213</td>\n      <td>229</td>\n      <td>174.0</td>\n      <td>0.027397</td>\n      <td>0.205479</td>\n      <td>0</td>\n      <td>3</td>\n      <td>0</td>\n      <td>...</td>\n      <td>0</td>\n      <td>0</td>\n      <td>0</td>\n      <td>1</td>\n      <td>0</td>\n      <td>9.11</td>\n      <td>-0.535</td>\n      <td>33.63</td>\n      <td>20.450000</td>\n      <td>1.0</td>\n    </tr>\n    <tr>\n      <th>2022-11-25</th>\n      <td>2022-11-25</td>\n      <td>194</td>\n      <td>207</td>\n      <td>206</td>\n      <td>197.0</td>\n      <td>-0.067010</td>\n      <td>-0.015464</td>\n      <td>0</td>\n      <td>4</td>\n      <td>0</td>\n      <td>...</td>\n      <td>1</td>\n      <td>0</td>\n      <td>0</td>\n      <td>1</td>\n      <td>0</td>\n      <td>8.37</td>\n      <td>-1.077</td>\n      <td>3.98</td>\n      <td>12.633333</td>\n      <td>1.0</td>\n    </tr>\n  </tbody>\n</table>\n<p>180 rows × 23 columns</p>\n</div>"
     },
     "execution_count": 25,
     "metadata": {},
     "output_type": "execute_result"
    }
   ],
   "source": [
    "myvar"
   ],
   "metadata": {
    "collapsed": false
   }
  },
  {
   "cell_type": "code",
   "execution_count": 26,
   "outputs": [],
   "source": [
    "num_people_by_date['weekday']=num_people_by_date['date'].apply(date.weekday)"
   ],
   "metadata": {
    "collapsed": false
   }
  },
  {
   "cell_type": "code",
   "execution_count": 15,
   "outputs": [
    {
     "ename": "NameError",
     "evalue": "name 'num_people_by_date' is not defined",
     "output_type": "error",
     "traceback": [
      "\u001B[1;31m---------------------------------------------------------------------------\u001B[0m",
      "\u001B[1;31mNameError\u001B[0m                                 Traceback (most recent call last)",
      "Cell \u001B[1;32mIn[15], line 1\u001B[0m\n\u001B[1;32m----> 1\u001B[0m \u001B[43mnum_people_by_date\u001B[49m\n",
      "\u001B[1;31mNameError\u001B[0m: name 'num_people_by_date' is not defined"
     ]
    }
   ],
   "source": [
    "num_people_by_date"
   ],
   "metadata": {
    "collapsed": false
   }
  },
  {
   "cell_type": "code",
   "execution_count": 22,
   "outputs": [
    {
     "name": "stdout",
     "output_type": "stream",
     "text": [
      "0 a\n",
      "1 b\n"
     ]
    }
   ],
   "source": [
    "for i, j in enumerate(['a','b']):\n",
    "    print(i,j)"
   ],
   "metadata": {
    "collapsed": false
   }
  },
  {
   "cell_type": "code",
   "execution_count": null,
   "outputs": [],
   "source": [],
   "metadata": {
    "collapsed": false
   }
  }
 ],
 "metadata": {
  "kernelspec": {
   "display_name": "Python 3",
   "language": "python",
   "name": "python3"
  },
  "language_info": {
   "codemirror_mode": {
    "name": "ipython",
    "version": 2
   },
   "file_extension": ".py",
   "mimetype": "text/x-python",
   "name": "python",
   "nbconvert_exporter": "python",
   "pygments_lexer": "ipython2",
   "version": "2.7.6"
  }
 },
 "nbformat": 4,
 "nbformat_minor": 0
}
