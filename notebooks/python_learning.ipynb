{
 "cells": [
  {
   "cell_type": "code",
   "execution_count": 6,
   "metadata": {
    "collapsed": true
   },
   "outputs": [
    {
     "data": {
      "text/plain": "124"
     },
     "execution_count": 6,
     "metadata": {},
     "output_type": "execute_result"
    }
   ],
   "source": [
    "from datetime import date\n",
    "import os\n",
    "import pandas as pd\n",
    "day1=date(year=2022,month=5,day=23)\n",
    "day2=date(year=2022, month=9,day=24)\n",
    "(day2-day1).days\n",
    "\n",
    "\n"
   ]
  },
  {
   "cell_type": "code",
   "execution_count": 19,
   "outputs": [
    {
     "data": {
      "text/plain": "0"
     },
     "execution_count": 19,
     "metadata": {},
     "output_type": "execute_result"
    }
   ],
   "source": [
    "date.weekday(day1)"
   ],
   "metadata": {
    "collapsed": false
   }
  },
  {
   "cell_type": "code",
   "execution_count": 10,
   "outputs": [
    {
     "data": {
      "text/plain": "            num_people_at_12_33  num_people_at_10_00  difference_10_and_12  \\\n2022-03-01                  152                  144                    -8   \n2022-03-02                  154                  153                    -1   \n2022-03-03                  119                  122                     3   \n2022-03-04                   62                   86                    24   \n2022-03-05                    0                    0                     0   \n\n            normalized_difference_10_and_12  \n2022-03-01                        -0.055556  \n2022-03-02                        -0.006536  \n2022-03-03                         0.024590  \n2022-03-04                         0.279070  \n2022-03-05                              NaN  ",
      "text/html": "<div>\n<style scoped>\n    .dataframe tbody tr th:only-of-type {\n        vertical-align: middle;\n    }\n\n    .dataframe tbody tr th {\n        vertical-align: top;\n    }\n\n    .dataframe thead th {\n        text-align: right;\n    }\n</style>\n<table border=\"1\" class=\"dataframe\">\n  <thead>\n    <tr style=\"text-align: right;\">\n      <th></th>\n      <th>num_people_at_12_33</th>\n      <th>num_people_at_10_00</th>\n      <th>difference_10_and_12</th>\n      <th>normalized_difference_10_and_12</th>\n    </tr>\n  </thead>\n  <tbody>\n    <tr>\n      <th>2022-03-01</th>\n      <td>152</td>\n      <td>144</td>\n      <td>-8</td>\n      <td>-0.055556</td>\n    </tr>\n    <tr>\n      <th>2022-03-02</th>\n      <td>154</td>\n      <td>153</td>\n      <td>-1</td>\n      <td>-0.006536</td>\n    </tr>\n    <tr>\n      <th>2022-03-03</th>\n      <td>119</td>\n      <td>122</td>\n      <td>3</td>\n      <td>0.024590</td>\n    </tr>\n    <tr>\n      <th>2022-03-04</th>\n      <td>62</td>\n      <td>86</td>\n      <td>24</td>\n      <td>0.279070</td>\n    </tr>\n    <tr>\n      <th>2022-03-05</th>\n      <td>0</td>\n      <td>0</td>\n      <td>0</td>\n      <td>NaN</td>\n    </tr>\n  </tbody>\n</table>\n</div>"
     },
     "execution_count": 10,
     "metadata": {},
     "output_type": "execute_result"
    }
   ],
   "source": [
    "    pickle_path = os.path.join('..', 'data', 'num_people_by_date')\n",
    "    num_people_by_date = pd.read_pickle(pickle_path)\n",
    "    num_people_by_date.head()"
   ],
   "metadata": {
    "collapsed": false
   }
  },
  {
   "cell_type": "code",
   "execution_count": 28,
   "outputs": [
    {
     "data": {
      "text/plain": "Index(['num_people_at_12_33', 'num_people_at_10_00', 'difference_10_and_12',\n       'normalized_difference_10_and_12', 'date', 'weekday'],\n      dtype='object')"
     },
     "execution_count": 28,
     "metadata": {},
     "output_type": "execute_result"
    }
   ],
   "source": [
    "num_people_by_date.columns"
   ],
   "metadata": {
    "collapsed": false
   }
  },
  {
   "cell_type": "markdown",
   "source": [],
   "metadata": {
    "collapsed": false
   }
  },
  {
   "cell_type": "code",
   "execution_count": 22,
   "outputs": [],
   "source": [
    "num_people_by_date['date']=num_people_by_date.index"
   ],
   "metadata": {
    "collapsed": false
   }
  },
  {
   "cell_type": "code",
   "execution_count": 26,
   "outputs": [],
   "source": [
    "num_people_by_date['weekday']=num_people_by_date['date'].apply(date.weekday)"
   ],
   "metadata": {
    "collapsed": false
   }
  },
  {
   "cell_type": "code",
   "execution_count": 27,
   "outputs": [
    {
     "data": {
      "text/plain": "            num_people_at_12_33  num_people_at_10_00  difference_10_and_12  \\\n2022-03-01                  152                  144                    -8   \n2022-03-02                  154                  153                    -1   \n2022-03-03                  119                  122                     3   \n2022-03-04                   62                   86                    24   \n2022-03-05                    0                    0                     0   \n...                         ...                  ...                   ...   \n2022-11-24                  213                  219                     6   \n2022-11-25                  207                  194                   -13   \n2022-11-26                   -5                   -5                     0   \n2022-11-27                   -1                    0                     1   \n2022-11-28                  170                  195                    25   \n\n            normalized_difference_10_and_12        date  weekday  \n2022-03-01                        -0.055556  2022-03-01        1  \n2022-03-02                        -0.006536  2022-03-02        2  \n2022-03-03                         0.024590  2022-03-03        3  \n2022-03-04                         0.279070  2022-03-04        4  \n2022-03-05                              NaN  2022-03-05        5  \n...                                     ...         ...      ...  \n2022-11-24                         0.027397  2022-11-24        3  \n2022-11-25                        -0.067010  2022-11-25        4  \n2022-11-26                        -0.000000  2022-11-26        5  \n2022-11-27                              inf  2022-11-27        6  \n2022-11-28                         0.128205  2022-11-28        0  \n\n[273 rows x 6 columns]",
      "text/html": "<div>\n<style scoped>\n    .dataframe tbody tr th:only-of-type {\n        vertical-align: middle;\n    }\n\n    .dataframe tbody tr th {\n        vertical-align: top;\n    }\n\n    .dataframe thead th {\n        text-align: right;\n    }\n</style>\n<table border=\"1\" class=\"dataframe\">\n  <thead>\n    <tr style=\"text-align: right;\">\n      <th></th>\n      <th>num_people_at_12_33</th>\n      <th>num_people_at_10_00</th>\n      <th>difference_10_and_12</th>\n      <th>normalized_difference_10_and_12</th>\n      <th>date</th>\n      <th>weekday</th>\n    </tr>\n  </thead>\n  <tbody>\n    <tr>\n      <th>2022-03-01</th>\n      <td>152</td>\n      <td>144</td>\n      <td>-8</td>\n      <td>-0.055556</td>\n      <td>2022-03-01</td>\n      <td>1</td>\n    </tr>\n    <tr>\n      <th>2022-03-02</th>\n      <td>154</td>\n      <td>153</td>\n      <td>-1</td>\n      <td>-0.006536</td>\n      <td>2022-03-02</td>\n      <td>2</td>\n    </tr>\n    <tr>\n      <th>2022-03-03</th>\n      <td>119</td>\n      <td>122</td>\n      <td>3</td>\n      <td>0.024590</td>\n      <td>2022-03-03</td>\n      <td>3</td>\n    </tr>\n    <tr>\n      <th>2022-03-04</th>\n      <td>62</td>\n      <td>86</td>\n      <td>24</td>\n      <td>0.279070</td>\n      <td>2022-03-04</td>\n      <td>4</td>\n    </tr>\n    <tr>\n      <th>2022-03-05</th>\n      <td>0</td>\n      <td>0</td>\n      <td>0</td>\n      <td>NaN</td>\n      <td>2022-03-05</td>\n      <td>5</td>\n    </tr>\n    <tr>\n      <th>...</th>\n      <td>...</td>\n      <td>...</td>\n      <td>...</td>\n      <td>...</td>\n      <td>...</td>\n      <td>...</td>\n    </tr>\n    <tr>\n      <th>2022-11-24</th>\n      <td>213</td>\n      <td>219</td>\n      <td>6</td>\n      <td>0.027397</td>\n      <td>2022-11-24</td>\n      <td>3</td>\n    </tr>\n    <tr>\n      <th>2022-11-25</th>\n      <td>207</td>\n      <td>194</td>\n      <td>-13</td>\n      <td>-0.067010</td>\n      <td>2022-11-25</td>\n      <td>4</td>\n    </tr>\n    <tr>\n      <th>2022-11-26</th>\n      <td>-5</td>\n      <td>-5</td>\n      <td>0</td>\n      <td>-0.000000</td>\n      <td>2022-11-26</td>\n      <td>5</td>\n    </tr>\n    <tr>\n      <th>2022-11-27</th>\n      <td>-1</td>\n      <td>0</td>\n      <td>1</td>\n      <td>inf</td>\n      <td>2022-11-27</td>\n      <td>6</td>\n    </tr>\n    <tr>\n      <th>2022-11-28</th>\n      <td>170</td>\n      <td>195</td>\n      <td>25</td>\n      <td>0.128205</td>\n      <td>2022-11-28</td>\n      <td>0</td>\n    </tr>\n  </tbody>\n</table>\n<p>273 rows × 6 columns</p>\n</div>"
     },
     "execution_count": 27,
     "metadata": {},
     "output_type": "execute_result"
    }
   ],
   "source": [
    "num_people_by_date"
   ],
   "metadata": {
    "collapsed": false
   }
  },
  {
   "cell_type": "code",
   "execution_count": null,
   "outputs": [],
   "source": [],
   "metadata": {
    "collapsed": false
   }
  }
 ],
 "metadata": {
  "kernelspec": {
   "display_name": "Python 3",
   "language": "python",
   "name": "python3"
  },
  "language_info": {
   "codemirror_mode": {
    "name": "ipython",
    "version": 2
   },
   "file_extension": ".py",
   "mimetype": "text/x-python",
   "name": "python",
   "nbconvert_exporter": "python",
   "pygments_lexer": "ipython2",
   "version": "2.7.6"
  }
 },
 "nbformat": 4,
 "nbformat_minor": 0
}
