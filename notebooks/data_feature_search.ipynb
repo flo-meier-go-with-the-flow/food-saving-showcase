{
 "cells": [
  {
   "cell_type": "code",
   "execution_count": 61,
   "metadata": {
    "collapsed": true
   },
   "outputs": [
    {
     "data": {
      "text/plain": "            normalized_difference_10_and_12 num_people_at_10_00  \\\n                                       mean                mean   \nmonth_third                                                       \n0                                  0.070376          157.338710   \n1                                  0.062297          148.144928   \n2                                  0.080117          158.844828   \n\n            num_people_at_12_33  \n                           mean  \nmonth_third                      \n0                    146.096774  \n1                    138.043478  \n2                    146.224138  ",
      "text/html": "<div>\n<style scoped>\n    .dataframe tbody tr th:only-of-type {\n        vertical-align: middle;\n    }\n\n    .dataframe tbody tr th {\n        vertical-align: top;\n    }\n\n    .dataframe thead tr th {\n        text-align: left;\n    }\n\n    .dataframe thead tr:last-of-type th {\n        text-align: right;\n    }\n</style>\n<table border=\"1\" class=\"dataframe\">\n  <thead>\n    <tr>\n      <th></th>\n      <th>normalized_difference_10_and_12</th>\n      <th>num_people_at_10_00</th>\n      <th>num_people_at_12_33</th>\n    </tr>\n    <tr>\n      <th></th>\n      <th>mean</th>\n      <th>mean</th>\n      <th>mean</th>\n    </tr>\n    <tr>\n      <th>month_third</th>\n      <th></th>\n      <th></th>\n      <th></th>\n    </tr>\n  </thead>\n  <tbody>\n    <tr>\n      <th>0</th>\n      <td>0.070376</td>\n      <td>157.338710</td>\n      <td>146.096774</td>\n    </tr>\n    <tr>\n      <th>1</th>\n      <td>0.062297</td>\n      <td>148.144928</td>\n      <td>138.043478</td>\n    </tr>\n    <tr>\n      <th>2</th>\n      <td>0.080117</td>\n      <td>158.844828</td>\n      <td>146.224138</td>\n    </tr>\n  </tbody>\n</table>\n</div>"
     },
     "execution_count": 61,
     "metadata": {},
     "output_type": "execute_result"
    }
   ],
   "source": [
    "import pandas as pd\n",
    "import numpy as np\n",
    "import os\n",
    "import matplotlib as mpl\n",
    "import matplotlib.pyplot as plt\n",
    "from datetime import date, time, datetime\n",
    "\n",
    "\n",
    "pickle_path = os.path.join('..', 'data', 'num_people_by_date')\n",
    "num_people_by_date = pd.read_pickle(pickle_path)\n",
    "num_people_by_date['date'] = num_people_by_date.index\n",
    "num_people_by_date['weekday'] = num_people_by_date['date'].apply(date.weekday)\n",
    "num_people_by_date['month']=num_people_by_date.apply(lambda row: row['date'].month, axis=1)\n",
    "num_people_by_date['week_number']=num_people_by_date.apply(lambda row: round((row['date']- date(year=2022,month=1,day=1)).days/7), axis=1)\n",
    "zuehlke_days=[\n",
    "    date(year=2022,month=11,day=30),\n",
    "    date(year=2022,month=10,day=27),\n",
    "    date(year=2022,month=9,day=28),\n",
    "    date(year=2022,month=8,day=31),\n",
    "    date(year=2022,month=6,day=30),\n",
    "    date(year=2022,month=5,day=31),\n",
    "    date(year=2022,month=5,day=3),\n",
    "    date(year=2022,month=3,day=30)\n",
    "]\n",
    "num_people_by_date['zuehlke_day']=num_people_by_date.apply(lambda row: row['date'] in zuehlke_days, axis=1)\n",
    "num_people_by_date['month_third']=num_people_by_date.apply(lambda row: round((row['date'].day-5)/11), axis=1)\n",
    "num_people_workdays=num_people_by_date[num_people_by_date['num_people_at_12_33']>30]\n",
    "num_people_workdays[['month_third','normalized_difference_10_and_12','num_people_at_10_00','num_people_at_12_33']].groupby('month_third').aggregate(['mean'])\n"
   ]
  },
  {
   "cell_type": "code",
   "execution_count": 62,
   "outputs": [
    {
     "data": {
      "text/plain": "      month_third  normalized_difference_10_and_12  num_people_at_10_00  \\\nmean     0.978836                         0.070416           154.444444   \n\n      num_people_at_12_33  \nmean           143.195767  ",
      "text/html": "<div>\n<style scoped>\n    .dataframe tbody tr th:only-of-type {\n        vertical-align: middle;\n    }\n\n    .dataframe tbody tr th {\n        vertical-align: top;\n    }\n\n    .dataframe thead th {\n        text-align: right;\n    }\n</style>\n<table border=\"1\" class=\"dataframe\">\n  <thead>\n    <tr style=\"text-align: right;\">\n      <th></th>\n      <th>month_third</th>\n      <th>normalized_difference_10_and_12</th>\n      <th>num_people_at_10_00</th>\n      <th>num_people_at_12_33</th>\n    </tr>\n  </thead>\n  <tbody>\n    <tr>\n      <th>mean</th>\n      <td>0.978836</td>\n      <td>0.070416</td>\n      <td>154.444444</td>\n      <td>143.195767</td>\n    </tr>\n  </tbody>\n</table>\n</div>"
     },
     "execution_count": 62,
     "metadata": {},
     "output_type": "execute_result"
    }
   ],
   "source": [
    "num_people_workdays[['month_third','normalized_difference_10_and_12','num_people_at_10_00','num_people_at_12_33']].aggregate(['mean'])"
   ],
   "metadata": {
    "collapsed": false
   }
  },
  {
   "cell_type": "code",
   "execution_count": 59,
   "outputs": [
    {
     "data": {
      "text/plain": "        normalized_difference_10_and_12 num_people_at_10_00  \\\n                                   mean                mean   \nweekday                                                       \n0                              0.041189          150.916667   \n1                              0.096211          178.358974   \n2                              0.062453          186.589744   \n3                              0.075599          167.078947   \n4                              0.074734           85.810811   \n\n        num_people_at_12_33  \n                       mean  \nweekday                      \n0                144.027778  \n1                161.076923  \n2                173.871795  \n3                154.236842  \n4                 79.864865  ",
      "text/html": "<div>\n<style scoped>\n    .dataframe tbody tr th:only-of-type {\n        vertical-align: middle;\n    }\n\n    .dataframe tbody tr th {\n        vertical-align: top;\n    }\n\n    .dataframe thead tr th {\n        text-align: left;\n    }\n\n    .dataframe thead tr:last-of-type th {\n        text-align: right;\n    }\n</style>\n<table border=\"1\" class=\"dataframe\">\n  <thead>\n    <tr>\n      <th></th>\n      <th>normalized_difference_10_and_12</th>\n      <th>num_people_at_10_00</th>\n      <th>num_people_at_12_33</th>\n    </tr>\n    <tr>\n      <th></th>\n      <th>mean</th>\n      <th>mean</th>\n      <th>mean</th>\n    </tr>\n    <tr>\n      <th>weekday</th>\n      <th></th>\n      <th></th>\n      <th></th>\n    </tr>\n  </thead>\n  <tbody>\n    <tr>\n      <th>0</th>\n      <td>0.041189</td>\n      <td>150.916667</td>\n      <td>144.027778</td>\n    </tr>\n    <tr>\n      <th>1</th>\n      <td>0.096211</td>\n      <td>178.358974</td>\n      <td>161.076923</td>\n    </tr>\n    <tr>\n      <th>2</th>\n      <td>0.062453</td>\n      <td>186.589744</td>\n      <td>173.871795</td>\n    </tr>\n    <tr>\n      <th>3</th>\n      <td>0.075599</td>\n      <td>167.078947</td>\n      <td>154.236842</td>\n    </tr>\n    <tr>\n      <th>4</th>\n      <td>0.074734</td>\n      <td>85.810811</td>\n      <td>79.864865</td>\n    </tr>\n  </tbody>\n</table>\n</div>"
     },
     "execution_count": 59,
     "metadata": {},
     "output_type": "execute_result"
    }
   ],
   "source": [
    "num_people_workdays[['weekday','normalized_difference_10_and_12','num_people_at_10_00','num_people_at_12_33']].groupby('weekday').aggregate(['mean'])\n"
   ],
   "metadata": {
    "collapsed": false
   }
  },
  {
   "cell_type": "code",
   "execution_count": 45,
   "outputs": [
    {
     "data": {
      "text/plain": "      normalized_difference_10_and_12 num_people_at_10_00 num_people_at_12_33\n                                 mean                mean                mean\nmonth                                                                        \n3                            0.045450          127.869565          122.347826\n4                            0.073963          111.684211          103.894737\n5                            0.092206          128.900000          116.000000\n6                            0.062821          154.809524          145.333333\n7                            0.056660          131.952381          124.714286\n8                            0.078390          162.863636          149.590909\n9                            0.071917          177.454545          163.636364\n10                           0.082526          185.904762          170.285714\n11                           0.073248          206.800000          190.900000",
      "text/html": "<div>\n<style scoped>\n    .dataframe tbody tr th:only-of-type {\n        vertical-align: middle;\n    }\n\n    .dataframe tbody tr th {\n        vertical-align: top;\n    }\n\n    .dataframe thead tr th {\n        text-align: left;\n    }\n\n    .dataframe thead tr:last-of-type th {\n        text-align: right;\n    }\n</style>\n<table border=\"1\" class=\"dataframe\">\n  <thead>\n    <tr>\n      <th></th>\n      <th>normalized_difference_10_and_12</th>\n      <th>num_people_at_10_00</th>\n      <th>num_people_at_12_33</th>\n    </tr>\n    <tr>\n      <th></th>\n      <th>mean</th>\n      <th>mean</th>\n      <th>mean</th>\n    </tr>\n    <tr>\n      <th>month</th>\n      <th></th>\n      <th></th>\n      <th></th>\n    </tr>\n  </thead>\n  <tbody>\n    <tr>\n      <th>3</th>\n      <td>0.045450</td>\n      <td>127.869565</td>\n      <td>122.347826</td>\n    </tr>\n    <tr>\n      <th>4</th>\n      <td>0.073963</td>\n      <td>111.684211</td>\n      <td>103.894737</td>\n    </tr>\n    <tr>\n      <th>5</th>\n      <td>0.092206</td>\n      <td>128.900000</td>\n      <td>116.000000</td>\n    </tr>\n    <tr>\n      <th>6</th>\n      <td>0.062821</td>\n      <td>154.809524</td>\n      <td>145.333333</td>\n    </tr>\n    <tr>\n      <th>7</th>\n      <td>0.056660</td>\n      <td>131.952381</td>\n      <td>124.714286</td>\n    </tr>\n    <tr>\n      <th>8</th>\n      <td>0.078390</td>\n      <td>162.863636</td>\n      <td>149.590909</td>\n    </tr>\n    <tr>\n      <th>9</th>\n      <td>0.071917</td>\n      <td>177.454545</td>\n      <td>163.636364</td>\n    </tr>\n    <tr>\n      <th>10</th>\n      <td>0.082526</td>\n      <td>185.904762</td>\n      <td>170.285714</td>\n    </tr>\n    <tr>\n      <th>11</th>\n      <td>0.073248</td>\n      <td>206.800000</td>\n      <td>190.900000</td>\n    </tr>\n  </tbody>\n</table>\n</div>"
     },
     "execution_count": 45,
     "metadata": {},
     "output_type": "execute_result"
    }
   ],
   "source": [
    "num_people_workdays[['month','normalized_difference_10_and_12','num_people_at_10_00','num_people_at_12_33']].groupby('month').aggregate(['mean'])"
   ],
   "metadata": {
    "collapsed": false
   }
  },
  {
   "cell_type": "code",
   "execution_count": 44,
   "outputs": [
    {
     "data": {
      "text/plain": "            normalized_difference_10_and_12 num_people_at_10_00  \\\n                                       mean                mean   \nweek_number                                                       \n8                                 -0.055556              144.00   \n9                                  0.063141              127.40   \n10                                 0.055358              116.80   \n11                                 0.040874              119.60   \n12                                 0.048873              143.00   \n13                                 0.048072              134.40   \n14                                 0.090759              117.60   \n15                                 0.060808              105.00   \n16                                 0.055034               94.80   \n17                                 0.086475              141.60   \n18                                 0.135650              114.40   \n19                                 0.073934              112.40   \n20                                 0.064522              122.00   \n21                                 0.118145              154.00   \n22                                 0.040091              125.25   \n23                                 0.075982              152.40   \n24                                 0.074764              165.20   \n25                                 0.050030              154.60   \n26                                 0.065872              161.80   \n27                                 0.044828              157.60   \n28                                 0.061525              139.60   \n29                                 0.058420              118.20   \n30                                 0.059123              107.50   \n31                                 0.057059              137.60   \n32                                 0.081861              157.40   \n33                                 0.065496              170.00   \n34                                 0.112919              168.80   \n35                                 0.045234              190.60   \n36                                 0.070426              170.80   \n37                                 0.068967              184.20   \n38                                 0.080603              175.00   \n39                                 0.087262              194.00   \n40                                 0.111944              173.80   \n41                                 0.038833              168.20   \n42                                 0.097762              198.00   \n43                                 0.091818              208.60   \n44                                 0.075178              217.00   \n45                                 0.092432              204.20   \n46                                 0.077687              185.40   \n47                                 0.045617              213.25   \n\n            num_people_at_12_33  \n                           mean  \nweek_number                      \n8                    152.000000  \n9                    121.400000  \n10                   111.000000  \n11                   111.600000  \n12                   137.400000  \n13                   128.400000  \n14                   107.400000  \n15                    99.666667  \n16                    90.600000  \n17                   125.800000  \n18                   100.000000  \n19                   103.200000  \n20                   113.200000  \n21                   135.666667  \n22                   121.250000  \n23                   140.800000  \n24                   154.200000  \n25                   146.600000  \n26                   150.200000  \n27                   150.200000  \n28                   131.600000  \n29                   111.800000  \n30                   102.000000  \n31                   128.000000  \n32                   145.000000  \n33                   156.800000  \n34                   151.800000  \n35                   180.600000  \n36                   158.600000  \n37                   168.400000  \n38                   160.200000  \n39                   177.400000  \n40                   155.400000  \n41                   161.200000  \n42                   176.800000  \n43                   190.600000  \n44                   200.000000  \n45                   183.800000  \n46                   170.200000  \n47                   203.000000  ",
      "text/html": "<div>\n<style scoped>\n    .dataframe tbody tr th:only-of-type {\n        vertical-align: middle;\n    }\n\n    .dataframe tbody tr th {\n        vertical-align: top;\n    }\n\n    .dataframe thead tr th {\n        text-align: left;\n    }\n\n    .dataframe thead tr:last-of-type th {\n        text-align: right;\n    }\n</style>\n<table border=\"1\" class=\"dataframe\">\n  <thead>\n    <tr>\n      <th></th>\n      <th>normalized_difference_10_and_12</th>\n      <th>num_people_at_10_00</th>\n      <th>num_people_at_12_33</th>\n    </tr>\n    <tr>\n      <th></th>\n      <th>mean</th>\n      <th>mean</th>\n      <th>mean</th>\n    </tr>\n    <tr>\n      <th>week_number</th>\n      <th></th>\n      <th></th>\n      <th></th>\n    </tr>\n  </thead>\n  <tbody>\n    <tr>\n      <th>8</th>\n      <td>-0.055556</td>\n      <td>144.00</td>\n      <td>152.000000</td>\n    </tr>\n    <tr>\n      <th>9</th>\n      <td>0.063141</td>\n      <td>127.40</td>\n      <td>121.400000</td>\n    </tr>\n    <tr>\n      <th>10</th>\n      <td>0.055358</td>\n      <td>116.80</td>\n      <td>111.000000</td>\n    </tr>\n    <tr>\n      <th>11</th>\n      <td>0.040874</td>\n      <td>119.60</td>\n      <td>111.600000</td>\n    </tr>\n    <tr>\n      <th>12</th>\n      <td>0.048873</td>\n      <td>143.00</td>\n      <td>137.400000</td>\n    </tr>\n    <tr>\n      <th>13</th>\n      <td>0.048072</td>\n      <td>134.40</td>\n      <td>128.400000</td>\n    </tr>\n    <tr>\n      <th>14</th>\n      <td>0.090759</td>\n      <td>117.60</td>\n      <td>107.400000</td>\n    </tr>\n    <tr>\n      <th>15</th>\n      <td>0.060808</td>\n      <td>105.00</td>\n      <td>99.666667</td>\n    </tr>\n    <tr>\n      <th>16</th>\n      <td>0.055034</td>\n      <td>94.80</td>\n      <td>90.600000</td>\n    </tr>\n    <tr>\n      <th>17</th>\n      <td>0.086475</td>\n      <td>141.60</td>\n      <td>125.800000</td>\n    </tr>\n    <tr>\n      <th>18</th>\n      <td>0.135650</td>\n      <td>114.40</td>\n      <td>100.000000</td>\n    </tr>\n    <tr>\n      <th>19</th>\n      <td>0.073934</td>\n      <td>112.40</td>\n      <td>103.200000</td>\n    </tr>\n    <tr>\n      <th>20</th>\n      <td>0.064522</td>\n      <td>122.00</td>\n      <td>113.200000</td>\n    </tr>\n    <tr>\n      <th>21</th>\n      <td>0.118145</td>\n      <td>154.00</td>\n      <td>135.666667</td>\n    </tr>\n    <tr>\n      <th>22</th>\n      <td>0.040091</td>\n      <td>125.25</td>\n      <td>121.250000</td>\n    </tr>\n    <tr>\n      <th>23</th>\n      <td>0.075982</td>\n      <td>152.40</td>\n      <td>140.800000</td>\n    </tr>\n    <tr>\n      <th>24</th>\n      <td>0.074764</td>\n      <td>165.20</td>\n      <td>154.200000</td>\n    </tr>\n    <tr>\n      <th>25</th>\n      <td>0.050030</td>\n      <td>154.60</td>\n      <td>146.600000</td>\n    </tr>\n    <tr>\n      <th>26</th>\n      <td>0.065872</td>\n      <td>161.80</td>\n      <td>150.200000</td>\n    </tr>\n    <tr>\n      <th>27</th>\n      <td>0.044828</td>\n      <td>157.60</td>\n      <td>150.200000</td>\n    </tr>\n    <tr>\n      <th>28</th>\n      <td>0.061525</td>\n      <td>139.60</td>\n      <td>131.600000</td>\n    </tr>\n    <tr>\n      <th>29</th>\n      <td>0.058420</td>\n      <td>118.20</td>\n      <td>111.800000</td>\n    </tr>\n    <tr>\n      <th>30</th>\n      <td>0.059123</td>\n      <td>107.50</td>\n      <td>102.000000</td>\n    </tr>\n    <tr>\n      <th>31</th>\n      <td>0.057059</td>\n      <td>137.60</td>\n      <td>128.000000</td>\n    </tr>\n    <tr>\n      <th>32</th>\n      <td>0.081861</td>\n      <td>157.40</td>\n      <td>145.000000</td>\n    </tr>\n    <tr>\n      <th>33</th>\n      <td>0.065496</td>\n      <td>170.00</td>\n      <td>156.800000</td>\n    </tr>\n    <tr>\n      <th>34</th>\n      <td>0.112919</td>\n      <td>168.80</td>\n      <td>151.800000</td>\n    </tr>\n    <tr>\n      <th>35</th>\n      <td>0.045234</td>\n      <td>190.60</td>\n      <td>180.600000</td>\n    </tr>\n    <tr>\n      <th>36</th>\n      <td>0.070426</td>\n      <td>170.80</td>\n      <td>158.600000</td>\n    </tr>\n    <tr>\n      <th>37</th>\n      <td>0.068967</td>\n      <td>184.20</td>\n      <td>168.400000</td>\n    </tr>\n    <tr>\n      <th>38</th>\n      <td>0.080603</td>\n      <td>175.00</td>\n      <td>160.200000</td>\n    </tr>\n    <tr>\n      <th>39</th>\n      <td>0.087262</td>\n      <td>194.00</td>\n      <td>177.400000</td>\n    </tr>\n    <tr>\n      <th>40</th>\n      <td>0.111944</td>\n      <td>173.80</td>\n      <td>155.400000</td>\n    </tr>\n    <tr>\n      <th>41</th>\n      <td>0.038833</td>\n      <td>168.20</td>\n      <td>161.200000</td>\n    </tr>\n    <tr>\n      <th>42</th>\n      <td>0.097762</td>\n      <td>198.00</td>\n      <td>176.800000</td>\n    </tr>\n    <tr>\n      <th>43</th>\n      <td>0.091818</td>\n      <td>208.60</td>\n      <td>190.600000</td>\n    </tr>\n    <tr>\n      <th>44</th>\n      <td>0.075178</td>\n      <td>217.00</td>\n      <td>200.000000</td>\n    </tr>\n    <tr>\n      <th>45</th>\n      <td>0.092432</td>\n      <td>204.20</td>\n      <td>183.800000</td>\n    </tr>\n    <tr>\n      <th>46</th>\n      <td>0.077687</td>\n      <td>185.40</td>\n      <td>170.200000</td>\n    </tr>\n    <tr>\n      <th>47</th>\n      <td>0.045617</td>\n      <td>213.25</td>\n      <td>203.000000</td>\n    </tr>\n  </tbody>\n</table>\n</div>"
     },
     "execution_count": 44,
     "metadata": {},
     "output_type": "execute_result"
    }
   ],
   "source": [
    "num_people_workdays[['week_number','normalized_difference_10_and_12','num_people_at_10_00','num_people_at_12_33']].groupby('week_number').aggregate(['mean'])"
   ],
   "metadata": {
    "collapsed": false
   }
  },
  {
   "cell_type": "code",
   "execution_count": 57,
   "outputs": [
    {
     "data": {
      "text/plain": "            normalized_difference_10_and_12 num_people_at_10_00  \\\n                                       mean                mean   \nmonth_third                                                       \n0                                  0.070376          157.338710   \n1                                  0.062297          148.144928   \n2                                  0.080117          158.844828   \n\n            num_people_at_12_33  \n                           mean  \nmonth_third                      \n0                    146.096774  \n1                    138.043478  \n2                    146.224138  ",
      "text/html": "<div>\n<style scoped>\n    .dataframe tbody tr th:only-of-type {\n        vertical-align: middle;\n    }\n\n    .dataframe tbody tr th {\n        vertical-align: top;\n    }\n\n    .dataframe thead tr th {\n        text-align: left;\n    }\n\n    .dataframe thead tr:last-of-type th {\n        text-align: right;\n    }\n</style>\n<table border=\"1\" class=\"dataframe\">\n  <thead>\n    <tr>\n      <th></th>\n      <th>normalized_difference_10_and_12</th>\n      <th>num_people_at_10_00</th>\n      <th>num_people_at_12_33</th>\n    </tr>\n    <tr>\n      <th></th>\n      <th>mean</th>\n      <th>mean</th>\n      <th>mean</th>\n    </tr>\n    <tr>\n      <th>month_third</th>\n      <th></th>\n      <th></th>\n      <th></th>\n    </tr>\n  </thead>\n  <tbody>\n    <tr>\n      <th>0</th>\n      <td>0.070376</td>\n      <td>157.338710</td>\n      <td>146.096774</td>\n    </tr>\n    <tr>\n      <th>1</th>\n      <td>0.062297</td>\n      <td>148.144928</td>\n      <td>138.043478</td>\n    </tr>\n    <tr>\n      <th>2</th>\n      <td>0.080117</td>\n      <td>158.844828</td>\n      <td>146.224138</td>\n    </tr>\n  </tbody>\n</table>\n</div>"
     },
     "execution_count": 57,
     "metadata": {},
     "output_type": "execute_result"
    }
   ],
   "source": [],
   "metadata": {
    "collapsed": false
   }
  },
  {
   "cell_type": "code",
   "execution_count": 55,
   "outputs": [
    {
     "data": {
      "text/plain": "1"
     },
     "execution_count": 55,
     "metadata": {},
     "output_type": "execute_result"
    }
   ],
   "source": [
    "round(6/11)"
   ],
   "metadata": {
    "collapsed": false
   }
  },
  {
   "cell_type": "code",
   "execution_count": 43,
   "outputs": [
    {
     "name": "stderr",
     "output_type": "stream",
     "text": [
      "C:\\Users\\mefl\\AppData\\Local\\Temp\\ipykernel_29860\\3691938236.py:2: UserWarning: Boolean Series key will be reindexed to match DataFrame index.\n",
      "  num_people_workdays[num_people_by_date['weekday'].isin([1,2,3])][['zuehlke_day','normalized_difference_10_and_12','num_people_at_10_00','num_people_at_12_33']].groupby('zuehlke_day').aggregate(['mean'])\n"
     ]
    },
    {
     "data": {
      "text/plain": "            normalized_difference_10_and_12 num_people_at_10_00  \\\n                                       mean                mean   \nzuehlke_day                                                       \nFalse                              0.076368          173.972477   \nTrue                               0.105224          231.285714   \n\n            num_people_at_12_33  \n                           mean  \nzuehlke_day                      \nFalse                160.403670  \nTrue                 205.714286  ",
      "text/html": "<div>\n<style scoped>\n    .dataframe tbody tr th:only-of-type {\n        vertical-align: middle;\n    }\n\n    .dataframe tbody tr th {\n        vertical-align: top;\n    }\n\n    .dataframe thead tr th {\n        text-align: left;\n    }\n\n    .dataframe thead tr:last-of-type th {\n        text-align: right;\n    }\n</style>\n<table border=\"1\" class=\"dataframe\">\n  <thead>\n    <tr>\n      <th></th>\n      <th>normalized_difference_10_and_12</th>\n      <th>num_people_at_10_00</th>\n      <th>num_people_at_12_33</th>\n    </tr>\n    <tr>\n      <th></th>\n      <th>mean</th>\n      <th>mean</th>\n      <th>mean</th>\n    </tr>\n    <tr>\n      <th>zuehlke_day</th>\n      <th></th>\n      <th></th>\n      <th></th>\n    </tr>\n  </thead>\n  <tbody>\n    <tr>\n      <th>False</th>\n      <td>0.076368</td>\n      <td>173.972477</td>\n      <td>160.403670</td>\n    </tr>\n    <tr>\n      <th>True</th>\n      <td>0.105224</td>\n      <td>231.285714</td>\n      <td>205.714286</td>\n    </tr>\n  </tbody>\n</table>\n</div>"
     },
     "execution_count": 43,
     "metadata": {},
     "output_type": "execute_result"
    }
   ],
   "source": [
    "#take average only on Tue, Wed, Thu\n",
    "num_people_workdays[num_people_by_date['weekday'].isin([1,2,3])][['zuehlke_day','normalized_difference_10_and_12','num_people_at_10_00','num_people_at_12_33']].groupby('zuehlke_day').aggregate(['mean'])"
   ],
   "metadata": {
    "collapsed": false
   }
  },
  {
   "cell_type": "code",
   "execution_count": 42,
   "outputs": [
    {
     "name": "stderr",
     "output_type": "stream",
     "text": [
      "C:\\Users\\mefl\\AppData\\Local\\Temp\\ipykernel_29860\\2039332640.py:2: UserWarning: Boolean Series key will be reindexed to match DataFrame index.\n",
      "  num_people_workdays[num_people_by_date['weekday'].isin([1,2,3])][['zuehlke_day','num_people_at_12_33']].groupby('zuehlke_day').aggregate(['mean'])\n"
     ]
    },
    {
     "data": {
      "text/plain": "            num_people_at_12_33\n                           mean\nzuehlke_day                    \nFalse                160.403670\nTrue                 205.714286",
      "text/html": "<div>\n<style scoped>\n    .dataframe tbody tr th:only-of-type {\n        vertical-align: middle;\n    }\n\n    .dataframe tbody tr th {\n        vertical-align: top;\n    }\n\n    .dataframe thead tr th {\n        text-align: left;\n    }\n\n    .dataframe thead tr:last-of-type th {\n        text-align: right;\n    }\n</style>\n<table border=\"1\" class=\"dataframe\">\n  <thead>\n    <tr>\n      <th></th>\n      <th>num_people_at_12_33</th>\n    </tr>\n    <tr>\n      <th></th>\n      <th>mean</th>\n    </tr>\n    <tr>\n      <th>zuehlke_day</th>\n      <th></th>\n    </tr>\n  </thead>\n  <tbody>\n    <tr>\n      <th>False</th>\n      <td>160.403670</td>\n    </tr>\n    <tr>\n      <th>True</th>\n      <td>205.714286</td>\n    </tr>\n  </tbody>\n</table>\n</div>"
     },
     "execution_count": 42,
     "metadata": {},
     "output_type": "execute_result"
    }
   ],
   "source": [
    "#take average only on Tue, Wed, Thu\n",
    "num_people_workdays[num_people_by_date['weekday'].isin([1,2,3])][['zuehlke_day','num_people_at_12_33']].groupby('zuehlke_day').aggregate(['mean'])"
   ],
   "metadata": {
    "collapsed": false
   }
  },
  {
   "cell_type": "code",
   "execution_count": 33,
   "outputs": [
    {
     "data": {
      "text/plain": "False"
     },
     "execution_count": 33,
     "metadata": {},
     "output_type": "execute_result"
    }
   ],
   "source": [
    "zuehlke_days=[\n",
    "    date(year=2022,month=11,day=30),\n",
    "    date(year=2022,month=10,day=27),\n",
    "    date(year=2022,month=9,day=28),\n",
    "    date(year=2022,month=8,day=31),\n",
    "    date(year=2022,month=6,day=30),\n",
    "    date(year=2022,month=5,day=31),\n",
    "    date(year=2022,month=5,day=3),\n",
    "    date(year=2022,month=3,day=30)\n",
    "]\n",
    "ex_date in zuehlke_days"
   ],
   "metadata": {
    "collapsed": false
   }
  },
  {
   "cell_type": "code",
   "execution_count": 28,
   "outputs": [
    {
     "data": {
      "text/plain": "13"
     },
     "execution_count": 28,
     "metadata": {},
     "output_type": "execute_result"
    }
   ],
   "source": [
    "ex_date=date(year=2022,month=4,day=3)\n",
    "jan1=date(year=2022, month=1,day=1)\n",
    "round((ex_date- jan1).days / 7)\n",
    "\n"
   ],
   "metadata": {
    "collapsed": false
   }
  },
  {
   "cell_type": "code",
   "execution_count": null,
   "outputs": [],
   "source": [],
   "metadata": {
    "collapsed": false
   }
  }
 ],
 "metadata": {
  "kernelspec": {
   "display_name": "Python 3",
   "language": "python",
   "name": "python3"
  },
  "language_info": {
   "codemirror_mode": {
    "name": "ipython",
    "version": 2
   },
   "file_extension": ".py",
   "mimetype": "text/x-python",
   "name": "python",
   "nbconvert_exporter": "python",
   "pygments_lexer": "ipython2",
   "version": "2.7.6"
  }
 },
 "nbformat": 4,
 "nbformat_minor": 0
}
